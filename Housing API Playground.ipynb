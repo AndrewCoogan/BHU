{
 "cells": [
  {
   "cell_type": "code",
   "execution_count": 25,
   "metadata": {},
   "outputs": [],
   "source": [
    "import requests\n",
    "from retrying import retry\n",
    "from ediblepickle import checkpoint\n",
    "from urllib.parse import quote\n",
    "from keys import *"
   ]
  },
  {
   "cell_type": "code",
   "execution_count": 12,
   "metadata": {},
   "outputs": [],
   "source": [
    "keys = getKeys()"
   ]
  },
  {
   "cell_type": "code",
   "execution_count": 35,
   "metadata": {},
   "outputs": [],
   "source": [
    "def check_var_type(what, expected):\n",
    "    if not isinstance(what, expected):\n",
    "        return expected(what)\n",
    "    except:\n",
    "        raise Exception(f'Count not convert var to {str(expected)}')\n",
    "\n",
    "@retry(stop_max_attempt_number=5)\n",
    "@checkpoint(key=lambda args, kwargs: quote(args[0]) + '.pkl', work_dir='Saved Results/PropertyDetail/')\n",
    "def get_PropertyDetail(property_id : str) -> dict:\n",
    "    if not isinstance(property_id, str):\n",
    "        try:\n",
    "            property_id = str(property_id)\n",
    "        except:\n",
    "            raise Exception('Could not convert input to string.')\n",
    "\n",
    "    url = \"https://us-real-estate.p.rapidapi.com/v2/property-detail\"\n",
    "\n",
    "    querystring = {\"property_id\": property_id}\n",
    "\n",
    "    headers = {\n",
    "        \"X-RapidAPI-Key\": keys['USRealEstate'],\n",
    "        \"X-RapidAPI-Host\": \"us-real-estate.p.rapidapi.com\"\n",
    "    }\n",
    "\n",
    "    response = requests.request(\"GET\", url, headers=headers, params=querystring)\n",
    "    return response.json()\n",
    "\n",
    "\n",
    "def get_PropertyForSaleByZipcode(zipcode : str, limit : int = 1000) -> dict:\n",
    "\n",
    "    url = \"https://us-real-estate.p.rapidapi.com/v2/for-sale-by-zipcode\"\n",
    "\n",
    "    # We need to make a loop here and iterate the offset until we hit the end or the limit.\n",
    "    # This is going to take a lot of API calls.\n",
    "\n",
    "    querystring = {\n",
    "        \"zipcode\":zipcode,\n",
    "        \"offset\":\"0\",\n",
    "        \"limit\":\"42\"\n",
    "    }\n",
    "\n",
    "    headers = {\n",
    "        \"X-RapidAPI-Key\": keys['USRealEstate'],\n",
    "        \"X-RapidAPI-Host\": \"us-real-estate.p.rapidapi.com\"\n",
    "    }\n",
    "\n",
    "    response = requests.request(\"GET\", url, headers=headers, params=querystring)\n",
    "\n",
    "    print(response.text)"
   ]
  },
  {
   "cell_type": "code",
   "execution_count": 30,
   "metadata": {},
   "outputs": [
    {
     "output_type": "execute_result",
     "data": {
      "text/plain": "dict"
     },
     "metadata": {},
     "execution_count": 30
    }
   ],
   "source": [
    "tt = get_PropertyDetail('1')\n",
    "type(tt)"
   ]
  },
  {
   "cell_type": "code",
   "execution_count": 33,
   "metadata": {},
   "outputs": [
    {
     "output_type": "execute_result",
     "data": {
      "text/plain": "False"
     },
     "metadata": {},
     "execution_count": 33
    }
   ],
   "source": [
    "not isinstance(tt, dict)"
   ]
  },
  {
   "cell_type": "code",
   "execution_count": null,
   "metadata": {},
   "outputs": [],
   "source": []
  },
  {
   "cell_type": "code",
   "execution_count": 9,
   "metadata": {},
   "outputs": [],
   "source": []
  },
  {
   "cell_type": "code",
   "execution_count": 10,
   "metadata": {},
   "outputs": [],
   "source": []
  },
  {
   "cell_type": "code",
   "execution_count": null,
   "metadata": {},
   "outputs": [],
   "source": []
  }
 ],
 "metadata": {
  "kernelspec": {
   "display_name": "Python 3",
   "language": "python",
   "name": "python3"
  },
  "language_info": {
   "codemirror_mode": {
    "name": "ipython",
    "version": 3
   },
   "file_extension": ".py",
   "mimetype": "text/x-python",
   "name": "python",
   "nbconvert_exporter": "python",
   "pygments_lexer": "ipython3",
   "version": "3.7.4-final"
  }
 },
 "nbformat": 4,
 "nbformat_minor": 2
}