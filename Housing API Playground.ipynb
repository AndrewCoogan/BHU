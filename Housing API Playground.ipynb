{
 "cells": [
  {
   "cell_type": "code",
   "execution_count": 76,
   "metadata": {},
   "outputs": [],
   "source": [
    "import requests\n",
    "from retrying import retry\n",
    "from ediblepickle import checkpoint\n",
    "from urllib.parse import quote\n",
    "from typing import Union\n",
    "from keys import *"
   ]
  },
  {
   "cell_type": "code",
   "execution_count": 12,
   "metadata": {},
   "outputs": [],
   "source": [
    "keys = getKeys()"
   ]
  },
  {
   "cell_type": "code",
   "execution_count": 77,
   "metadata": {},
   "outputs": [],
   "source": [
    "@retry(stop_max_attempt_number=5)\n",
    "@checkpoint(key=lambda args, kwargs: quote(args[0]) + '.pkl', work_dir='Saved Results/PropertyDetail/')\n",
    "def get_PropertyDetail(property_id : str) -> dict:\n",
    "    if not isinstance(property_id, str):\n",
    "        try:\n",
    "            property_id = str(property_id)\n",
    "        except:\n",
    "            raise Exception('Could not convert input to string.')\n",
    "\n",
    "    url = \"https://us-real-estate.p.rapidapi.com/v2/property-detail\"\n",
    "\n",
    "    querystring = {\"property_id\": property_id}\n",
    "\n",
    "    headers = {\n",
    "        \"X-RapidAPI-Key\": keys['USRealEstate'],\n",
    "        \"X-RapidAPI-Host\": \"us-real-estate.p.rapidapi.com\"\n",
    "    }\n",
    "\n",
    "    response = requests.request(\"GET\", url, headers=headers, params=querystring)\n",
    "    return response.json()\n",
    "\n",
    "@retry(stop_max_attempt_number=5)\n",
    "def get_PropertyForSaleByZipcode(zipcode : str, \n",
    "        property_type : str = 'single_family',\n",
    "        limit : int = 1000\n",
    "    ) -> dict:\n",
    "\n",
    "    url = \"https://us-real-estate.p.rapidapi.com/v2/for-sale-by-zipcode\"\n",
    "\n",
    "    # We need to make a loop here and iterate the offset until we hit the end or the limit.\n",
    "    # This is going to take a lot of API calls.\n",
    "\n",
    "    offset = str(42)\n",
    "\n",
    "    '''\n",
    "    Other query string parameters:\n",
    "    sort = (default: relevant)|newest|lowest_price|highest_price|open_house_date|price_reduced_date|largest_sqft|lot_size|sold_date\n",
    "    price_min/max = $ USD\n",
    "    beds_min/max = #\n",
    "    bath_min/max = #\n",
    "    property_type = multi_family|single_family|mobile|land|farm (I think we should just use : 'single_family')\n",
    "    '''\n",
    "\n",
    "    querystring = {\n",
    "        \"zipcode\":zipcode,\n",
    "        \"offset\":\"0\",\n",
    "        \"limit\":int(limit),\n",
    "        \"property_type\":property_type\n",
    "    }\n",
    "\n",
    "    headers = {\n",
    "        \"X-RapidAPI-Key\": keys['USRealEstate'],\n",
    "        \"X-RapidAPI-Host\": \"us-real-estate.p.rapidapi.com\"\n",
    "    }\n",
    "\n",
    "    output = []\n",
    "\n",
    "    '''\n",
    "    while(True):\n",
    "        response = requests.request(\"GET\", url, headers=headers, params=querystring)\n",
    "        output.append(response.json())\n",
    "\n",
    "        if len(response)\n",
    "        '''\n",
    "\n",
    "    response = requests.request(\"GET\", url, headers=headers, params=querystring)\n",
    "    return response.json()\n",
    "\n",
    "def get_LocationSuggest(search_keyword : str, \n",
    "        return_all : bool = False\n",
    "    ) -> dict:\n",
    "\n",
    "    url = \"https://us-real-estate.p.rapidapi.com/location/suggest\"\n",
    "\n",
    "    querystring = {\"input\":search_keyword}\n",
    "\n",
    "    headers = {\n",
    "        \"X-RapidAPI-Key\": keys['USRealEstate'],\n",
    "        \"X-RapidAPI-Host\": \"us-real-estate.p.rapidapi.com\"\n",
    "    }\n",
    "\n",
    "    response = requests.request(\"GET\", url, headers=headers, params=querystring)\n",
    "    response_json = response.json()\n",
    "\n",
    "    return response_json if return_all else response_json['data'][0]"
   ]
  },
  {
   "cell_type": "code",
   "execution_count": 40,
   "metadata": {},
   "outputs": [
    {
     "output_type": "execute_result",
     "data": {
      "text/plain": "dict"
     },
     "metadata": {},
     "execution_count": 40
    }
   ],
   "source": [
    "tt = get_PropertyForSaleByZipcode(\"98144\")\n",
    "type(tt)"
   ]
  },
  {
   "cell_type": "code",
   "execution_count": 69,
   "metadata": {},
   "outputs": [
    {
     "output_type": "execute_result",
     "data": {
      "text/plain": "dict_keys(['total', 'count', 'results'])"
     },
     "metadata": {},
     "execution_count": 69
    }
   ],
   "source": [
    "#tt['data']['home_search']['results'] # This is the juicy housing details.\n",
    "#tt['data']['geo'] # Pulls in median listing price data for neighborig zip codes and major cities\n",
    "#tt['data']['home_search']['total'] # How many homes were returned, total number?\n",
    "#tt['data']['home_search']['count'] # Not sure how this works, how many are there?"
   ]
  },
  {
   "cell_type": "code",
   "execution_count": 71,
   "metadata": {},
   "outputs": [],
   "source": [
    "from geopy.geocoders import Nominatim\n",
    "geolocator = Nominatim(user_agent=\"geoapiExercises\")"
   ]
  },
  {
   "cell_type": "code",
   "execution_count": 74,
   "metadata": {},
   "outputs": [
    {
     "output_type": "execute_result",
     "data": {
      "text/plain": "Location(Chicago, Cook County, Illinois, United States, (41.8755616, -87.6244212, 0.0))"
     },
     "metadata": {},
     "execution_count": 74
    }
   ],
   "source": [
    "geolocator.geocode('Chicago')"
   ]
  },
  {
   "cell_type": "code",
   "execution_count": 81,
   "metadata": {},
   "outputs": [
    {
     "output_type": "error",
     "ename": "TypeError",
     "evalue": "isinstance() arg 2 must be a type or tuple of types",
     "traceback": [
      "\u001b[0;31m---------------------------------------------------------------------------\u001b[0m",
      "\u001b[0;31mTypeError\u001b[0m                                 Traceback (most recent call last)",
      "\u001b[0;32m<ipython-input-81-0350cb6d31c5>\u001b[0m in \u001b[0;36m<module>\u001b[0;34m\u001b[0m\n\u001b[0;32m----> 1\u001b[0;31m \u001b[0misinstance\u001b[0m\u001b[0;34m(\u001b[0m\u001b[0;32mNone\u001b[0m\u001b[0;34m,\u001b[0m \u001b[0;32mNone\u001b[0m\u001b[0;34m)\u001b[0m\u001b[0;34m\u001b[0m\u001b[0;34m\u001b[0m\u001b[0m\n\u001b[0m",
      "\u001b[0;31mTypeError\u001b[0m: isinstance() arg 2 must be a type or tuple of types"
     ]
    }
   ],
   "source": [
    "isinstance(None, None)"
   ]
  },
  {
   "cell_type": "code",
   "execution_count": null,
   "metadata": {},
   "outputs": [],
   "source": []
  },
  {
   "cell_type": "code",
   "execution_count": 9,
   "metadata": {},
   "outputs": [],
   "source": []
  },
  {
   "cell_type": "code",
   "execution_count": 10,
   "metadata": {},
   "outputs": [],
   "source": []
  },
  {
   "cell_type": "code",
   "execution_count": null,
   "metadata": {},
   "outputs": [],
   "source": []
  }
 ],
 "metadata": {
  "kernelspec": {
   "display_name": "Python 3",
   "language": "python",
   "name": "python3"
  },
  "language_info": {
   "codemirror_mode": {
    "name": "ipython",
    "version": 3
   },
   "file_extension": ".py",
   "mimetype": "text/x-python",
   "name": "python",
   "nbconvert_exporter": "python",
   "pygments_lexer": "ipython3",
   "version": "3.7.4-final"
  }
 },
 "nbformat": 4,
 "nbformat_minor": 2
}