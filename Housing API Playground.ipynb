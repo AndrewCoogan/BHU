{
 "cells": [
  {
   "cell_type": "code",
   "execution_count": 5,
   "metadata": {},
   "outputs": [],
   "source": [
    "import requests\n",
    "from retrying import retry\n",
    "from ediblepickle import checkpoint\n",
    "from urllib.parse import quote\n",
    "from typing import Union\n",
    "from datetime import datetime\n",
    "from keys import *"
   ]
  },
  {
   "cell_type": "code",
   "execution_count": 6,
   "metadata": {},
   "outputs": [],
   "source": [
    "keys = getKeys()"
   ]
  },
  {
   "cell_type": "code",
   "execution_count": 7,
   "metadata": {},
   "outputs": [],
   "source": [
    "@retry(stop_max_attempt_number=5)\n",
    "@checkpoint(key=lambda args, kwargs: quote(args[0]) + '.pkl', work_dir='Saved Results/PropertyDetail/')\n",
    "def get_PropertyDetail(property_id : str) -> dict:\n",
    "    if not isinstance(property_id, str):\n",
    "        try:\n",
    "            property_id = str(property_id)\n",
    "        except:\n",
    "            raise Exception('Could not convert input to string.')\n",
    "\n",
    "    url = \"https://us-real-estate.p.rapidapi.com/v2/property-detail\"\n",
    "\n",
    "    querystring = {\n",
    "        \"property_id\": property_id\n",
    "    }\n",
    "\n",
    "    headers = {\n",
    "        \"X-RapidAPI-Key\": keys['USRealEstate'],\n",
    "        \"X-RapidAPI-Host\": \"us-real-estate.p.rapidapi.com\"\n",
    "    }\n",
    "\n",
    "    response = requests.request(\"GET\", url, headers=headers, params=querystring)\n",
    "    return response.json()\n",
    "\n",
    "@retry(stop_max_attempt_number=5)\n",
    "def get_PropertyForSaleByZipcode(zipcode : str, \n",
    "        property_type : str = 'single_family',\n",
    "        n_results : int = 100\n",
    "    ) -> dict:\n",
    "\n",
    "    url = \"https://us-real-estate.p.rapidapi.com/v2/for-sale-by-zipcode\"\n",
    "\n",
    "    # We need to make a loop here and iterate the offset until we hit the end or the limit.\n",
    "    # This is going to take a lot of API calls.\n",
    "\n",
    "    # This can be increased to 200 once we get the paid plan.\n",
    "    limit = min(42, n_results)\n",
    "\n",
    "    '''\n",
    "    Other query string parameters:\n",
    "    sort = (default: relevant)|newest|lowest_price|highest_price|open_house_date|price_reduced_date|largest_sqft|lot_size|sold_date\n",
    "    price_min/max = $ USD\n",
    "    beds_min/max = #\n",
    "    bath_min/max = #\n",
    "    property_type = multi_family|single_family|mobile|land|farm (I think we should just use : 'single_family')\n",
    "    '''\n",
    "\n",
    "    querystring = {\n",
    "        \"zipcode\":zipcode,\n",
    "        \"offset\":\"0\",\n",
    "        \"limit\":str(limit),\n",
    "        \"property_type\":property_type\n",
    "    }\n",
    "\n",
    "    headers = {\n",
    "        \"X-RapidAPI-Key\": keys['USRealEstate'],\n",
    "        \"X-RapidAPI-Host\": \"us-real-estate.p.rapidapi.com\"\n",
    "    }\n",
    "\n",
    "    output = []\n",
    "\n",
    "    '''\n",
    "    while(True):\n",
    "        response = requests.request(\"GET\", url, headers=headers, params=querystring)\n",
    "        output.append(response.json())\n",
    "\n",
    "        if len(response) < limit\n",
    "    '''\n",
    "\n",
    "    response = requests.request(\"GET\", url, headers=headers, params=querystring)\n",
    "    return response.json()\n",
    "\n",
    "@retry(stop_max_attempt_number=5)\n",
    "def get_PropertySoldByZipcode(zipcode : str, \n",
    "        n_results : int,\n",
    "        property_type : str = 'single_family'\n",
    "    ) -> dict:\n",
    "    \n",
    "    '''\n",
    "    NOTE: This does not seem to have a limit arguement. I do not know how this works with offset?\n",
    "    '''\n",
    "\n",
    "    url = \"https://us-real-estate.p.rapidapi.com/v2/sold-homes-by-zipcode\"\n",
    "\n",
    "    # This can be increased to 200 once we get the paid plan.\n",
    "    offset = str(42)\n",
    "\n",
    "    '''\n",
    "    Other query string parameters:\n",
    "    sort = (default: relevant)|newest|lowest_price|highest_price|open_house_date|price_reduced_date|largest_sqft|lot_size|sold_date\n",
    "    price_min/max = $ USD\n",
    "    beds_min/max = #\n",
    "    bath_min/max = #\n",
    "    property_type = multi_family|single_family|mobile|land|farm (I think we should just use : 'single_family')\n",
    "    '''\n",
    "\n",
    "    querystring = {\n",
    "        \"zipcode\":zipcode,\n",
    "        \"offset\":offset,\n",
    "        \"property_type\":property_type\n",
    "    }\n",
    "\n",
    "    headers = {\n",
    "        \"X-RapidAPI-Key\": keys['USRealEstate'],\n",
    "        \"X-RapidAPI-Host\": \"us-real-estate.p.rapidapi.com\"\n",
    "    }\n",
    "\n",
    "    output = []\n",
    "\n",
    "    '''\n",
    "    while(True):\n",
    "        response = requests.request(\"GET\", url, headers=headers, params=querystring)\n",
    "        output.append(response.json())\n",
    "\n",
    "        if len(response) < limit\n",
    "        '''\n",
    "\n",
    "    response = requests.request(\"GET\", url, headers=headers, params=querystring)\n",
    "    return response.json()\n",
    "\n",
    "def get_LocationSuggest(search_keyword : str, \n",
    "        return_all : bool = False\n",
    "    ) -> dict:\n",
    "\n",
    "    url = \"https://us-real-estate.p.rapidapi.com/location/suggest\"\n",
    "\n",
    "    querystring = {\"input\":search_keyword}\n",
    "\n",
    "    headers = {\n",
    "        \"X-RapidAPI-Key\": keys['USRealEstate'],\n",
    "        \"X-RapidAPI-Host\": \"us-real-estate.p.rapidapi.com\"\n",
    "    }\n",
    "\n",
    "    response = requests.request(\"GET\", url, headers=headers, params=querystring)\n",
    "    response_json = response.json()\n",
    "\n",
    "    return response_json if return_all else response_json['data'][0]\n",
    "\n",
    "def get_PropertyForSaleByArea(\n",
    "        city : str = '',\n",
    "        state : str = '',\n",
    "        n_results : int = 100 # How many houses do you want to get back.\n",
    "    ) -> dict:\n",
    "\n",
    "    # This can be increased to 200 once we move to the paid version.\n",
    "    limit = min(42, n_results)\n",
    "\n",
    "    url = \"https://us-real-estate.p.rapidapi.com/v2/for-sale\"\n",
    "\n",
    "    querystring = {\n",
    "        \"state_code\":state,\n",
    "        \"city\":city,\n",
    "        \"offset\":\"0\",\n",
    "        \"limit\":str(limit),\n",
    "        \"sort\":\"newest\"\n",
    "    }\n",
    "\n",
    "    headers = {\n",
    "        \"X-RapidAPI-Key\": keys['USRealEstate'],\n",
    "        \"X-RapidAPI-Host\": \"us-real-estate.p.rapidapi.com\"\n",
    "    }\n",
    "\n",
    "    '''\n",
    "    output = []\n",
    "\n",
    "    while(n_results > 0):\n",
    "        response = requests.request(\"GET\", url, headers=headers, params=querystring).json()\n",
    "        output.append(response)\n",
    "\n",
    "        if len(response) < limit:\n",
    "            # This means there is nothing left to reply with\n",
    "            n_results = 0\n",
    "        '''\n",
    "\n",
    "    response = requests.request(\"GET\", url, headers=headers, params=querystring).json()\n",
    "    total_houses_available = int(response['data']['home_search']['total'])\n",
    "    total_houses_in_request = int(response['data']['home_search']['count'])\n",
    "\n",
    "    return response"
   ]
  },
  {
   "cell_type": "code",
   "execution_count": 86,
   "metadata": {},
   "outputs": [],
   "source": [
    "tt = get_LocationSuggest('Seattle', return_all=False)"
   ]
  },
  {
   "cell_type": "code",
   "execution_count": 8,
   "metadata": {},
   "outputs": [],
   "source": [
    "tt = get_PropertyForSaleByArea(city='seattle', state='WA')"
   ]
  },
  {
   "cell_type": "code",
   "execution_count": 60,
   "metadata": {},
   "outputs": [
    {
     "output_type": "execute_result",
     "data": {
      "text/plain": "dict_keys(['parents', 'recommended_zips', 'recommended_cities', 'recommended_counties', 'geo_statistics', 'recommended_neighborhoods'])"
     },
     "metadata": {},
     "execution_count": 60
    }
   ],
   "source": [
    "#tt['data']['home_search']['results'] # This is the juicy housing details.\n",
    "#tt['data']['geo'] # Pulls in median listing price data for neighborig zip codes and major cities\n",
    "tt['data']['geo'].keys()# has some solid month to month analysis."
   ]
  },
  {
   "cell_type": "code",
   "execution_count": 109,
   "metadata": {},
   "outputs": [
    {
     "output_type": "execute_result",
     "data": {
      "text/plain": "{'housing_market': {'month_to_month': {'median_days_on_market_percent_change': 10,\n   'median_listing_price_percent_change': -2.93,\n   'active_listing_count_percent_change': -13.49,\n   'median_listing_price_sqft_percent_change': -0.48},\n  'median_days_on_market': 44,\n  'median_sold_price': 820000,\n  'median_price_per_sqft': 574,\n  'median_listing_price': 825000,\n  'listing_count': 1589,\n  'by_prop_type': [{'attributes': {'median_sold_price': 811250,\n     'median_listing_price': 814000,\n     'median_days_on_market': 43,\n     'median_lot_size': 4650,\n     'median_price_per_sqft': 576},\n    'type': 'home'}],\n  'median_rent_price': 2795}}"
     },
     "metadata": {},
     "execution_count": 109
    }
   ],
   "source": [
    "tt['data']['geo']['geo_statistics']"
   ]
  },
  {
   "cell_type": "code",
   "execution_count": 111,
   "metadata": {},
   "outputs": [],
   "source": [
    "# This will be taking in the following: tt['data']['geo']\n",
    "class geo_data():\n",
    "    '''\n",
    "    This is going to be used to organize the meta information about each query.\n",
    "    I need to think where it is most appropriate to do this.\n",
    "    '''\n",
    "    def __init__(self, stats : dict):\n",
    "        self.zip_info = self._parse_areas(stats.get('recommended_zips', {}).get('geos'))\n",
    "        self.city_info = self._parse_areas(stats.get('recommended_cities', {}).get('geos'))\n",
    "        self.county_info = self._parse_areas(stats['recommended_counties']['geos'])\n",
    "        self.neighborhood_info = self._parse_areas(stats['recommended_neighborhoods']['geos'])\n",
    "        self.market_stats = self._parse_statistics(stats.get('geo_statistics', {}).get('housing_market'))\n",
    "\n",
    "    def _parse_areas(self, geos : dict) -> dict:\n",
    "        return None if geos is None else {\n",
    "            v.get(v.get('geo_type', 'slug_id'), '_parse_areas_FAILED') : {\n",
    "                'slug_id' : v.get('slug_id'),\n",
    "                'median_listing_price' : v.get('geo_statistics', {}).get('housing_market', {}).get('median_listing_price'),\n",
    "                'state_code' : v.get('state_code'),\n",
    "                'city_code' : v.get('city'),\n",
    "                'geo_type' : v.get('geo_type')\n",
    "            } for v in geos\n",
    "        }\n",
    "    \n",
    "    def _parse_statistics(self, geo_stats : dict) -> dict:\n",
    "        return None if geo_statistics is None else {\n",
    "            'median_sold_price' : geo_stats.get('median_sold_price'),\n",
    "            'median_days_on_market' : geo_stats.get('median_days_on_market'),\n",
    "            'median_price_per_sqft' : geo_stats.get('median_price_per_sqft')\n",
    "        }"
   ]
  },
  {
   "cell_type": "code",
   "execution_count": 45,
   "metadata": {},
   "outputs": [],
   "source": [
    "# This will be taking in the following: tt['data']['home_search']['results'][n]\n",
    "class house():\n",
    "    '''\n",
    "    This is going to be the class that houses (hehe) all the house data. Each house will have its own instance.\n",
    "    When we use the API, there is a lot of data reutned nested in a number of dictionaries. This will take the 'juicy' bit.\n",
    "    The idea for this class is that it will hold all the needed info for:\n",
    "         1) the GUI, address, google street view, other photos. This will probably be a flask application to start, but we are far from even thinking about that.\n",
    "         2) the MODEL, tags, list_prices, other flags. What if we created a word cloud and have the user select key words for their house until they have selected some flat number or % contribution to model from the tags TBD. There will be dates there, we will use days old (or something similar) for the model training, while the actual took will use zero, as the user is entering 100% correct info. This may or may not be a good idea, as it might have unintended implications within the model.\n",
    "\n",
    "    Interior functions:\n",
    "        Date Cleaning\n",
    "        Location Cleaning\n",
    "        Description Cleaning\n",
    "    '''\n",
    "    def __init__(self, listing : list):\n",
    "        self.reference_info = { # This is stuff not going into the model\n",
    "            'id' : listing['property_id'],\n",
    "            'photos' : list(set([listing['primary_photo']['href']] + [l['href'] for l in listing['photos']]))\n",
    "        }\n",
    "\n",
    "        self.raw_last_update = listing['last_update_date']\n",
    "        self.raw_list_date = listing['list_date']\n",
    "        self.tags = listing['tags'] # This one will be weird, might need to wrap in nlp somehow with this, maybe not, just dummy it\n",
    "        self.list_price = listing['list_price']\n",
    "        self.new_construction = False if listing['flags']['is_new_construction'] is None else True\n",
    "\n",
    "        self.raw_location = listing['location']\n",
    "        self.raw_description = listing['description']\n",
    "\n",
    "        self._clean_dates()\n",
    "        self._clean_location()\n",
    "        self._clean_description()\n",
    "        \n",
    "    def _convert_date(self, date : str):\n",
    "        return datetime.strptime(date, '%Y-%m-%d')\n",
    "    \n",
    "    def _clean_dates(self):\n",
    "        last_update_date_parsed = self.raw_last_update.split('T')\n",
    "        list_date_parsed = self.raw_list_date.split('T')\n",
    "        self.last_update = self._convert_date(last_update_date_parsed[0]) if len(last_update_date_parsed) == 2 else None\n",
    "        self.list_date = self._convert_date(list_date_parsed[0]) if len(list_date_parsed) == 2 else None\n",
    "\n",
    "    def _clean_location(self):\n",
    "        self.reference_info.update({\n",
    "            'zip_code' : self.raw_location.get('address', {}).get('postal_code'),\n",
    "            'state' : self.raw_location.get('address', {}).get('state'),\n",
    "            'google_map_street_view' : self.raw_location.get('street_view_url'),\n",
    "            'fips_code' : self.raw_location.get('county', {}).get('fips_code'),\n",
    "            'county' : self.raw_location.get('county', {}).get('county')\n",
    "        })\n",
    "        self.lat_long = (self.raw_location.get('address', {}).get('coordinate', {}).get('lat'), \n",
    "                         self.raw_location.get('address', {}).get('coordinate', {}).get('lon'))\n",
    "\n",
    "    def _clean_description(self):\n",
    "        self.baths_full = self.raw_description.get('baths_full') or 0\n",
    "        self.baths_3qtr = self.raw_description.get('baths_3qtr') or 0\n",
    "        self.baths_half = self.raw_description.get('baths_half') or 0\n",
    "        self.baths_1qtr = self.raw_description.get('baths_1qtr') or 0\n",
    "        self.year_built = self.raw_description.get('year_built')\n",
    "        self.lot_sqft = self.raw_description.get('lot_sqft')\n",
    "        self.sqft = self.raw_description.get('sqft')\n",
    "        self.garage = self.raw_description.get('garage') or 0\n",
    "        self.stories = self.raw_description.get('stories') or 1\n",
    "        self.beds = self.raw_description.get('beds')\n",
    "        self.type = self.raw_description.get('type') # this one will need to be dummied with other values for other houses.\n",
    "\n",
    "    def _validate(self):\n",
    "        '''\n",
    "        This will be used to flag anything the looks strange (midding values, etc)\n",
    "        '''"
   ]
  },
  {
   "cell_type": "code",
   "execution_count": 46,
   "metadata": {
    "tags": []
   },
   "outputs": [],
   "source": [
    "hh = tt['data']['home_search']['results']\n",
    "hh_f = house(hh[0])\n"
   ]
  },
  {
   "cell_type": "code",
   "execution_count": 53,
   "metadata": {
    "tags": []
   },
   "outputs": [
    {
     "output_type": "stream",
     "name": "stdout",
     "text": "1\n"
    }
   ],
   "source": [
    "print(hh_f.garage)"
   ]
  },
  {
   "cell_type": "code",
   "execution_count": null,
   "metadata": {},
   "outputs": [],
   "source": [
    "from geopy.geocoders import Nominatim\n",
    "geolocator = Nominatim(user_agent=\"geoapiExercises\")"
   ]
  },
  {
   "cell_type": "code",
   "execution_count": 1,
   "metadata": {},
   "outputs": [
    {
     "output_type": "error",
     "ename": "NameError",
     "evalue": "name 'geolocator' is not defined",
     "traceback": [
      "\u001b[0;31m---------------------------------------------------------------------------\u001b[0m",
      "\u001b[0;31mNameError\u001b[0m                                 Traceback (most recent call last)",
      "\u001b[0;32m<ipython-input-1-da9ae8288343>\u001b[0m in \u001b[0;36m<module>\u001b[0;34m\u001b[0m\n\u001b[0;32m----> 1\u001b[0;31m \u001b[0mtt\u001b[0m \u001b[0;34m=\u001b[0m \u001b[0mgeolocator\u001b[0m\u001b[0;34m.\u001b[0m\u001b[0mgeocode\u001b[0m\u001b[0;34m(\u001b[0m\u001b[0;34m'Chicago'\u001b[0m\u001b[0;34m)\u001b[0m\u001b[0;34m\u001b[0m\u001b[0;34m\u001b[0m\u001b[0m\n\u001b[0m",
      "\u001b[0;31mNameError\u001b[0m: name 'geolocator' is not defined"
     ]
    }
   ],
   "source": [
    "tt = geolocator.geocode('Chicago')"
   ]
  },
  {
   "cell_type": "code",
   "execution_count": 96,
   "metadata": {
    "tags": []
   },
   "outputs": [],
   "source": [
    "a = {'bb':5,\n",
    "'cc' : {\n",
    "    'dd' : 4,\n",
    "    'ee' : 7\n",
    "}}"
   ]
  },
  {
   "cell_type": "code",
   "execution_count": 102,
   "metadata": {},
   "outputs": [],
   "source": [
    "a.get('xx', {}).get('ff')"
   ]
  },
  {
   "cell_type": "code",
   "execution_count": 9,
   "metadata": {},
   "outputs": [],
   "source": []
  },
  {
   "cell_type": "code",
   "execution_count": 10,
   "metadata": {},
   "outputs": [],
   "source": []
  },
  {
   "cell_type": "code",
   "execution_count": null,
   "metadata": {},
   "outputs": [],
   "source": []
  }
 ],
 "metadata": {
  "kernelspec": {
   "display_name": "Python 3",
   "language": "python",
   "name": "python3"
  },
  "language_info": {
   "codemirror_mode": {
    "name": "ipython",
    "version": 3
   },
   "file_extension": ".py",
   "mimetype": "text/x-python",
   "name": "python",
   "nbconvert_exporter": "python",
   "pygments_lexer": "ipython3",
   "version": "3.7.4-final"
  }
 },
 "nbformat": 4,
 "nbformat_minor": 2
}