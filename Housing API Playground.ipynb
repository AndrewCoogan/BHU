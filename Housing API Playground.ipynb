{
 "cells": [
  {
   "cell_type": "code",
   "execution_count": 43,
   "metadata": {},
   "outputs": [],
   "source": [
    "import requests\n",
    "from retrying import retry\n",
    "from ediblepickle import checkpoint\n",
    "from urllib.parse import quote\n",
    "from typing import Union\n",
    "from datetime import datetime\n",
    "from keys import *"
   ]
  },
  {
   "cell_type": "code",
   "execution_count": 3,
   "metadata": {},
   "outputs": [],
   "source": [
    "keys = getKeys()"
   ]
  },
  {
   "cell_type": "code",
   "execution_count": 11,
   "metadata": {},
   "outputs": [],
   "source": [
    "@retry(stop_max_attempt_number=5)\n",
    "@checkpoint(key=lambda args, kwargs: quote(args[0]) + '.pkl', work_dir='Saved Results/PropertyDetail/')\n",
    "def get_PropertyDetail(property_id : str) -> dict:\n",
    "    if not isinstance(property_id, str):\n",
    "        try:\n",
    "            property_id = str(property_id)\n",
    "        except:\n",
    "            raise Exception('Could not convert input to string.')\n",
    "\n",
    "    url = \"https://us-real-estate.p.rapidapi.com/v2/property-detail\"\n",
    "\n",
    "    querystring = {\n",
    "        \"property_id\": property_id\n",
    "    }\n",
    "\n",
    "    headers = {\n",
    "        \"X-RapidAPI-Key\": keys['USRealEstate'],\n",
    "        \"X-RapidAPI-Host\": \"us-real-estate.p.rapidapi.com\"\n",
    "    }\n",
    "\n",
    "    response = requests.request(\"GET\", url, headers=headers, params=querystring)\n",
    "    return response.json()\n",
    "\n",
    "@retry(stop_max_attempt_number=5)\n",
    "def get_PropertyForSaleByZipcode(zipcode : str, \n",
    "        property_type : str = 'single_family',\n",
    "        n_results : int = 100\n",
    "    ) -> dict:\n",
    "\n",
    "    url = \"https://us-real-estate.p.rapidapi.com/v2/for-sale-by-zipcode\"\n",
    "\n",
    "    # We need to make a loop here and iterate the offset until we hit the end or the limit.\n",
    "    # This is going to take a lot of API calls.\n",
    "\n",
    "    # This can be increased to 200 once we get the paid plan.\n",
    "    limit = min(42, n_results)\n",
    "\n",
    "    '''\n",
    "    Other query string parameters:\n",
    "    sort = (default: relevant)|newest|lowest_price|highest_price|open_house_date|price_reduced_date|largest_sqft|lot_size|sold_date\n",
    "    price_min/max = $ USD\n",
    "    beds_min/max = #\n",
    "    bath_min/max = #\n",
    "    property_type = multi_family|single_family|mobile|land|farm (I think we should just use : 'single_family')\n",
    "    '''\n",
    "\n",
    "    querystring = {\n",
    "        \"zipcode\":zipcode,\n",
    "        \"offset\":\"0\",\n",
    "        \"limit\":str(limit),\n",
    "        \"property_type\":property_type\n",
    "    }\n",
    "\n",
    "    headers = {\n",
    "        \"X-RapidAPI-Key\": keys['USRealEstate'],\n",
    "        \"X-RapidAPI-Host\": \"us-real-estate.p.rapidapi.com\"\n",
    "    }\n",
    "\n",
    "    output = []\n",
    "\n",
    "    '''\n",
    "    while(True):\n",
    "        response = requests.request(\"GET\", url, headers=headers, params=querystring)\n",
    "        output.append(response.json())\n",
    "\n",
    "        if len(response) < limit\n",
    "    '''\n",
    "\n",
    "    response = requests.request(\"GET\", url, headers=headers, params=querystring)\n",
    "    return response.json()\n",
    "\n",
    "@retry(stop_max_attempt_number=5)\n",
    "def get_PropertySoldByZipcode(zipcode : str, \n",
    "        n_results : int,\n",
    "        property_type : str = 'single_family'\n",
    "    ) -> dict:\n",
    "    \n",
    "    '''\n",
    "    NOTE: This does not seem to have a limit arguement. I do not know how this works with offset?\n",
    "    '''\n",
    "\n",
    "    url = \"https://us-real-estate.p.rapidapi.com/v2/sold-homes-by-zipcode\"\n",
    "\n",
    "    # This can be increased to 200 once we get the paid plan.\n",
    "    offset = str(42)\n",
    "\n",
    "    '''\n",
    "    Other query string parameters:\n",
    "    sort = (default: relevant)|newest|lowest_price|highest_price|open_house_date|price_reduced_date|largest_sqft|lot_size|sold_date\n",
    "    price_min/max = $ USD\n",
    "    beds_min/max = #\n",
    "    bath_min/max = #\n",
    "    property_type = multi_family|single_family|mobile|land|farm (I think we should just use : 'single_family')\n",
    "    '''\n",
    "\n",
    "    querystring = {\n",
    "        \"zipcode\":zipcode,\n",
    "        \"offset\":offset,\n",
    "        \"property_type\":property_type\n",
    "    }\n",
    "\n",
    "    headers = {\n",
    "        \"X-RapidAPI-Key\": keys['USRealEstate'],\n",
    "        \"X-RapidAPI-Host\": \"us-real-estate.p.rapidapi.com\"\n",
    "    }\n",
    "\n",
    "    output = []\n",
    "\n",
    "    '''\n",
    "    while(True):\n",
    "        response = requests.request(\"GET\", url, headers=headers, params=querystring)\n",
    "        output.append(response.json())\n",
    "\n",
    "        if len(response) < limit\n",
    "        '''\n",
    "\n",
    "    response = requests.request(\"GET\", url, headers=headers, params=querystring)\n",
    "    return response.json()\n",
    "\n",
    "def get_LocationSuggest(search_keyword : str, \n",
    "        return_all : bool = False\n",
    "    ) -> dict:\n",
    "\n",
    "    url = \"https://us-real-estate.p.rapidapi.com/location/suggest\"\n",
    "\n",
    "    querystring = {\"input\":search_keyword}\n",
    "\n",
    "    headers = {\n",
    "        \"X-RapidAPI-Key\": keys['USRealEstate'],\n",
    "        \"X-RapidAPI-Host\": \"us-real-estate.p.rapidapi.com\"\n",
    "    }\n",
    "\n",
    "    response = requests.request(\"GET\", url, headers=headers, params=querystring)\n",
    "    response_json = response.json()\n",
    "\n",
    "    return response_json if return_all else response_json['data'][0]\n",
    "\n",
    "def get_PropertyForSaleByArea(\n",
    "        city : str = '',\n",
    "        state : str = '',\n",
    "        n_results : int = 100\n",
    "    ) -> dict:\n",
    "\n",
    "    # This can be increased to 200 once we move to the paid version.\n",
    "    limit = min(42, n_results)\n",
    "\n",
    "    url = \"https://us-real-estate.p.rapidapi.com/v2/for-sale\"\n",
    "\n",
    "    querystring = {\n",
    "        \"state_code\":state,\n",
    "        \"city\":city,\n",
    "        \"offset\":\"0\",\n",
    "        \"limit\":str(limit),\n",
    "        \"sort\":\"newest\"\n",
    "    }\n",
    "\n",
    "    headers = {\n",
    "        \"X-RapidAPI-Key\": keys['USRealEstate'],\n",
    "        \"X-RapidAPI-Host\": \"us-real-estate.p.rapidapi.com\"\n",
    "    }\n",
    "\n",
    "    '''\n",
    "    output = []\n",
    "\n",
    "    while(n_results > 0):\n",
    "        response = requests.request(\"GET\", url, headers=headers, params=querystring).json()\n",
    "        output.append(response)\n",
    "\n",
    "        if len(response) < limit:\n",
    "            # This means there is nothing left to reply with\n",
    "            n_results = 0\n",
    "        '''\n",
    "\n",
    "    response = requests.request(\"GET\", url, headers=headers, params=querystring).json()\n",
    "    return response"
   ]
  },
  {
   "cell_type": "code",
   "execution_count": 86,
   "metadata": {},
   "outputs": [],
   "source": [
    "tt = get_LocationSuggest('Seattle', return_all=False)"
   ]
  },
  {
   "cell_type": "code",
   "execution_count": 12,
   "metadata": {},
   "outputs": [],
   "source": [
    "tt = get_PropertyForSaleByArea(city='seattle', state='WA')"
   ]
  },
  {
   "cell_type": "code",
   "execution_count": 33,
   "metadata": {},
   "outputs": [
    {
     "output_type": "execute_result",
     "data": {
      "text/plain": "{'primary_photo': {'href': 'https://ap.rdcpix.com/5a07a527b5821000030c9ca212d698dfl-m1706552722s-w1024_h768.jpg'},\n 'last_update_date': '2022-12-15T00:13:16Z',\n 'source': {'agents': [{'office_name': None}],\n  'id': 'SEWA',\n  'plan_id': None,\n  'spec_id': None,\n  'type': 'mls'},\n 'tags': ['community_outdoor_space',\n  'community_security_features',\n  'den_or_office',\n  'dining_room',\n  'dishwasher',\n  'family_room',\n  'fireplace',\n  'hardwood_floors',\n  'hill_or_mountain_view',\n  'lake_view',\n  'ocean_view',\n  'view',\n  'washer_dryer',\n  'water_view',\n  'basement',\n  'garage_1_or_more',\n  'garage_2_or_more',\n  'two_or_more_stories',\n  'floor_plan',\n  'trails',\n  'lake',\n  'beach',\n  'medicalcare'],\n 'permalink': '3620-42nd-Ave-NE_Seattle_WA_98105_M26724-10792',\n 'status': 'for_sale',\n 'list_date': '2022-12-15T00:13:16Z',\n 'open_houses': None,\n 'tax_record': {'public_record_id': 'D9B701F835A00613A60FF98845F3FB66'},\n 'branding': [{'name': 'Windermere RE Greenwood',\n   'photo': None,\n   'type': 'Office'}],\n 'photos': [{'href': 'https://ap.rdcpix.com/5a07a527b5821000030c9ca212d698dfl-m1706552722s-w1024_h768.jpg'},\n  {'href': 'https://ap.rdcpix.com/5a07a527b5821000030c9ca212d698dfl-m2836990338s-w1024_h768.jpg'}],\n 'coming_soon_date': None,\n 'list_price': 2500000,\n 'matterport': False,\n 'property_id': '2672410792',\n 'flags': {'is_new_construction': None,\n  'is_subdivision': None,\n  'is_plan': None,\n  'is_price_reduced': None,\n  'is_pending': None,\n  'is_foreclosure': None,\n  'is_new_listing': True,\n  'is_coming_soon': None,\n  'is_contingent': None},\n 'lead_attributes': {'show_contact_an_agent': True,\n  'opcity_lead_attributes': {'flip_the_market_enabled': False,\n   'cashback_enabled': False},\n  'lead_type': 'co_broke'},\n 'community': None,\n 'products': {'products': ['core.agent', 'co_broke'],\n  'brand_name': 'basic_opt_in'},\n 'virtual_tours': None,\n 'description': {'year_built': 1926,\n  'baths_3qtr': 1,\n  'sold_date': '1987-06-23',\n  'sold_price': 240000,\n  'baths_full': 2,\n  'name': None,\n  'baths_half': 1,\n  'lot_sqft': 6360,\n  'sqft': 4140,\n  'baths': 4,\n  'sub_type': None,\n  'baths_1qtr': None,\n  'garage': 2,\n  'stories': None,\n  'beds': 5,\n  'type': 'single_family'},\n 'listing_id': '2950718608',\n 'price_reduced_amount': None,\n 'location': {'address': {'postal_code': '98105',\n   'state': 'Washington',\n   'coordinate': {'lon': -122.281513, 'lat': 47.654811},\n   'city': 'Seattle',\n   'state_code': 'WA',\n   'line': '3620 42nd Ave NE'},\n  'street_view_url': 'https://maps.googleapis.com/maps/api/streetview?channel=rdc-streetview&client=gme-movesalesinc&location=3620%2042nd%20Ave%20NE%2C%20Seattle%2C%20WA%2098105&size=640x480&source=outdoor&signature=XIIGGeskm9eFchjEZ4d0kFH16Qw=',\n  'county': {'fips_code': '53033', 'name': 'King'}},\n 'other_listings': {'rdc': [{'listing_id': '2950718608',\n    'listing_key': None,\n    'status': 'for_sale',\n    'primary': True},\n   {'listing_id': '2913521828',\n    'listing_key': None,\n    'status': 'sold',\n    'primary': None}]}}"
     },
     "metadata": {},
     "execution_count": 33
    }
   ],
   "source": [
    "# tt['data']['geo']['geo_statistics'] # has some solid month to month analysis.\n",
    "tt['data']['home_search']['results'][0]"
   ]
  },
  {
   "cell_type": "code",
   "execution_count": 55,
   "metadata": {},
   "outputs": [
    {
     "output_type": "execute_result",
     "data": {
      "text/plain": "{'primary_photo': {'href': 'https://ap.rdcpix.com/5a07a527b5821000030c9ca212d698dfl-m1706552722s-w1024_h768.jpg'},\n 'last_update_date': '2022-12-15T00:13:16Z',\n 'source': {'agents': [{'office_name': None}],\n  'id': 'SEWA',\n  'plan_id': None,\n  'spec_id': None,\n  'type': 'mls'},\n 'tags': ['community_outdoor_space',\n  'community_security_features',\n  'den_or_office',\n  'dining_room',\n  'dishwasher',\n  'family_room',\n  'fireplace',\n  'hardwood_floors',\n  'hill_or_mountain_view',\n  'lake_view',\n  'ocean_view',\n  'view',\n  'washer_dryer',\n  'water_view',\n  'basement',\n  'garage_1_or_more',\n  'garage_2_or_more',\n  'two_or_more_stories',\n  'floor_plan',\n  'trails',\n  'lake',\n  'beach',\n  'medicalcare'],\n 'permalink': '3620-42nd-Ave-NE_Seattle_WA_98105_M26724-10792',\n 'status': 'for_sale',\n 'list_date': '2022-12-15T00:13:16Z',\n 'open_houses': None,\n 'tax_record': {'public_record_id': 'D9B701F835A00613A60FF98845F3FB66'},\n 'branding': [{'name': 'Windermere RE Greenwood',\n   'photo': None,\n   'type': 'Office'}],\n 'photos': [{'href': 'https://ap.rdcpix.com/5a07a527b5821000030c9ca212d698dfl-m1706552722s-w1024_h768.jpg'},\n  {'href': 'https://ap.rdcpix.com/5a07a527b5821000030c9ca212d698dfl-m2836990338s-w1024_h768.jpg'}],\n 'coming_soon_date': None,\n 'list_price': 2500000,\n 'matterport': False,\n 'property_id': '2672410792',\n 'flags': {'is_new_construction': None,\n  'is_subdivision': None,\n  'is_plan': None,\n  'is_price_reduced': None,\n  'is_pending': None,\n  'is_foreclosure': None,\n  'is_new_listing': True,\n  'is_coming_soon': None,\n  'is_contingent': None},\n 'lead_attributes': {'show_contact_an_agent': True,\n  'opcity_lead_attributes': {'flip_the_market_enabled': False,\n   'cashback_enabled': False},\n  'lead_type': 'co_broke'},\n 'community': None,\n 'products': {'products': ['core.agent', 'co_broke'],\n  'brand_name': 'basic_opt_in'},\n 'virtual_tours': None,\n 'description': {'year_built': 1926,\n  'baths_3qtr': 1,\n  'sold_date': '1987-06-23',\n  'sold_price': 240000,\n  'baths_full': 2,\n  'name': None,\n  'baths_half': 1,\n  'lot_sqft': 6360,\n  'sqft': 4140,\n  'baths': 4,\n  'sub_type': None,\n  'baths_1qtr': None,\n  'garage': 2,\n  'stories': None,\n  'beds': 5,\n  'type': 'single_family'},\n 'listing_id': '2950718608',\n 'price_reduced_amount': None,\n 'location': {'address': {'postal_code': '98105',\n   'state': 'Washington',\n   'coordinate': {'lon': -122.281513, 'lat': 47.654811},\n   'city': 'Seattle',\n   'state_code': 'WA',\n   'line': '3620 42nd Ave NE'},\n  'street_view_url': 'https://maps.googleapis.com/maps/api/streetview?channel=rdc-streetview&client=gme-movesalesinc&location=3620%2042nd%20Ave%20NE%2C%20Seattle%2C%20WA%2098105&size=640x480&source=outdoor&signature=XIIGGeskm9eFchjEZ4d0kFH16Qw=',\n  'county': {'fips_code': '53033', 'name': 'King'}},\n 'other_listings': {'rdc': [{'listing_id': '2950718608',\n    'listing_key': None,\n    'status': 'for_sale',\n    'primary': True},\n   {'listing_id': '2913521828',\n    'listing_key': None,\n    'status': 'sold',\n    'primary': None}]}}"
     },
     "metadata": {},
     "execution_count": 55
    }
   ],
   "source": [
    "#tt['data']['home_search']['results'] # This is the juicy housing details.\n",
    "#tt['data']['geo'] # Pulls in median listing price data for neighborig zip codes and major cities\n",
    "#tt['data']['home_search']['total'] # How many homes were returned, total number?\n",
    "#tt['data']['home_search']['count'] # Not sure how this works, how many are there?\n",
    "tt['data']['home_search']['results'][0]"
   ]
  },
  {
   "cell_type": "code",
   "execution_count": 62,
   "metadata": {},
   "outputs": [],
   "source": [
    "# This will be taking in the following: tt['data']['home_search']['results'][n]\n",
    "\n",
    "class house():\n",
    "    '''\n",
    "    This is going to be the class that houses (hehe) all the house data. Each house will have its own instance.\n",
    "    When we use the API, there is a lot of data reutned nested in a number of dictionaries. This will take the 'juicy' bit.\n",
    "    The idea for this class is that it will hold all the needed info for:\n",
    "         1) the GUI, address, google street view, other photos. This will probably be a flask application to start, but we are far from even thinking about that.\n",
    "         2) the MODEL, tags, list_prices, other flags. What if we created a word cloud and have the user select key words for their house until they have selected some flat number or % contribution to model from the tags TBD. There will be dates there, we will use days old (or something similar) for the model training, while the actual took will use zero, as the user is entering 100% correct info. This may or may not be a good idea, as it might have unintended implications within the model.\n",
    "\n",
    "    Interior functions:\n",
    "        Date Cleaning\n",
    "        ???\n",
    "    '''\n",
    "    def __init__(self, listing : list):\n",
    "        self.reference_info = { # This is stuff not going into the model\n",
    "            'id' : listing['property_id'],\n",
    "            'photos' : list(set([listing['primary_photo']['href']].extend([l['href'] for l in listing['photos']])))\n",
    "        }\n",
    "\n",
    "        self.raw_last_update = listing['last_update_date']\n",
    "        self.raw_list_date = listing['list_date']\n",
    "        self.tags = listing['tags'] # This one will be weird, might need to wrap in nlp somehow with this, maybe not, just dummy it\n",
    "        self.list_price = listing['list_price']\n",
    "        self.new_construction = False if listing['flags']['is_new_construction'] is None else True\n",
    "\n",
    "        self.raw_location = listing['address']\n",
    "        self.raw_description = listing['description']\n",
    "\n",
    "        self._clean_dates()\n",
    "        \n",
    "    def _convert_date(date : str):\n",
    "        return datetime.strptime(date, '%Y-%m-%d')\n",
    "    \n",
    "    def _clean_dates(self):\n",
    "        last_update_date_parsed = self.raw_last_update.split('T')\n",
    "        list_date_parsed = self.raw_list_date.split('T')\n",
    "        self.last_update = _convert_date(last_update_date_parsed[0]) if len(last_update_date_parsed) == 2 else None\n",
    "        self.list_date = _convert_date(list_date_parsed[0]) if len(list_date_parsed) == 2 else None\n",
    "\n",
    "    def _clean_location(self):\n",
    "        return None\n",
    "\n",
    "    def _clean_description(self):\n",
    "        self.baths_full = self.raw_description.get('baths_full', default = 0)\n",
    "        self.baths_3qtr = self.raw_description.get('baths_3qtr', default = 0)\n",
    "        self.baths_half = self.raw_description.get('baths_half', default = 0)\n",
    "        self.baths_1qtr = self.raw_description.get('baths_1qtr', default = 0)\n",
    "        self.year_built = self.raw_description.get('year_built')\n",
    "        self.lot_sqft = self.raw_description.get('lot_sqft')\n",
    "        self.sqft = self.raw_description.get('sqft')\n",
    "        self.garage = self.raw_description.get('garage')\n",
    "        self.stories = self.raw_description.get('stroies')\n",
    "        self.beds = self.raw_description.get('beds')\n",
    "        self.type = self.raw_description.get('type') # this one will need to be dummied with other values.\n",
    "        return self"
   ]
  },
  {
   "cell_type": "code",
   "execution_count": 71,
   "metadata": {},
   "outputs": [],
   "source": [
    "from geopy.geocoders import Nominatim\n",
    "geolocator = Nominatim(user_agent=\"geoapiExercises\")"
   ]
  },
  {
   "cell_type": "code",
   "execution_count": 1,
   "metadata": {},
   "outputs": [
    {
     "output_type": "error",
     "ename": "NameError",
     "evalue": "name 'geolocator' is not defined",
     "traceback": [
      "\u001b[0;31m---------------------------------------------------------------------------\u001b[0m",
      "\u001b[0;31mNameError\u001b[0m                                 Traceback (most recent call last)",
      "\u001b[0;32m<ipython-input-1-da9ae8288343>\u001b[0m in \u001b[0;36m<module>\u001b[0;34m\u001b[0m\n\u001b[0;32m----> 1\u001b[0;31m \u001b[0mtt\u001b[0m \u001b[0;34m=\u001b[0m \u001b[0mgeolocator\u001b[0m\u001b[0;34m.\u001b[0m\u001b[0mgeocode\u001b[0m\u001b[0;34m(\u001b[0m\u001b[0;34m'Chicago'\u001b[0m\u001b[0;34m)\u001b[0m\u001b[0;34m\u001b[0m\u001b[0;34m\u001b[0m\u001b[0m\n\u001b[0m",
      "\u001b[0;31mNameError\u001b[0m: name 'geolocator' is not defined"
     ]
    }
   ],
   "source": [
    "tt = geolocator.geocode('Chicago')"
   ]
  },
  {
   "cell_type": "code",
   "execution_count": 56,
   "metadata": {
    "tags": []
   },
   "outputs": [
    {
     "output_type": "stream",
     "name": "stdout",
     "text": "[1, 2, 3, 5, 6, 7]\n"
    }
   ],
   "source": [
    "a = [1,2,3]\n",
    "a.extend([5,6,7])\n",
    "print(a)"
   ]
  },
  {
   "cell_type": "code",
   "execution_count": 35,
   "metadata": {},
   "outputs": [
    {
     "output_type": "execute_result",
     "data": {
      "text/plain": "0"
     },
     "metadata": {},
     "execution_count": 35
    }
   ],
   "source": [
    "vv['b'] if 'b' in vv else 0"
   ]
  },
  {
   "cell_type": "code",
   "execution_count": 9,
   "metadata": {},
   "outputs": [],
   "source": []
  },
  {
   "cell_type": "code",
   "execution_count": 10,
   "metadata": {},
   "outputs": [],
   "source": []
  },
  {
   "cell_type": "code",
   "execution_count": null,
   "metadata": {},
   "outputs": [],
   "source": []
  }
 ],
 "metadata": {
  "kernelspec": {
   "display_name": "Python 3",
   "language": "python",
   "name": "python3"
  },
  "language_info": {
   "codemirror_mode": {
    "name": "ipython",
    "version": 3
   },
   "file_extension": ".py",
   "mimetype": "text/x-python",
   "name": "python",
   "nbconvert_exporter": "python",
   "pygments_lexer": "ipython3",
   "version": "3.7.3-final"
  }
 },
 "nbformat": 4,
 "nbformat_minor": 2
}