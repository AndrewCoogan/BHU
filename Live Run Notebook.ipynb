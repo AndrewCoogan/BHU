{
 "cells": [
  {
   "cell_type": "code",
   "execution_count": 10,
   "metadata": {},
   "outputs": [
    {
     "name": "stdout",
     "output_type": "stream",
     "text": [
      "Shortfall in listed houses detected, appending 114 of current listing to results.\n"
     ]
    }
   ],
   "source": [
    "import BHU\n",
    "import os\n",
    "import numpy as np\n",
    "import keys as k\n",
    "\n",
    "from sklearn.pipeline import Pipeline\n",
    "from sklearn.compose import ColumnTransformer\n",
    "from sklearn.preprocessing import StandardScaler\n",
    "from sklearn.impute import SimpleImputer\n",
    "\n",
    "keys = k.getKeys()\n",
    "\n",
    "os.environ['TF_CPP_MIN_LOG_LEVEL'] = '1'\n",
    "\n",
    "user_home = BHU.get_UserHome(keys['SampleHouse'].strip(\"\\'\"))\n",
    "user_home_details = BHU.get_PropertyDetail(str(user_home['property_id']))\n",
    "hoi = BHU.get_HousesOfInterest(user_home, n=2000, listed_to_sold_ratio=0.3, verbose=True)\n",
    "gd = BHU.GeoData(hoi['geo'])\n",
    "\n",
    "fg = BHU.FeatureGenerator(\n",
    "    houses = hoi['houses'],\n",
    "    gd=gd,\n",
    "    user_home=user_home_details\n",
    ")"
   ]
  },
  {
   "cell_type": "code",
   "execution_count": 41,
   "metadata": {},
   "outputs": [
    {
     "name": "stdout",
     "output_type": "stream",
     "text": [
      "No model found, generating SEATTLE_WA.\n"
     ]
    }
   ],
   "source": [
    "# Does the walkscore model exist?\n",
    "import pickle\n",
    "from sklearn.ensemble import GradientBoostingRegressor\n",
    "import pandas as pd\n",
    "\n",
    "model_name = f'{fg.user_home_formatted.city}_{fg.user_home_formatted.state}'\n",
    "model_file_path = f'BHU/Saved Results/WalkScoreModel/{model_name}.pkl'\n",
    "\n",
    "if os.path.isfile(model_file_path):\n",
    "    with open(model_file_path, 'rb') as f:\n",
    "        model = pickle.load(f)\n",
    "else:\n",
    "    print(f'No model found, generating {model_name}.')\n",
    "    fg._sync_walk_score()\n",
    "    lat = pd.Series([l.lat_long[0] for l in fg.houses])\n",
    "    long = pd.Series([l.lat_long[1] for l in fg.houses])\n",
    "    ws = pd.Series([l.walk_score for l in fg.houses])\n",
    "\n",
    "    lat_ss = SimpleImputer().fit_transform(np.array(lat).reshape(-1,1))\n",
    "    long_ss = SimpleImputer().fit_transform(np.array(long).reshape(-1,1))\n",
    "    ws_ss = SimpleImputer().fit_transform(np.array(ws).reshape(-1,1))\n",
    "\n",
    "    lat_ss = [z[0] for z in lat_ss]\n",
    "    long_ss = [z[0] for z in long_ss]\n",
    "    ws_ss = [z[0] for z in ws_ss]\n",
    "\n",
    "    grf = GradientBoostingRegressor(n_estimators=250, \n",
    "                                    min_samples_split=3, \n",
    "                                    min_samples_leaf=3, \n",
    "                                    max_depth=8)\n",
    "    \n",
    "    data = pd.DataFrame({'lat':lat_ss, 'long':long_ss, 'ws':ws_ss})\n",
    "    model = grf.fit(data.drop('ws', axis=1), data['ws'])\n",
    "    with open(model_file_path, 'wb') as f:\n",
    "        pickle.dump(model, f)"
   ]
  },
  {
   "cell_type": "code",
   "execution_count": 39,
   "metadata": {},
   "outputs": [
    {
     "data": {
      "text/plain": [
       "0.8117269200523123"
      ]
     },
     "execution_count": 39,
     "metadata": {},
     "output_type": "execute_result"
    }
   ],
   "source": [
    "from sklearn.model_selection import train_test_split\n",
    "\n",
    "X_train, X_test, y_train, y_test = train_test_split(data.drop('ws', axis=1), data['ws'], test_size=0.1, random_state=55)\n",
    "\n",
    "grf = GradientBoostingRegressor(n_estimators=250, \n",
    "                                min_samples_split=3, \n",
    "                                min_samples_leaf=3, \n",
    "                                max_depth=8)\n",
    "\n",
    "grf.fit(X_train, y_train)\n",
    "grf.score(X_test, y_test)"
   ]
  },
  {
   "cell_type": "code",
   "execution_count": 40,
   "metadata": {},
   "outputs": [
    {
     "data": {
      "text/plain": [
       "6.347521493056033"
      ]
     },
     "execution_count": 40,
     "metadata": {},
     "output_type": "execute_result"
    }
   ],
   "source": [
    "sum(abs(grf.predict(X_test) - y_test))/len(y_test)"
   ]
  },
  {
   "cell_type": "code",
   "execution_count": 7,
   "metadata": {},
   "outputs": [],
   "source": [
    "# This is the whole data set\n",
    "target_transformer = StandardScaler()\n",
    "train_targets = target_transformer.fit_transform(np.array(fg.targets).reshape(-1,1))\n",
    "train_features = fg.features\n",
    "\n",
    "normalize_cols = ['lot_sqft', 'sqft']\n",
    "bucketize_cols = ['year_built', 'distance_to_home', 'lat_winz', 'long_winz']\n",
    "dummy_cols = ['baths_full', 'baths_3qtr', 'baths_half', 'baths_1qtr', 'garage', 'stories', 'beds']\n",
    "\n",
    "preprocess_data = ColumnTransformer(\n",
    "    [\n",
    "        #('scale', preprocess_min_max_cols, minmax_cols),\n",
    "        ('normalize', StandardScaler(), normalize_cols),\n",
    "        ('bucketize', BHU.KerasTransformers.preprocess_bucketize_col, bucketize_cols),\n",
    "        ('dummy', OneHotEncoder(sparse_output=False, handle_unknown='ignore'), dummy_cols),\n",
    "        ('walkscore', pass, [])\n",
    "    ]\n",
    ")\n",
    "\n",
    "keras_pipeline = Pipeline(\n",
    "    [\n",
    "        ('to_data_frame', BHU.KerasTransformers.ToDataFrame()),\n",
    "        ('preprocess', preprocess_data),\n",
    "        ('keras_model', BHU.KerasModel(user_home, target_transformer))\n",
    "    ]\n",
    ")\n",
    "\n",
    "keras_pipeline.set_params(**{\n",
    "    'keras_model__load_model_if_available' : True,\n",
    "    'keras_model__update_model' : False,\n",
    "    'keras_model__save_model' : False\n",
    "})\n",
    "\n",
    "keras_pipeline.fit(train_features, train_targets)"
   ]
  },
  {
   "cell_type": "code",
   "execution_count": 10,
   "metadata": {},
   "outputs": [
    {
     "name": "stdout",
     "output_type": "stream",
     "text": [
      "1/1 [==============================] - 0s 113ms/step\n"
     ]
    },
    {
     "data": {
      "text/plain": [
       "(955466.5, 972500)"
      ]
     },
     "execution_count": 10,
     "metadata": {},
     "output_type": "execute_result"
    }
   ],
   "source": [
    "user_pred = keras_pipeline.predict(fg.user_features)\n",
    "user_pred[0][0], fg.user_target"
   ]
  },
  {
   "cell_type": "code",
   "execution_count": 11,
   "metadata": {},
   "outputs": [
    {
     "data": {
      "text/plain": [
       "'3416 19th Ave S'"
      ]
     },
     "execution_count": 11,
     "metadata": {},
     "output_type": "execute_result"
    }
   ],
   "source": [
    "fg.user_home_formatted.address"
   ]
  },
  {
   "cell_type": "code",
   "execution_count": 12,
   "metadata": {},
   "outputs": [
    {
     "name": "stdout",
     "output_type": "stream",
     "text": [
      "1/1 [==============================] - 0s 20ms/step\n"
     ]
    },
    {
     "data": {
      "text/plain": [
       "array([[981661.1]], dtype=float32)"
      ]
     },
     "execution_count": 12,
     "metadata": {},
     "output_type": "execute_result"
    }
   ],
   "source": [
    "xx = fg.user_features.copy()\n",
    "xx['baths_half'] += 1\n",
    "new_worth = keras_pipeline.predict(xx)\n",
    "new_worth"
   ]
  },
  {
   "cell_type": "code",
   "execution_count": 13,
   "metadata": {},
   "outputs": [
    {
     "data": {
      "text/plain": [
       "{'Property_ID': 2949757771,\n",
       " 'Address': None,\n",
       " 'Status': 'sold',\n",
       " 'Days_listed': 0,\n",
       " 'Days_updated': 0,\n",
       " 'baths_full': 2,\n",
       " 'baths_3qtr': 0,\n",
       " 'baths_half': 0,\n",
       " 'baths_1qtr': 0,\n",
       " 'year_built': 1915,\n",
       " 'lot_sqft': 4414,\n",
       " 'sqft': 2500,\n",
       " 'garage': 1,\n",
       " 'stories': 2,\n",
       " 'beds': 3,\n",
       " 'tags': ['city_view',\n",
       "  'community_security_features',\n",
       "  'dining_room',\n",
       "  'dishwasher',\n",
       "  'fireplace',\n",
       "  'hardwood_floors',\n",
       "  'hill_or_mountain_view',\n",
       "  'lake_view',\n",
       "  'ocean_view',\n",
       "  'spa_or_hot_tub',\n",
       "  'view',\n",
       "  'washer_dryer',\n",
       "  'water_view',\n",
       "  'basement',\n",
       "  'garage_1_or_more',\n",
       "  'fruit_trees',\n",
       "  'tennis_court',\n",
       "  'tennis',\n",
       "  'groundscare',\n",
       "  'garage_1'],\n",
       " 'new_construction': False,\n",
       " 'distance_to_home': 0,\n",
       " 'lat': 47.572613,\n",
       " 'long': -122.306358}"
      ]
     },
     "execution_count": 13,
     "metadata": {},
     "output_type": "execute_result"
    }
   ],
   "source": [
    "fg.user_features"
   ]
  },
  {
   "cell_type": "code",
   "execution_count": 14,
   "metadata": {},
   "outputs": [
    {
     "data": {
      "text/plain": [
       "array([[1.0274155]], dtype=float32)"
      ]
     },
     "execution_count": 14,
     "metadata": {},
     "output_type": "execute_result"
    }
   ],
   "source": [
    "worth_change_ratio = new_worth / user_pred\n",
    "worth_change_ratio"
   ]
  },
  {
   "cell_type": "code",
   "execution_count": 15,
   "metadata": {},
   "outputs": [
    {
     "data": {
      "text/plain": [
       "array([[999161.58735752]])"
      ]
     },
     "execution_count": 15,
     "metadata": {},
     "output_type": "execute_result"
    }
   ],
   "source": [
    "new_worth_to_user = worth_change_ratio * fg.user_target\n",
    "new_worth_to_user"
   ]
  },
  {
   "cell_type": "code",
   "execution_count": 16,
   "metadata": {},
   "outputs": [
    {
     "data": {
      "text/plain": [
       "array([[26661.58735752]])"
      ]
     },
     "execution_count": 16,
     "metadata": {},
     "output_type": "execute_result"
    }
   ],
   "source": [
    "worth_delta = new_worth_to_user - fg.user_target\n",
    "worth_delta"
   ]
  },
  {
   "cell_type": "code",
   "execution_count": 138,
   "metadata": {},
   "outputs": [
    {
     "data": {
      "text/html": [
       "<div>\n",
       "<style scoped>\n",
       "    .dataframe tbody tr th:only-of-type {\n",
       "        vertical-align: middle;\n",
       "    }\n",
       "\n",
       "    .dataframe tbody tr th {\n",
       "        vertical-align: top;\n",
       "    }\n",
       "\n",
       "    .dataframe thead th {\n",
       "        text-align: right;\n",
       "    }\n",
       "</style>\n",
       "<table border=\"1\" class=\"dataframe\">\n",
       "  <thead>\n",
       "    <tr style=\"text-align: right;\">\n",
       "      <th></th>\n",
       "      <th>test</th>\n",
       "    </tr>\n",
       "  </thead>\n",
       "  <tbody>\n",
       "    <tr>\n",
       "      <th>0</th>\n",
       "      <td>(1, 2)</td>\n",
       "    </tr>\n",
       "    <tr>\n",
       "      <th>1</th>\n",
       "      <td>(3, 4)</td>\n",
       "    </tr>\n",
       "  </tbody>\n",
       "</table>\n",
       "</div>"
      ],
      "text/plain": [
       "     test\n",
       "0  (1, 2)\n",
       "1  (3, 4)"
      ]
     },
     "execution_count": 138,
     "metadata": {},
     "output_type": "execute_result"
    }
   ],
   "source": [
    "pd.DataFrame({'test':[(1,2), (3,4)]})"
   ]
  },
  {
   "cell_type": "code",
   "execution_count": null,
   "metadata": {},
   "outputs": [],
   "source": []
  }
 ],
 "metadata": {
  "kernelspec": {
   "display_name": "Python 3",
   "language": "python",
   "name": "python3"
  },
  "language_info": {
   "codemirror_mode": {
    "name": "ipython",
    "version": 3
   },
   "file_extension": ".py",
   "mimetype": "text/x-python",
   "name": "python",
   "nbconvert_exporter": "python",
   "pygments_lexer": "ipython3",
   "version": "3.10.8"
  },
  "orig_nbformat": 4,
  "vscode": {
   "interpreter": {
    "hash": "aee8b7b246df8f9039afb4144a1f6fd8d2ca17a180786b69acc140d282b71a49"
   }
  }
 },
 "nbformat": 4,
 "nbformat_minor": 2
}
