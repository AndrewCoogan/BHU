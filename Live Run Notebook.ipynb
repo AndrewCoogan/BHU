{
 "cells": [
  {
   "cell_type": "code",
   "execution_count": 5,
   "metadata": {},
   "outputs": [],
   "source": [
    "import real_estate_api as rea\n",
    "\n",
    "import os\n",
    "import pickle\n",
    "import random\n",
    "import numpy as np\n",
    "import pandas as pd\n",
    "\n",
    "from collections import Counter\n",
    "from itertools import chain\n",
    "\n",
    "from sklearn.base import TransformerMixin, BaseEstimator, RegressorMixin\n",
    "from sklearn.pipeline import Pipeline\n",
    "from sklearn.compose import ColumnTransformer\n",
    "from sklearn.preprocessing import MinMaxScaler, KBinsDiscretizer, OneHotEncoder, StandardScaler\n",
    "from sklearn.impute import SimpleImputer\n",
    "from sklearn.feature_extraction import DictVectorizer\n",
    "from sklearn.metrics import mean_absolute_error\n",
    "\n",
    "import keys as k\n",
    "keys = k.getKeys()"
   ]
  },
  {
   "cell_type": "code",
   "execution_count": 2,
   "metadata": {},
   "outputs": [
    {
     "name": "stdout",
     "output_type": "stream",
     "text": [
      "Shortfall in listed houses detected, appending 114 of current listing to results.\n"
     ]
    }
   ],
   "source": [
    "user_home = rea.get_UserHome(keys['SampleHouse'].strip(\"\\'\"))\n",
    "user_home_details = rea.get_PropertyDetail(user_home['property_id'])\n",
    "hoi = rea.get_HousesOfInterest(user_home, n=2000, listed_to_sold_ratio=0.3, verbose=True)\n",
    "gd = rea.geo_data(hoi['geo'])"
   ]
  },
  {
   "cell_type": "code",
   "execution_count": 50,
   "metadata": {},
   "outputs": [],
   "source": [
    "# Can this be the first step in the pipeline or no?\n",
    "fg = rea.FeatureGenerator(\n",
    "    houses = hoi['houses'], \n",
    "    gd=gd,\n",
    "    user_home=user_home_details\n",
    ")"
   ]
  },
  {
   "cell_type": "code",
   "execution_count": 15,
   "metadata": {},
   "outputs": [],
   "source": [
    "# This will randomly take 10% of the data as a validation set.\n",
    "test_indicies = random.sample(range(0, len(fg.targets)), int(0.2 * len(fg.targets)))\n",
    "train_indicies = set(range(0, len(fg.targets))).difference(set(test_indicies))\n",
    "\n",
    "target_transformer = StandardScaler()\n",
    "train_targets = target_transformer.fit_transform(np.array(list(map(fg.targets.__getitem__, train_indicies))).reshape(-1,1))\n",
    "test_targets = target_transformer.transform(np.array(list(map(fg.targets.__getitem__, test_indicies))).reshape(-1,1))\n",
    "\n",
    "train_features = list(map(fg.features.__getitem__, train_indicies))\n",
    "test_features = list(map(fg.features.__getitem__, test_indicies))"
   ]
  },
  {
   "cell_type": "code",
   "execution_count": 41,
   "metadata": {},
   "outputs": [],
   "source": [
    "'''\n",
    "Days Listed - Linear\n",
    "Days Updated - Linear\n",
    "*baths - Normalize\n",
    "year_built - I want to bucketize these, then keep the dummies.\n",
    "lot_sqft - Normalize\n",
    "    Feature generation, multiply lot_sqft normalized and the inverse_distance\n",
    "        More questions, can you do this?\n",
    "sqft - Normalize\n",
    "garage / stories / beds - Normalize\n",
    "Tags - Do what we did in the nlp homework\n",
    "'''\n",
    "\n",
    "class ToDataFrame(BaseEstimator, TransformerMixin):\n",
    "    def fit(self, X, y=None):\n",
    "        return self\n",
    "    \n",
    "    def transform(self, X):\n",
    "        return pd.DataFrame(X).drop_duplicates(subset=['Property_ID'])\n",
    "\n",
    "class DictEncoder(BaseEstimator, TransformerMixin):\n",
    "    def __init__(self):\n",
    "        self.tags_to_keep = None\n",
    "\n",
    "    def fit(self, X, y=None):\n",
    "        tag_frequency = Counter(chain(*X))\n",
    "        self.tags_to_keep = [k for k, v in tag_frequency.items() if v > 1]\n",
    "        return self\n",
    "    \n",
    "    def transform(self, X):\n",
    "        return pd.Series(map(lambda l : {k : 1 for k in l if l in self.tags_to_keep}, X))\n",
    "\n",
    "minmax_cols = ['distance_to_home'] # 'Days_listed', 'Days_listed', \n",
    "normalize_cols = ['lot_sqft', 'sqft']\n",
    "bucketize_cols = ['year_built']\n",
    "lat_long_cols = ['lat', 'long']\n",
    "dummy_cols = ['baths_full', 'baths_3qtr', 'baths_half', 'baths_1qtr', 'garage', 'stories', 'beds']\n",
    "\n",
    "preprocess_min_max_cols = Pipeline(\n",
    "    [\n",
    "        ('impute', SimpleImputer(missing_values=np.nan, strategy=\"mean\")),\n",
    "        ('min_max_scale', MinMaxScaler())\n",
    "    ]\n",
    ")\n",
    "\n",
    "preprocess_tags_col = Pipeline(\n",
    "    [\n",
    "        ('dict_encode', DictEncoder()),\n",
    "        ('dict_vectorize', DictVectorizer())\n",
    "    ]\n",
    ")\n",
    "\n",
    "preprocess_lat_long_cols = Pipeline(\n",
    "    [\n",
    "        ('impute', SimpleImputer(missing_values=np.nan, strategy=\"mean\")),\n",
    "        ('bucketize', KBinsDiscretizer(strategy='uniform'))\n",
    "    ]\n",
    ")\n",
    "\n",
    "preprocess_data = ColumnTransformer(\n",
    "    [\n",
    "        #('scale', preprocess_min_max_cols, minmax_cols),\n",
    "        ('normalize', StandardScaler(), normalize_cols),\n",
    "        ('bucketize', KBinsDiscretizer(strategy='uniform'), bucketize_cols),\n",
    "        ('lat_long', preprocess_lat_long_cols, lat_long_cols),\n",
    "        ('dummy', OneHotEncoder(sparse_output=False, handle_unknown='ignore'), dummy_cols),\n",
    "        #('list', preprocess_tags_col, 'tags')\n",
    "    ]\n",
    ")"
   ]
  },
  {
   "cell_type": "code",
   "execution_count": 42,
   "metadata": {},
   "outputs": [
    {
     "name": "stdout",
     "output_type": "stream",
     "text": [
      "Epoch 1/50\n",
      "29/29 [==============================] - 2s 3ms/step - loss: 0.7202 - mean_squared_error: 0.7202 - mean_absolute_error: 0.5823\n",
      "Epoch 2/50\n",
      "29/29 [==============================] - 0s 3ms/step - loss: 0.2747 - mean_squared_error: 0.2747 - mean_absolute_error: 0.3630\n",
      "Epoch 3/50\n",
      "29/29 [==============================] - 0s 3ms/step - loss: 0.2426 - mean_squared_error: 0.2426 - mean_absolute_error: 0.3385\n",
      "Epoch 4/50\n",
      "29/29 [==============================] - 0s 2ms/step - loss: 0.2233 - mean_squared_error: 0.2233 - mean_absolute_error: 0.3250\n",
      "Epoch 5/50\n",
      "29/29 [==============================] - 0s 2ms/step - loss: 0.2043 - mean_squared_error: 0.2043 - mean_absolute_error: 0.3150\n",
      "Epoch 6/50\n",
      "29/29 [==============================] - 0s 2ms/step - loss: 0.2201 - mean_squared_error: 0.2201 - mean_absolute_error: 0.3235\n",
      "Epoch 7/50\n",
      "29/29 [==============================] - 0s 2ms/step - loss: 0.1986 - mean_squared_error: 0.1986 - mean_absolute_error: 0.3093\n",
      "Epoch 8/50\n",
      "29/29 [==============================] - 0s 2ms/step - loss: 0.2082 - mean_squared_error: 0.2082 - mean_absolute_error: 0.3118\n",
      "Epoch 9/50\n",
      "29/29 [==============================] - 0s 2ms/step - loss: 0.1949 - mean_squared_error: 0.1949 - mean_absolute_error: 0.3006\n",
      "Epoch 10/50\n",
      "29/29 [==============================] - 0s 5ms/step - loss: 0.1745 - mean_squared_error: 0.1745 - mean_absolute_error: 0.2906\n",
      "Epoch 11/50\n",
      "29/29 [==============================] - 0s 2ms/step - loss: 0.1663 - mean_squared_error: 0.1663 - mean_absolute_error: 0.2846\n",
      "Epoch 12/50\n",
      "29/29 [==============================] - 0s 2ms/step - loss: 0.1557 - mean_squared_error: 0.1557 - mean_absolute_error: 0.2762\n",
      "Epoch 13/50\n",
      "29/29 [==============================] - 0s 2ms/step - loss: 0.1467 - mean_squared_error: 0.1467 - mean_absolute_error: 0.2703\n",
      "Epoch 14/50\n",
      "29/29 [==============================] - 0s 4ms/step - loss: 0.1436 - mean_squared_error: 0.1436 - mean_absolute_error: 0.2666\n",
      "Epoch 15/50\n",
      "29/29 [==============================] - 0s 2ms/step - loss: 0.1432 - mean_squared_error: 0.1432 - mean_absolute_error: 0.2706\n",
      "Epoch 16/50\n",
      "29/29 [==============================] - 0s 2ms/step - loss: 0.1384 - mean_squared_error: 0.1384 - mean_absolute_error: 0.2729\n",
      "Epoch 17/50\n",
      "29/29 [==============================] - 0s 2ms/step - loss: 0.1223 - mean_squared_error: 0.1223 - mean_absolute_error: 0.2489\n",
      "Epoch 18/50\n",
      "29/29 [==============================] - 0s 2ms/step - loss: 0.1653 - mean_squared_error: 0.1653 - mean_absolute_error: 0.2885\n",
      "Epoch 19/50\n",
      "29/29 [==============================] - 0s 2ms/step - loss: 0.1613 - mean_squared_error: 0.1613 - mean_absolute_error: 0.2884\n",
      "Epoch 20/50\n",
      "29/29 [==============================] - 0s 2ms/step - loss: 0.1219 - mean_squared_error: 0.1219 - mean_absolute_error: 0.2500\n",
      "Epoch 21/50\n",
      "29/29 [==============================] - 0s 2ms/step - loss: 0.1156 - mean_squared_error: 0.1156 - mean_absolute_error: 0.2474\n",
      "Epoch 22/50\n",
      "29/29 [==============================] - 0s 2ms/step - loss: 0.1020 - mean_squared_error: 0.1020 - mean_absolute_error: 0.2321\n",
      "Epoch 23/50\n",
      "29/29 [==============================] - 0s 2ms/step - loss: 0.0997 - mean_squared_error: 0.0997 - mean_absolute_error: 0.2316\n",
      "Epoch 24/50\n",
      "29/29 [==============================] - 0s 2ms/step - loss: 0.1267 - mean_squared_error: 0.1267 - mean_absolute_error: 0.2625\n",
      "Epoch 25/50\n",
      "29/29 [==============================] - 0s 2ms/step - loss: 0.0987 - mean_squared_error: 0.0987 - mean_absolute_error: 0.2275\n",
      "Epoch 26/50\n",
      "29/29 [==============================] - 0s 2ms/step - loss: 0.0947 - mean_squared_error: 0.0947 - mean_absolute_error: 0.2270\n",
      "Epoch 27/50\n",
      "29/29 [==============================] - 0s 2ms/step - loss: 0.1153 - mean_squared_error: 0.1153 - mean_absolute_error: 0.2486\n",
      "Epoch 28/50\n",
      "29/29 [==============================] - 0s 2ms/step - loss: 0.0910 - mean_squared_error: 0.0910 - mean_absolute_error: 0.2230\n",
      "Epoch 29/50\n",
      "29/29 [==============================] - 0s 2ms/step - loss: 0.0870 - mean_squared_error: 0.0870 - mean_absolute_error: 0.2189\n",
      "Epoch 30/50\n",
      "29/29 [==============================] - 0s 2ms/step - loss: 0.0784 - mean_squared_error: 0.0784 - mean_absolute_error: 0.2079\n",
      "Epoch 31/50\n",
      "29/29 [==============================] - 0s 2ms/step - loss: 0.1224 - mean_squared_error: 0.1224 - mean_absolute_error: 0.2533\n",
      "Epoch 32/50\n",
      "29/29 [==============================] - 0s 2ms/step - loss: 0.0887 - mean_squared_error: 0.0887 - mean_absolute_error: 0.2176\n",
      "Epoch 33/50\n",
      "29/29 [==============================] - 0s 2ms/step - loss: 0.0745 - mean_squared_error: 0.0745 - mean_absolute_error: 0.2025\n",
      "Epoch 34/50\n",
      "29/29 [==============================] - 0s 2ms/step - loss: 0.0737 - mean_squared_error: 0.0737 - mean_absolute_error: 0.2034\n",
      "Epoch 35/50\n",
      "29/29 [==============================] - 0s 4ms/step - loss: 0.0730 - mean_squared_error: 0.0730 - mean_absolute_error: 0.2019\n",
      "Epoch 36/50\n",
      "29/29 [==============================] - 0s 2ms/step - loss: 0.0739 - mean_squared_error: 0.0739 - mean_absolute_error: 0.1997\n",
      "Epoch 37/50\n",
      "29/29 [==============================] - 0s 2ms/step - loss: 0.0664 - mean_squared_error: 0.0664 - mean_absolute_error: 0.1945\n",
      "Epoch 38/50\n",
      "29/29 [==============================] - 0s 2ms/step - loss: 0.0644 - mean_squared_error: 0.0644 - mean_absolute_error: 0.1908\n",
      "Epoch 39/50\n",
      "29/29 [==============================] - 0s 2ms/step - loss: 0.0645 - mean_squared_error: 0.0645 - mean_absolute_error: 0.1869\n",
      "Epoch 40/50\n",
      "29/29 [==============================] - 0s 2ms/step - loss: 0.0601 - mean_squared_error: 0.0601 - mean_absolute_error: 0.1835\n",
      "Epoch 41/50\n",
      "29/29 [==============================] - 0s 2ms/step - loss: 0.0591 - mean_squared_error: 0.0591 - mean_absolute_error: 0.1834\n",
      "Epoch 42/50\n",
      "29/29 [==============================] - 0s 2ms/step - loss: 0.0565 - mean_squared_error: 0.0565 - mean_absolute_error: 0.1777\n",
      "Epoch 43/50\n",
      "29/29 [==============================] - 0s 2ms/step - loss: 0.0568 - mean_squared_error: 0.0568 - mean_absolute_error: 0.1795\n",
      "Epoch 44/50\n",
      "29/29 [==============================] - 0s 2ms/step - loss: 0.0827 - mean_squared_error: 0.0827 - mean_absolute_error: 0.2079\n",
      "Epoch 45/50\n",
      "29/29 [==============================] - 0s 2ms/step - loss: 0.0661 - mean_squared_error: 0.0661 - mean_absolute_error: 0.1937\n",
      "Epoch 46/50\n",
      "29/29 [==============================] - 0s 2ms/step - loss: 0.0563 - mean_squared_error: 0.0563 - mean_absolute_error: 0.1777\n",
      "Epoch 47/50\n",
      "29/29 [==============================] - 0s 2ms/step - loss: 0.0565 - mean_squared_error: 0.0565 - mean_absolute_error: 0.1795\n",
      "Epoch 48/50\n",
      "29/29 [==============================] - 0s 2ms/step - loss: 0.0463 - mean_squared_error: 0.0463 - mean_absolute_error: 0.1630\n",
      "Epoch 49/50\n",
      "29/29 [==============================] - 0s 2ms/step - loss: 0.0483 - mean_squared_error: 0.0483 - mean_absolute_error: 0.1646\n",
      "Epoch 50/50\n",
      "29/29 [==============================] - 0s 2ms/step - loss: 0.0484 - mean_squared_error: 0.0484 - mean_absolute_error: 0.1673\n"
     ]
    },
    {
     "data": {
      "text/html": [
       "<style>#sk-container-id-6 {color: black;background-color: white;}#sk-container-id-6 pre{padding: 0;}#sk-container-id-6 div.sk-toggleable {background-color: white;}#sk-container-id-6 label.sk-toggleable__label {cursor: pointer;display: block;width: 100%;margin-bottom: 0;padding: 0.3em;box-sizing: border-box;text-align: center;}#sk-container-id-6 label.sk-toggleable__label-arrow:before {content: \"▸\";float: left;margin-right: 0.25em;color: #696969;}#sk-container-id-6 label.sk-toggleable__label-arrow:hover:before {color: black;}#sk-container-id-6 div.sk-estimator:hover label.sk-toggleable__label-arrow:before {color: black;}#sk-container-id-6 div.sk-toggleable__content {max-height: 0;max-width: 0;overflow: hidden;text-align: left;background-color: #f0f8ff;}#sk-container-id-6 div.sk-toggleable__content pre {margin: 0.2em;color: black;border-radius: 0.25em;background-color: #f0f8ff;}#sk-container-id-6 input.sk-toggleable__control:checked~div.sk-toggleable__content {max-height: 200px;max-width: 100%;overflow: auto;}#sk-container-id-6 input.sk-toggleable__control:checked~label.sk-toggleable__label-arrow:before {content: \"▾\";}#sk-container-id-6 div.sk-estimator input.sk-toggleable__control:checked~label.sk-toggleable__label {background-color: #d4ebff;}#sk-container-id-6 div.sk-label input.sk-toggleable__control:checked~label.sk-toggleable__label {background-color: #d4ebff;}#sk-container-id-6 input.sk-hidden--visually {border: 0;clip: rect(1px 1px 1px 1px);clip: rect(1px, 1px, 1px, 1px);height: 1px;margin: -1px;overflow: hidden;padding: 0;position: absolute;width: 1px;}#sk-container-id-6 div.sk-estimator {font-family: monospace;background-color: #f0f8ff;border: 1px dotted black;border-radius: 0.25em;box-sizing: border-box;margin-bottom: 0.5em;}#sk-container-id-6 div.sk-estimator:hover {background-color: #d4ebff;}#sk-container-id-6 div.sk-parallel-item::after {content: \"\";width: 100%;border-bottom: 1px solid gray;flex-grow: 1;}#sk-container-id-6 div.sk-label:hover label.sk-toggleable__label {background-color: #d4ebff;}#sk-container-id-6 div.sk-serial::before {content: \"\";position: absolute;border-left: 1px solid gray;box-sizing: border-box;top: 0;bottom: 0;left: 50%;z-index: 0;}#sk-container-id-6 div.sk-serial {display: flex;flex-direction: column;align-items: center;background-color: white;padding-right: 0.2em;padding-left: 0.2em;position: relative;}#sk-container-id-6 div.sk-item {position: relative;z-index: 1;}#sk-container-id-6 div.sk-parallel {display: flex;align-items: stretch;justify-content: center;background-color: white;position: relative;}#sk-container-id-6 div.sk-item::before, #sk-container-id-6 div.sk-parallel-item::before {content: \"\";position: absolute;border-left: 1px solid gray;box-sizing: border-box;top: 0;bottom: 0;left: 50%;z-index: -1;}#sk-container-id-6 div.sk-parallel-item {display: flex;flex-direction: column;z-index: 1;position: relative;background-color: white;}#sk-container-id-6 div.sk-parallel-item:first-child::after {align-self: flex-end;width: 50%;}#sk-container-id-6 div.sk-parallel-item:last-child::after {align-self: flex-start;width: 50%;}#sk-container-id-6 div.sk-parallel-item:only-child::after {width: 0;}#sk-container-id-6 div.sk-dashed-wrapped {border: 1px dashed gray;margin: 0 0.4em 0.5em 0.4em;box-sizing: border-box;padding-bottom: 0.4em;background-color: white;}#sk-container-id-6 div.sk-label label {font-family: monospace;font-weight: bold;display: inline-block;line-height: 1.2em;}#sk-container-id-6 div.sk-label-container {text-align: center;}#sk-container-id-6 div.sk-container {/* jupyter's `normalize.less` sets `[hidden] { display: none; }` but bootstrap.min.css set `[hidden] { display: none !important; }` so we also need the `!important` here to be able to override the default hidden behavior on the sphinx rendered scikit-learn.org. See: https://github.com/scikit-learn/scikit-learn/issues/21755 */display: inline-block !important;position: relative;}#sk-container-id-6 div.sk-text-repr-fallback {display: none;}</style><div id=\"sk-container-id-6\" class=\"sk-top-container\"><div class=\"sk-text-repr-fallback\"><pre>Pipeline(steps=[(&#x27;to_data_frame&#x27;, ToDataFrame()),\n",
       "                (&#x27;preprocess&#x27;,\n",
       "                 ColumnTransformer(transformers=[(&#x27;normalize&#x27;, StandardScaler(),\n",
       "                                                  [&#x27;lot_sqft&#x27;, &#x27;sqft&#x27;]),\n",
       "                                                 (&#x27;bucketize&#x27;,\n",
       "                                                  KBinsDiscretizer(strategy=&#x27;uniform&#x27;),\n",
       "                                                  [&#x27;year_built&#x27;]),\n",
       "                                                 (&#x27;lat_long&#x27;,\n",
       "                                                  Pipeline(steps=[(&#x27;impute&#x27;,\n",
       "                                                                   SimpleImputer()),\n",
       "                                                                  (&#x27;bucketize&#x27;,\n",
       "                                                                   KBinsDiscretizer(strategy=&#x27;uniform&#x27;))]),\n",
       "                                                  [&#x27;lat&#x27;, &#x27;long&#x27;]),\n",
       "                                                 (&#x27;dummy&#x27;,\n",
       "                                                  OneHot...\n",
       "                                       &#x27;area_type&#x27;: &#x27;address&#x27;,\n",
       "                                       &#x27;centroid&#x27;: {&#x27;lat&#x27;: 47.572613,\n",
       "                                                    &#x27;lon&#x27;: -122.306358},\n",
       "                                       &#x27;city&#x27;: &#x27;Seattle&#x27;, &#x27;country&#x27;: &#x27;USA&#x27;,\n",
       "                                       &#x27;full_address&#x27;: [&#x27;3416 19th Ave S &#x27;\n",
       "                                                        &#x27;Seattle WA 98144&#x27;,\n",
       "                                                        &#x27;3416 19th Ave S &#x27;\n",
       "                                                        &#x27;Seattle WA&#x27;],\n",
       "                                       &#x27;line&#x27;: &#x27;3416 19th Ave S&#x27;,\n",
       "                                       &#x27;mpr_id&#x27;: &#x27;1897471296&#x27;,\n",
       "                                       &#x27;postal_code&#x27;: &#x27;98144&#x27;,\n",
       "                                       &#x27;prop_status&#x27;: [&#x27;recently_sold&#x27;,\n",
       "                                                       &#x27;off_market&#x27;],\n",
       "                                       &#x27;property_id&#x27;: &#x27;1897471296&#x27;,\n",
       "                                       &#x27;state_code&#x27;: &#x27;WA&#x27;,\n",
       "                                       &#x27;validation_code&#x27;: [&#x27;121&#x27;]}))])</pre><b>In a Jupyter environment, please rerun this cell to show the HTML representation or trust the notebook. <br />On GitHub, the HTML representation is unable to render, please try loading this page with nbviewer.org.</b></div><div class=\"sk-container\" hidden><div class=\"sk-item sk-dashed-wrapped\"><div class=\"sk-label-container\"><div class=\"sk-label sk-toggleable\"><input class=\"sk-toggleable__control sk-hidden--visually\" id=\"sk-estimator-id-78\" type=\"checkbox\" ><label for=\"sk-estimator-id-78\" class=\"sk-toggleable__label sk-toggleable__label-arrow\">Pipeline</label><div class=\"sk-toggleable__content\"><pre>Pipeline(steps=[(&#x27;to_data_frame&#x27;, ToDataFrame()),\n",
       "                (&#x27;preprocess&#x27;,\n",
       "                 ColumnTransformer(transformers=[(&#x27;normalize&#x27;, StandardScaler(),\n",
       "                                                  [&#x27;lot_sqft&#x27;, &#x27;sqft&#x27;]),\n",
       "                                                 (&#x27;bucketize&#x27;,\n",
       "                                                  KBinsDiscretizer(strategy=&#x27;uniform&#x27;),\n",
       "                                                  [&#x27;year_built&#x27;]),\n",
       "                                                 (&#x27;lat_long&#x27;,\n",
       "                                                  Pipeline(steps=[(&#x27;impute&#x27;,\n",
       "                                                                   SimpleImputer()),\n",
       "                                                                  (&#x27;bucketize&#x27;,\n",
       "                                                                   KBinsDiscretizer(strategy=&#x27;uniform&#x27;))]),\n",
       "                                                  [&#x27;lat&#x27;, &#x27;long&#x27;]),\n",
       "                                                 (&#x27;dummy&#x27;,\n",
       "                                                  OneHot...\n",
       "                                       &#x27;area_type&#x27;: &#x27;address&#x27;,\n",
       "                                       &#x27;centroid&#x27;: {&#x27;lat&#x27;: 47.572613,\n",
       "                                                    &#x27;lon&#x27;: -122.306358},\n",
       "                                       &#x27;city&#x27;: &#x27;Seattle&#x27;, &#x27;country&#x27;: &#x27;USA&#x27;,\n",
       "                                       &#x27;full_address&#x27;: [&#x27;3416 19th Ave S &#x27;\n",
       "                                                        &#x27;Seattle WA 98144&#x27;,\n",
       "                                                        &#x27;3416 19th Ave S &#x27;\n",
       "                                                        &#x27;Seattle WA&#x27;],\n",
       "                                       &#x27;line&#x27;: &#x27;3416 19th Ave S&#x27;,\n",
       "                                       &#x27;mpr_id&#x27;: &#x27;1897471296&#x27;,\n",
       "                                       &#x27;postal_code&#x27;: &#x27;98144&#x27;,\n",
       "                                       &#x27;prop_status&#x27;: [&#x27;recently_sold&#x27;,\n",
       "                                                       &#x27;off_market&#x27;],\n",
       "                                       &#x27;property_id&#x27;: &#x27;1897471296&#x27;,\n",
       "                                       &#x27;state_code&#x27;: &#x27;WA&#x27;,\n",
       "                                       &#x27;validation_code&#x27;: [&#x27;121&#x27;]}))])</pre></div></div></div><div class=\"sk-serial\"><div class=\"sk-item\"><div class=\"sk-estimator sk-toggleable\"><input class=\"sk-toggleable__control sk-hidden--visually\" id=\"sk-estimator-id-79\" type=\"checkbox\" ><label for=\"sk-estimator-id-79\" class=\"sk-toggleable__label sk-toggleable__label-arrow\">ToDataFrame</label><div class=\"sk-toggleable__content\"><pre>ToDataFrame()</pre></div></div></div><div class=\"sk-item sk-dashed-wrapped\"><div class=\"sk-label-container\"><div class=\"sk-label sk-toggleable\"><input class=\"sk-toggleable__control sk-hidden--visually\" id=\"sk-estimator-id-80\" type=\"checkbox\" ><label for=\"sk-estimator-id-80\" class=\"sk-toggleable__label sk-toggleable__label-arrow\">preprocess: ColumnTransformer</label><div class=\"sk-toggleable__content\"><pre>ColumnTransformer(transformers=[(&#x27;normalize&#x27;, StandardScaler(),\n",
       "                                 [&#x27;lot_sqft&#x27;, &#x27;sqft&#x27;]),\n",
       "                                (&#x27;bucketize&#x27;,\n",
       "                                 KBinsDiscretizer(strategy=&#x27;uniform&#x27;),\n",
       "                                 [&#x27;year_built&#x27;]),\n",
       "                                (&#x27;lat_long&#x27;,\n",
       "                                 Pipeline(steps=[(&#x27;impute&#x27;, SimpleImputer()),\n",
       "                                                 (&#x27;bucketize&#x27;,\n",
       "                                                  KBinsDiscretizer(strategy=&#x27;uniform&#x27;))]),\n",
       "                                 [&#x27;lat&#x27;, &#x27;long&#x27;]),\n",
       "                                (&#x27;dummy&#x27;,\n",
       "                                 OneHotEncoder(handle_unknown=&#x27;ignore&#x27;,\n",
       "                                               sparse_output=False),\n",
       "                                 [&#x27;baths_full&#x27;, &#x27;baths_3qtr&#x27;, &#x27;baths_half&#x27;,\n",
       "                                  &#x27;baths_1qtr&#x27;, &#x27;garage&#x27;, &#x27;stories&#x27;, &#x27;beds&#x27;])])</pre></div></div></div><div class=\"sk-parallel\"><div class=\"sk-parallel-item\"><div class=\"sk-item\"><div class=\"sk-label-container\"><div class=\"sk-label sk-toggleable\"><input class=\"sk-toggleable__control sk-hidden--visually\" id=\"sk-estimator-id-81\" type=\"checkbox\" ><label for=\"sk-estimator-id-81\" class=\"sk-toggleable__label sk-toggleable__label-arrow\">normalize</label><div class=\"sk-toggleable__content\"><pre>[&#x27;lot_sqft&#x27;, &#x27;sqft&#x27;]</pre></div></div></div><div class=\"sk-serial\"><div class=\"sk-item\"><div class=\"sk-estimator sk-toggleable\"><input class=\"sk-toggleable__control sk-hidden--visually\" id=\"sk-estimator-id-82\" type=\"checkbox\" ><label for=\"sk-estimator-id-82\" class=\"sk-toggleable__label sk-toggleable__label-arrow\">StandardScaler</label><div class=\"sk-toggleable__content\"><pre>StandardScaler()</pre></div></div></div></div></div></div><div class=\"sk-parallel-item\"><div class=\"sk-item\"><div class=\"sk-label-container\"><div class=\"sk-label sk-toggleable\"><input class=\"sk-toggleable__control sk-hidden--visually\" id=\"sk-estimator-id-83\" type=\"checkbox\" ><label for=\"sk-estimator-id-83\" class=\"sk-toggleable__label sk-toggleable__label-arrow\">bucketize</label><div class=\"sk-toggleable__content\"><pre>[&#x27;year_built&#x27;]</pre></div></div></div><div class=\"sk-serial\"><div class=\"sk-item\"><div class=\"sk-estimator sk-toggleable\"><input class=\"sk-toggleable__control sk-hidden--visually\" id=\"sk-estimator-id-84\" type=\"checkbox\" ><label for=\"sk-estimator-id-84\" class=\"sk-toggleable__label sk-toggleable__label-arrow\">KBinsDiscretizer</label><div class=\"sk-toggleable__content\"><pre>KBinsDiscretizer(strategy=&#x27;uniform&#x27;)</pre></div></div></div></div></div></div><div class=\"sk-parallel-item\"><div class=\"sk-item\"><div class=\"sk-label-container\"><div class=\"sk-label sk-toggleable\"><input class=\"sk-toggleable__control sk-hidden--visually\" id=\"sk-estimator-id-85\" type=\"checkbox\" ><label for=\"sk-estimator-id-85\" class=\"sk-toggleable__label sk-toggleable__label-arrow\">lat_long</label><div class=\"sk-toggleable__content\"><pre>[&#x27;lat&#x27;, &#x27;long&#x27;]</pre></div></div></div><div class=\"sk-serial\"><div class=\"sk-item\"><div class=\"sk-serial\"><div class=\"sk-item\"><div class=\"sk-estimator sk-toggleable\"><input class=\"sk-toggleable__control sk-hidden--visually\" id=\"sk-estimator-id-86\" type=\"checkbox\" ><label for=\"sk-estimator-id-86\" class=\"sk-toggleable__label sk-toggleable__label-arrow\">SimpleImputer</label><div class=\"sk-toggleable__content\"><pre>SimpleImputer()</pre></div></div></div><div class=\"sk-item\"><div class=\"sk-estimator sk-toggleable\"><input class=\"sk-toggleable__control sk-hidden--visually\" id=\"sk-estimator-id-87\" type=\"checkbox\" ><label for=\"sk-estimator-id-87\" class=\"sk-toggleable__label sk-toggleable__label-arrow\">KBinsDiscretizer</label><div class=\"sk-toggleable__content\"><pre>KBinsDiscretizer(strategy=&#x27;uniform&#x27;)</pre></div></div></div></div></div></div></div></div><div class=\"sk-parallel-item\"><div class=\"sk-item\"><div class=\"sk-label-container\"><div class=\"sk-label sk-toggleable\"><input class=\"sk-toggleable__control sk-hidden--visually\" id=\"sk-estimator-id-88\" type=\"checkbox\" ><label for=\"sk-estimator-id-88\" class=\"sk-toggleable__label sk-toggleable__label-arrow\">dummy</label><div class=\"sk-toggleable__content\"><pre>[&#x27;baths_full&#x27;, &#x27;baths_3qtr&#x27;, &#x27;baths_half&#x27;, &#x27;baths_1qtr&#x27;, &#x27;garage&#x27;, &#x27;stories&#x27;, &#x27;beds&#x27;]</pre></div></div></div><div class=\"sk-serial\"><div class=\"sk-item\"><div class=\"sk-estimator sk-toggleable\"><input class=\"sk-toggleable__control sk-hidden--visually\" id=\"sk-estimator-id-89\" type=\"checkbox\" ><label for=\"sk-estimator-id-89\" class=\"sk-toggleable__label sk-toggleable__label-arrow\">OneHotEncoder</label><div class=\"sk-toggleable__content\"><pre>OneHotEncoder(handle_unknown=&#x27;ignore&#x27;, sparse_output=False)</pre></div></div></div></div></div></div></div></div><div class=\"sk-item\"><div class=\"sk-estimator sk-toggleable\"><input class=\"sk-toggleable__control sk-hidden--visually\" id=\"sk-estimator-id-90\" type=\"checkbox\" ><label for=\"sk-estimator-id-90\" class=\"sk-toggleable__label sk-toggleable__label-arrow\">KerasModel</label><div class=\"sk-toggleable__content\"><pre>KerasModel(load_model_if_available=False,\n",
       "           user_home={&#x27;_id&#x27;: &#x27;addr:1897471296&#x27;, &#x27;_score&#x27;: 10212.058,\n",
       "                      &#x27;area_type&#x27;: &#x27;address&#x27;,\n",
       "                      &#x27;centroid&#x27;: {&#x27;lat&#x27;: 47.572613, &#x27;lon&#x27;: -122.306358},\n",
       "                      &#x27;city&#x27;: &#x27;Seattle&#x27;, &#x27;country&#x27;: &#x27;USA&#x27;,\n",
       "                      &#x27;full_address&#x27;: [&#x27;3416 19th Ave S Seattle WA 98144&#x27;,\n",
       "                                       &#x27;3416 19th Ave S Seattle WA&#x27;],\n",
       "                      &#x27;line&#x27;: &#x27;3416 19th Ave S&#x27;, &#x27;mpr_id&#x27;: &#x27;1897471296&#x27;,\n",
       "                      &#x27;postal_code&#x27;: &#x27;98144&#x27;,\n",
       "                      &#x27;prop_status&#x27;: [&#x27;recently_sold&#x27;, &#x27;off_market&#x27;],\n",
       "                      &#x27;property_id&#x27;: &#x27;1897471296&#x27;, &#x27;state_code&#x27;: &#x27;WA&#x27;,\n",
       "                      &#x27;validation_code&#x27;: [&#x27;121&#x27;]})</pre></div></div></div></div></div></div></div>"
      ],
      "text/plain": [
       "Pipeline(steps=[('to_data_frame', ToDataFrame()),\n",
       "                ('preprocess',\n",
       "                 ColumnTransformer(transformers=[('normalize', StandardScaler(),\n",
       "                                                  ['lot_sqft', 'sqft']),\n",
       "                                                 ('bucketize',\n",
       "                                                  KBinsDiscretizer(strategy='uniform'),\n",
       "                                                  ['year_built']),\n",
       "                                                 ('lat_long',\n",
       "                                                  Pipeline(steps=[('impute',\n",
       "                                                                   SimpleImputer()),\n",
       "                                                                  ('bucketize',\n",
       "                                                                   KBinsDiscretizer(strategy='uniform'))]),\n",
       "                                                  ['lat', 'long']),\n",
       "                                                 ('dummy',\n",
       "                                                  OneHot...\n",
       "                                       'area_type': 'address',\n",
       "                                       'centroid': {'lat': 47.572613,\n",
       "                                                    'lon': -122.306358},\n",
       "                                       'city': 'Seattle', 'country': 'USA',\n",
       "                                       'full_address': ['3416 19th Ave S '\n",
       "                                                        'Seattle WA 98144',\n",
       "                                                        '3416 19th Ave S '\n",
       "                                                        'Seattle WA'],\n",
       "                                       'line': '3416 19th Ave S',\n",
       "                                       'mpr_id': '1897471296',\n",
       "                                       'postal_code': '98144',\n",
       "                                       'prop_status': ['recently_sold',\n",
       "                                                       'off_market'],\n",
       "                                       'property_id': '1897471296',\n",
       "                                       'state_code': 'WA',\n",
       "                                       'validation_code': ['121']}))])"
      ]
     },
     "execution_count": 42,
     "metadata": {},
     "output_type": "execute_result"
    }
   ],
   "source": [
    "from keras.models import Sequential\n",
    "from keras.layers import Dense, Dropout\n",
    "from keras.callbacks import EarlyStopping\n",
    "from scikeras.wrappers import KerasRegressor\n",
    "\n",
    "os.environ['TF_CPP_MIN_LOG_LEVEL'] = '1'\n",
    "\n",
    "class KerasModel(BaseEstimator, RegressorMixin):\n",
    "    def __init__(self, \n",
    "                 user_home, \n",
    "                 load_model_if_available : bool = True, \n",
    "                 update_model : bool = False, \n",
    "                 save_model : bool = False):\n",
    "        # Interesting note, this instance is created before paramters are passed into the step of the pipeline.\n",
    "        self.user_home = user_home\n",
    "        self.load_model_if_available = load_model_if_available\n",
    "        self.update_model = update_model\n",
    "        self.save_model = save_model\n",
    "\n",
    "        self.earlystopping = EarlyStopping(patience=5, verbose=1, min_delta=0.05)\n",
    "\n",
    "        if update_model and not self.load_model_if_available:\n",
    "            raise Exception('Can not update a model not loaded.')\n",
    "\n",
    "        self.model_name = f'{user_home.get(\"city\")}_{user_home.get(\"state_code\")}'\n",
    "\n",
    "    def _keras_model(self, n_cols):\n",
    "        km = Sequential()\n",
    "        km.add(Dense(256, input_shape=(n_cols,), activation='relu', kernel_initializer='normal', name='dense_1'))\n",
    "        km.add(Dense(128, activation='relu', kernel_initializer='normal', name='dense_2'))\n",
    "        km.add(Dropout(0.20, name='dropout'))\n",
    "        km.add(Dense(64, activation='relu', kernel_initializer='normal', name='dense_3'))\n",
    "        km.add(Dense(1, activation='linear', kernel_initializer='normal', name='output'))\n",
    "        km.compile(optimizer='adam', loss='mean_squared_error', metrics=['mean_squared_error', 'mean_absolute_error'])\n",
    "        return KerasRegressor(model=km)\n",
    "\n",
    "    def _generate_model(self, X, y):\n",
    "            if not self.update_model: \n",
    "                self.model = self._keras_model(n_cols=X.shape[1])\n",
    "            self.model.fit(X, y, epochs=50, batch_size = 50, callbacks = self.earlystopping)\n",
    "\n",
    "    def fit(self, X, y=None):\n",
    "        model_file_path = f'Saved Results/KerasModel/{self.model_name}.pkl'\n",
    "\n",
    "        if self.load_model_if_available:\n",
    "            if os.path.isfile(model_file_path):\n",
    "                with open(model_file_path, 'rb') as f:\n",
    "                    self.model = pickle.load(f)\n",
    "                if self.update_model:\n",
    "                    self._generate_model(X, y)\n",
    "            else:\n",
    "                print(f'No model found, generating {self.model_name}.')\n",
    "                self._generate_model(X, y)\n",
    "        else:\n",
    "            self._generate_model(X, y)\n",
    "\n",
    "        if self.update_model or self.save_model:\n",
    "            with open(model_file_path, 'wb') as f:\n",
    "                pickle.dump(self.model, f)\n",
    "        \n",
    "        return self\n",
    "\n",
    "    def predict(self, X, tt = target_transformer):\n",
    "        return tt.inverse_transform(self.model.predict(X))\n",
    "\n",
    "keras_pipeline = Pipeline(\n",
    "    [\n",
    "        ('to_data_frame', ToDataFrame()),\n",
    "        ('preprocess', preprocess_data),\n",
    "        ('keras_model', KerasModel(user_home))\n",
    "    ]\n",
    ")\n",
    "\n",
    "keras_pipeline.set_params(**{\n",
    "    'keras_model__load_model_if_available' : False,\n",
    "    'keras_model__update_model' : False\n",
    "})\n",
    "\n",
    "keras_pipeline.fit(train_features, train_targets)"
   ]
  },
  {
   "cell_type": "code",
   "execution_count": 55,
   "metadata": {},
   "outputs": [
    {
     "name": "stdout",
     "output_type": "stream",
     "text": [
      "11/11 [==============================] - 0s 1ms/step\n"
     ]
    },
    {
     "data": {
      "text/plain": [
       "210790.87625"
      ]
     },
     "execution_count": 55,
     "metadata": {},
     "output_type": "execute_result"
    }
   ],
   "source": [
    "#best_keras.best_estimator_.score(test_features, target_transformer.inverse_transform(test_targets))\n",
    "preds = keras_pipeline.predict(test_features)\n",
    "mean_absolute_error(preds, target_transformer.inverse_transform(test_targets))"
   ]
  },
  {
   "cell_type": "code",
   "execution_count": 56,
   "metadata": {},
   "outputs": [
    {
     "data": {
      "text/plain": [
       "array([[-0.15784125]])"
      ]
     },
     "execution_count": 56,
     "metadata": {},
     "output_type": "execute_result"
    }
   ],
   "source": [
    "target_transformer.transform(np.array(fg.user_target).reshape(-1,1))"
   ]
  },
  {
   "cell_type": "code",
   "execution_count": 54,
   "metadata": {},
   "outputs": [
    {
     "name": "stdout",
     "output_type": "stream",
     "text": [
      "1/1 [==============================] - 0s 21ms/step\n"
     ]
    },
    {
     "data": {
      "text/plain": [
       "array([[1244988.4]], dtype=float32)"
      ]
     },
     "execution_count": 54,
     "metadata": {},
     "output_type": "execute_result"
    }
   ],
   "source": [
    "user_pred = keras_pipeline.predict(fg.user_features)\n",
    "#target_transformer.inverse_transform(fg.user_target) # I need to figure out how to get this in there.\n",
    "# From here, I can make a corrective ratio.\n",
    "# Then get toggles in here to update user_features\n",
    "user_pred"
   ]
  },
  {
   "cell_type": "code",
   "execution_count": 52,
   "metadata": {},
   "outputs": [
    {
     "name": "stdout",
     "output_type": "stream",
     "text": [
      "1/1 [==============================] - 0s 24ms/step\n"
     ]
    },
    {
     "data": {
      "text/plain": [
       "array([[1244988.4]], dtype=float32)"
      ]
     },
     "execution_count": 52,
     "metadata": {},
     "output_type": "execute_result"
    }
   ],
   "source": [
    "xx = fg.user_features.copy()\n",
    "xx['baths_half'] += 0\n",
    "keras_pipeline.predict(xx)"
   ]
  },
  {
   "cell_type": "code",
   "execution_count": 57,
   "metadata": {},
   "outputs": [
    {
     "data": {
      "text/plain": [
       "972500"
      ]
     },
     "execution_count": 57,
     "metadata": {},
     "output_type": "execute_result"
    }
   ],
   "source": [
    "fg.user_target"
   ]
  },
  {
   "cell_type": "code",
   "execution_count": null,
   "metadata": {},
   "outputs": [],
   "source": []
  }
 ],
 "metadata": {
  "kernelspec": {
   "display_name": "Python 3",
   "language": "python",
   "name": "python3"
  },
  "language_info": {
   "codemirror_mode": {
    "name": "ipython",
    "version": 3
   },
   "file_extension": ".py",
   "mimetype": "text/x-python",
   "name": "python",
   "nbconvert_exporter": "python",
   "pygments_lexer": "ipython3",
   "version": "3.10.8"
  },
  "orig_nbformat": 4,
  "vscode": {
   "interpreter": {
    "hash": "aee8b7b246df8f9039afb4144a1f6fd8d2ca17a180786b69acc140d282b71a49"
   }
  }
 },
 "nbformat": 4,
 "nbformat_minor": 2
}
