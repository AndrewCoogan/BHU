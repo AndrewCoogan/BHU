{
 "cells": [
  {
   "cell_type": "code",
   "execution_count": 1,
   "metadata": {},
   "outputs": [],
   "source": [
    "import real_estate_api as rea\n",
    "\n",
    "import os\n",
    "import pickle\n",
    "import random\n",
    "import numpy as np\n",
    "import pandas as pd\n",
    "\n",
    "from collections import Counter\n",
    "from itertools import chain\n",
    "\n",
    "from sklearn.base import TransformerMixin, BaseEstimator, RegressorMixin\n",
    "from sklearn.pipeline import Pipeline\n",
    "from sklearn.compose import ColumnTransformer\n",
    "from sklearn.preprocessing import MinMaxScaler, KBinsDiscretizer, OneHotEncoder, StandardScaler, RobustScaler\n",
    "from sklearn.impute import SimpleImputer\n",
    "from sklearn.feature_extraction import DictVectorizer\n",
    "from sklearn.metrics import mean_absolute_error\n",
    "\n",
    "import keys as k\n",
    "keys = k.getKeys()"
   ]
  },
  {
   "cell_type": "code",
   "execution_count": 2,
   "metadata": {},
   "outputs": [
    {
     "name": "stdout",
     "output_type": "stream",
     "text": [
      "Shortfall in listed houses detected, appending 114 of current listing to results.\n"
     ]
    }
   ],
   "source": [
    "user_home = rea.get_UserHome(keys['SampleHouse'].strip(\"\\'\"))\n",
    "user_home_details = rea.get_PropertyDetail(user_home['property_id'])\n",
    "hoi = rea.get_HousesOfInterest(user_home, n=2000, listed_to_sold_ratio=0.3, verbose=True)\n",
    "gd = rea.geo_data(hoi['geo'])"
   ]
  },
  {
   "cell_type": "code",
   "execution_count": 3,
   "metadata": {},
   "outputs": [],
   "source": [
    "# Can this be the first step in the pipeline or no?\n",
    "fg = rea.FeatureGenerator(\n",
    "    houses = hoi['houses'], \n",
    "    gd=gd,\n",
    "    user_home=user_home_details\n",
    ")"
   ]
  },
  {
   "cell_type": "code",
   "execution_count": 4,
   "metadata": {},
   "outputs": [],
   "source": [
    "# This will randomly take 20% of the data as a validation set.\n",
    "test_indicies = random.sample(range(0, len(fg.targets)), int(0.2 * len(fg.targets)))\n",
    "train_indicies = set(range(0, len(fg.targets))).difference(set(test_indicies))\n",
    "\n",
    "target_transformer = StandardScaler()\n",
    "train_targets = target_transformer.fit_transform(np.array(list(map(fg.targets.__getitem__, train_indicies))).reshape(-1,1))\n",
    "test_targets = target_transformer.transform(np.array(list(map(fg.targets.__getitem__, test_indicies))).reshape(-1,1))\n",
    "\n",
    "train_features = list(map(fg.features.__getitem__, train_indicies))\n",
    "test_features = list(map(fg.features.__getitem__, test_indicies))"
   ]
  },
  {
   "cell_type": "code",
   "execution_count": 5,
   "metadata": {},
   "outputs": [],
   "source": [
    "'''\n",
    "Days Listed - Linear\n",
    "Days Updated - Linear\n",
    "*baths - Normalize\n",
    "year_built - I want to bucketize these, then keep the dummies.\n",
    "lot_sqft - Normalize\n",
    "    Feature generation, multiply lot_sqft normalized and the inverse_distance\n",
    "        More questions, can you do this?\n",
    "sqft - Normalize\n",
    "garage / stories / beds - Normalize\n",
    "Tags - Do what we did in the nlp homework\n",
    "'''\n",
    "\n",
    "class ToDataFrame(BaseEstimator, TransformerMixin):\n",
    "    def fit(self, X, y=None):\n",
    "        return self\n",
    "    \n",
    "    def transform(self, X):\n",
    "        return pd.DataFrame(X).drop_duplicates(subset=['Property_ID'])\n",
    "\n",
    "class DictEncoder(BaseEstimator, TransformerMixin):\n",
    "    def __init__(self):\n",
    "        self.tags_to_keep = None\n",
    "\n",
    "    def fit(self, X, y=None):\n",
    "        tag_frequency = Counter(chain(*X))\n",
    "        self.tags_to_keep = [k for k, v in tag_frequency.items() if v > 1]\n",
    "        return self\n",
    "    \n",
    "    def transform(self, X):\n",
    "        return pd.Series(map(lambda l : {k : 1 for k in l if l in self.tags_to_keep}, X))\n",
    "\n",
    "minmax_cols = ['distance_to_home'] # 'Days_listed', 'Days_listed', \n",
    "normalize_cols = ['lot_sqft', 'sqft']\n",
    "bucketize_cols = ['year_built']\n",
    "lat_long_cols = ['lat', 'long']\n",
    "dummy_cols = ['baths_full', 'baths_3qtr', 'baths_half', 'baths_1qtr', 'garage', 'stories', 'beds']\n",
    "\n",
    "preprocess_min_max_cols = Pipeline(\n",
    "    [\n",
    "        ('impute', SimpleImputer(missing_values=np.nan, strategy=\"mean\")),\n",
    "        ('min_max_scale', MinMaxScaler())\n",
    "    ]\n",
    ")\n",
    "\n",
    "preprocess_tags_col = Pipeline(\n",
    "    [\n",
    "        ('dict_encode', DictEncoder()),\n",
    "        ('dict_vectorize', DictVectorizer())\n",
    "    ]\n",
    ")\n",
    "\n",
    "preprocess_lat_long_cols = Pipeline(\n",
    "    [\n",
    "        ('impute', SimpleImputer(missing_values=np.nan, strategy=\"median\")),\n",
    "        ('bucketize', KBinsDiscretizer(n_bins=20, strategy='uniform'))\n",
    "    ]\n",
    ")\n",
    "\n",
    "preprocess_data = ColumnTransformer(\n",
    "    [\n",
    "        ('scale', preprocess_min_max_cols, minmax_cols),\n",
    "        ('normalize', StandardScaler(), normalize_cols),\n",
    "        ('bucketize', KBinsDiscretizer(strategy='uniform'), bucketize_cols),\n",
    "        ('lat_long', preprocess_lat_long_cols, lat_long_cols),\n",
    "        ('dummy', OneHotEncoder(sparse_output=False, handle_unknown='ignore'), dummy_cols),\n",
    "        #('list', preprocess_tags_col, 'tags')\n",
    "    ]\n",
    ")"
   ]
  },
  {
   "cell_type": "code",
   "execution_count": 51,
   "metadata": {},
   "outputs": [
    {
     "name": "stdout",
     "output_type": "stream",
     "text": [
      "Epoch 1/50\n",
      "29/29 [==============================] - 1s 3ms/step - loss: 0.7231 - mean_squared_error: 0.7231 - mean_absolute_error: 0.5831\n",
      "Epoch 2/50\n",
      "29/29 [==============================] - 0s 3ms/step - loss: 0.2940 - mean_squared_error: 0.2940 - mean_absolute_error: 0.3841\n",
      "Epoch 3/50\n",
      "29/29 [==============================] - 0s 3ms/step - loss: 0.2591 - mean_squared_error: 0.2591 - mean_absolute_error: 0.3605\n",
      "Epoch 4/50\n",
      "29/29 [==============================] - 0s 2ms/step - loss: 0.2195 - mean_squared_error: 0.2195 - mean_absolute_error: 0.3241\n",
      "Epoch 5/50\n",
      "29/29 [==============================] - 0s 2ms/step - loss: 0.1957 - mean_squared_error: 0.1957 - mean_absolute_error: 0.3073\n",
      "Epoch 6/50\n",
      "29/29 [==============================] - 0s 2ms/step - loss: 0.1802 - mean_squared_error: 0.1802 - mean_absolute_error: 0.2904\n",
      "Epoch 7/50\n",
      "29/29 [==============================] - 0s 2ms/step - loss: 0.1712 - mean_squared_error: 0.1712 - mean_absolute_error: 0.2873\n",
      "Epoch 8/50\n",
      "29/29 [==============================] - 0s 2ms/step - loss: 0.1561 - mean_squared_error: 0.1561 - mean_absolute_error: 0.2756\n",
      "Epoch 9/50\n",
      "29/29 [==============================] - 0s 4ms/step - loss: 0.1434 - mean_squared_error: 0.1434 - mean_absolute_error: 0.2649\n",
      "Epoch 10/50\n",
      "29/29 [==============================] - 0s 3ms/step - loss: 0.1302 - mean_squared_error: 0.1302 - mean_absolute_error: 0.2500\n",
      "Epoch 11/50\n",
      "29/29 [==============================] - 0s 2ms/step - loss: 0.1195 - mean_squared_error: 0.1195 - mean_absolute_error: 0.2424\n",
      "Epoch 12/50\n",
      "29/29 [==============================] - 0s 2ms/step - loss: 0.1041 - mean_squared_error: 0.1041 - mean_absolute_error: 0.2270\n",
      "Epoch 13/50\n",
      "29/29 [==============================] - 0s 2ms/step - loss: 0.0990 - mean_squared_error: 0.0990 - mean_absolute_error: 0.2238\n",
      "Epoch 14/50\n",
      "29/29 [==============================] - 0s 2ms/step - loss: 0.0916 - mean_squared_error: 0.0916 - mean_absolute_error: 0.2154\n",
      "Epoch 15/50\n",
      "29/29 [==============================] - 0s 2ms/step - loss: 0.0790 - mean_squared_error: 0.0790 - mean_absolute_error: 0.2021\n",
      "Epoch 16/50\n",
      "29/29 [==============================] - 0s 2ms/step - loss: 0.0855 - mean_squared_error: 0.0855 - mean_absolute_error: 0.2143\n",
      "Epoch 17/50\n",
      "29/29 [==============================] - 0s 2ms/step - loss: 0.0714 - mean_squared_error: 0.0714 - mean_absolute_error: 0.1938\n",
      "Epoch 18/50\n",
      "29/29 [==============================] - 0s 2ms/step - loss: 0.0927 - mean_squared_error: 0.0927 - mean_absolute_error: 0.2170\n",
      "Epoch 19/50\n",
      "29/29 [==============================] - 0s 2ms/step - loss: 0.0725 - mean_squared_error: 0.0725 - mean_absolute_error: 0.1976\n",
      "Epoch 20/50\n",
      "29/29 [==============================] - 0s 2ms/step - loss: 0.0637 - mean_squared_error: 0.0637 - mean_absolute_error: 0.1857\n",
      "Epoch 21/50\n",
      "29/29 [==============================] - 0s 2ms/step - loss: 0.0558 - mean_squared_error: 0.0558 - mean_absolute_error: 0.1761\n",
      "Epoch 22/50\n",
      "29/29 [==============================] - 0s 2ms/step - loss: 0.0592 - mean_squared_error: 0.0592 - mean_absolute_error: 0.1774\n",
      "Epoch 23/50\n",
      "29/29 [==============================] - 0s 2ms/step - loss: 0.0532 - mean_squared_error: 0.0532 - mean_absolute_error: 0.1734\n",
      "Epoch 24/50\n",
      "29/29 [==============================] - 0s 2ms/step - loss: 0.0461 - mean_squared_error: 0.0461 - mean_absolute_error: 0.1605\n",
      "Epoch 25/50\n",
      "29/29 [==============================] - 0s 2ms/step - loss: 0.0548 - mean_squared_error: 0.0548 - mean_absolute_error: 0.1748\n",
      "Epoch 26/50\n",
      "29/29 [==============================] - 0s 3ms/step - loss: 0.0524 - mean_squared_error: 0.0524 - mean_absolute_error: 0.1697\n",
      "Epoch 27/50\n",
      "29/29 [==============================] - 0s 2ms/step - loss: 0.0429 - mean_squared_error: 0.0429 - mean_absolute_error: 0.1542\n",
      "Epoch 28/50\n",
      "29/29 [==============================] - 0s 3ms/step - loss: 0.0577 - mean_squared_error: 0.0577 - mean_absolute_error: 0.1799\n",
      "Epoch 29/50\n",
      "29/29 [==============================] - 0s 4ms/step - loss: 0.0468 - mean_squared_error: 0.0468 - mean_absolute_error: 0.1574\n",
      "Epoch 30/50\n",
      "29/29 [==============================] - 0s 3ms/step - loss: 0.0535 - mean_squared_error: 0.0535 - mean_absolute_error: 0.1690\n",
      "Epoch 31/50\n",
      "29/29 [==============================] - 0s 2ms/step - loss: 0.0389 - mean_squared_error: 0.0389 - mean_absolute_error: 0.1481\n",
      "Epoch 32/50\n",
      "29/29 [==============================] - 0s 2ms/step - loss: 0.0391 - mean_squared_error: 0.0391 - mean_absolute_error: 0.1483\n",
      "Epoch 33/50\n",
      "29/29 [==============================] - 0s 2ms/step - loss: 0.0393 - mean_squared_error: 0.0393 - mean_absolute_error: 0.1483\n",
      "Epoch 34/50\n",
      "29/29 [==============================] - 0s 2ms/step - loss: 0.0320 - mean_squared_error: 0.0320 - mean_absolute_error: 0.1363\n",
      "Epoch 35/50\n",
      "29/29 [==============================] - 0s 2ms/step - loss: 0.0298 - mean_squared_error: 0.0298 - mean_absolute_error: 0.1323\n",
      "Epoch 36/50\n",
      "29/29 [==============================] - 0s 2ms/step - loss: 0.0322 - mean_squared_error: 0.0322 - mean_absolute_error: 0.1350\n",
      "Epoch 37/50\n",
      "29/29 [==============================] - 0s 2ms/step - loss: 0.0282 - mean_squared_error: 0.0282 - mean_absolute_error: 0.1260\n",
      "Epoch 38/50\n",
      "29/29 [==============================] - 0s 2ms/step - loss: 0.0281 - mean_squared_error: 0.0281 - mean_absolute_error: 0.1281\n",
      "Epoch 39/50\n",
      "29/29 [==============================] - 0s 2ms/step - loss: 0.0272 - mean_squared_error: 0.0272 - mean_absolute_error: 0.1271\n",
      "Epoch 40/50\n",
      "29/29 [==============================] - 0s 2ms/step - loss: 0.0234 - mean_squared_error: 0.0234 - mean_absolute_error: 0.1142\n",
      "Epoch 41/50\n",
      "29/29 [==============================] - 0s 2ms/step - loss: 0.0232 - mean_squared_error: 0.0232 - mean_absolute_error: 0.1126\n",
      "Epoch 42/50\n",
      "29/29 [==============================] - 0s 2ms/step - loss: 0.0224 - mean_squared_error: 0.0224 - mean_absolute_error: 0.1113\n",
      "Epoch 43/50\n",
      "29/29 [==============================] - 0s 2ms/step - loss: 0.0198 - mean_squared_error: 0.0198 - mean_absolute_error: 0.1058\n",
      "Epoch 44/50\n",
      "29/29 [==============================] - 0s 2ms/step - loss: 0.0221 - mean_squared_error: 0.0221 - mean_absolute_error: 0.1112\n",
      "Epoch 45/50\n",
      "29/29 [==============================] - 0s 2ms/step - loss: 0.0244 - mean_squared_error: 0.0244 - mean_absolute_error: 0.1151\n",
      "Epoch 46/50\n",
      "29/29 [==============================] - 0s 2ms/step - loss: 0.0202 - mean_squared_error: 0.0202 - mean_absolute_error: 0.1070\n",
      "Epoch 47/50\n",
      "29/29 [==============================] - 0s 2ms/step - loss: 0.0194 - mean_squared_error: 0.0194 - mean_absolute_error: 0.1071\n",
      "Epoch 48/50\n",
      "29/29 [==============================] - 0s 2ms/step - loss: 0.0243 - mean_squared_error: 0.0243 - mean_absolute_error: 0.1160\n",
      "Epoch 49/50\n",
      "29/29 [==============================] - 0s 2ms/step - loss: 0.0206 - mean_squared_error: 0.0206 - mean_absolute_error: 0.1043\n",
      "Epoch 50/50\n",
      "29/29 [==============================] - 0s 2ms/step - loss: 0.0208 - mean_squared_error: 0.0208 - mean_absolute_error: 0.1080\n"
     ]
    },
    {
     "name": "stderr",
     "output_type": "stream",
     "text": [
      "WARNING:absl:Found untraced functions such as _update_step_xla while saving (showing 1 of 1). These functions will not be directly callable after loading.\n"
     ]
    },
    {
     "data": {
      "text/html": [
       "<style>#sk-container-id-2 {color: black;background-color: white;}#sk-container-id-2 pre{padding: 0;}#sk-container-id-2 div.sk-toggleable {background-color: white;}#sk-container-id-2 label.sk-toggleable__label {cursor: pointer;display: block;width: 100%;margin-bottom: 0;padding: 0.3em;box-sizing: border-box;text-align: center;}#sk-container-id-2 label.sk-toggleable__label-arrow:before {content: \"▸\";float: left;margin-right: 0.25em;color: #696969;}#sk-container-id-2 label.sk-toggleable__label-arrow:hover:before {color: black;}#sk-container-id-2 div.sk-estimator:hover label.sk-toggleable__label-arrow:before {color: black;}#sk-container-id-2 div.sk-toggleable__content {max-height: 0;max-width: 0;overflow: hidden;text-align: left;background-color: #f0f8ff;}#sk-container-id-2 div.sk-toggleable__content pre {margin: 0.2em;color: black;border-radius: 0.25em;background-color: #f0f8ff;}#sk-container-id-2 input.sk-toggleable__control:checked~div.sk-toggleable__content {max-height: 200px;max-width: 100%;overflow: auto;}#sk-container-id-2 input.sk-toggleable__control:checked~label.sk-toggleable__label-arrow:before {content: \"▾\";}#sk-container-id-2 div.sk-estimator input.sk-toggleable__control:checked~label.sk-toggleable__label {background-color: #d4ebff;}#sk-container-id-2 div.sk-label input.sk-toggleable__control:checked~label.sk-toggleable__label {background-color: #d4ebff;}#sk-container-id-2 input.sk-hidden--visually {border: 0;clip: rect(1px 1px 1px 1px);clip: rect(1px, 1px, 1px, 1px);height: 1px;margin: -1px;overflow: hidden;padding: 0;position: absolute;width: 1px;}#sk-container-id-2 div.sk-estimator {font-family: monospace;background-color: #f0f8ff;border: 1px dotted black;border-radius: 0.25em;box-sizing: border-box;margin-bottom: 0.5em;}#sk-container-id-2 div.sk-estimator:hover {background-color: #d4ebff;}#sk-container-id-2 div.sk-parallel-item::after {content: \"\";width: 100%;border-bottom: 1px solid gray;flex-grow: 1;}#sk-container-id-2 div.sk-label:hover label.sk-toggleable__label {background-color: #d4ebff;}#sk-container-id-2 div.sk-serial::before {content: \"\";position: absolute;border-left: 1px solid gray;box-sizing: border-box;top: 0;bottom: 0;left: 50%;z-index: 0;}#sk-container-id-2 div.sk-serial {display: flex;flex-direction: column;align-items: center;background-color: white;padding-right: 0.2em;padding-left: 0.2em;position: relative;}#sk-container-id-2 div.sk-item {position: relative;z-index: 1;}#sk-container-id-2 div.sk-parallel {display: flex;align-items: stretch;justify-content: center;background-color: white;position: relative;}#sk-container-id-2 div.sk-item::before, #sk-container-id-2 div.sk-parallel-item::before {content: \"\";position: absolute;border-left: 1px solid gray;box-sizing: border-box;top: 0;bottom: 0;left: 50%;z-index: -1;}#sk-container-id-2 div.sk-parallel-item {display: flex;flex-direction: column;z-index: 1;position: relative;background-color: white;}#sk-container-id-2 div.sk-parallel-item:first-child::after {align-self: flex-end;width: 50%;}#sk-container-id-2 div.sk-parallel-item:last-child::after {align-self: flex-start;width: 50%;}#sk-container-id-2 div.sk-parallel-item:only-child::after {width: 0;}#sk-container-id-2 div.sk-dashed-wrapped {border: 1px dashed gray;margin: 0 0.4em 0.5em 0.4em;box-sizing: border-box;padding-bottom: 0.4em;background-color: white;}#sk-container-id-2 div.sk-label label {font-family: monospace;font-weight: bold;display: inline-block;line-height: 1.2em;}#sk-container-id-2 div.sk-label-container {text-align: center;}#sk-container-id-2 div.sk-container {/* jupyter's `normalize.less` sets `[hidden] { display: none; }` but bootstrap.min.css set `[hidden] { display: none !important; }` so we also need the `!important` here to be able to override the default hidden behavior on the sphinx rendered scikit-learn.org. See: https://github.com/scikit-learn/scikit-learn/issues/21755 */display: inline-block !important;position: relative;}#sk-container-id-2 div.sk-text-repr-fallback {display: none;}</style><div id=\"sk-container-id-2\" class=\"sk-top-container\"><div class=\"sk-text-repr-fallback\"><pre>Pipeline(steps=[(&#x27;to_data_frame&#x27;, ToDataFrame()),\n",
       "                (&#x27;preprocess&#x27;,\n",
       "                 ColumnTransformer(transformers=[(&#x27;scale&#x27;,\n",
       "                                                  Pipeline(steps=[(&#x27;impute&#x27;,\n",
       "                                                                   SimpleImputer()),\n",
       "                                                                  (&#x27;min_max_scale&#x27;,\n",
       "                                                                   MinMaxScaler())]),\n",
       "                                                  [&#x27;distance_to_home&#x27;]),\n",
       "                                                 (&#x27;normalize&#x27;, StandardScaler(),\n",
       "                                                  [&#x27;lot_sqft&#x27;, &#x27;sqft&#x27;]),\n",
       "                                                 (&#x27;bucketize&#x27;,\n",
       "                                                  KBinsDiscretizer(strategy=&#x27;uniform&#x27;),\n",
       "                                                  [&#x27;year_built&#x27;]),\n",
       "                                                 (&#x27;lat_long&#x27;,\n",
       "                                                  Pipeline(steps=[(&#x27;...\n",
       "                                       &#x27;area_type&#x27;: &#x27;address&#x27;,\n",
       "                                       &#x27;centroid&#x27;: {&#x27;lat&#x27;: 47.572613,\n",
       "                                                    &#x27;lon&#x27;: -122.306358},\n",
       "                                       &#x27;city&#x27;: &#x27;Seattle&#x27;, &#x27;country&#x27;: &#x27;USA&#x27;,\n",
       "                                       &#x27;full_address&#x27;: [&#x27;3416 19th Ave S &#x27;\n",
       "                                                        &#x27;Seattle WA 98144&#x27;,\n",
       "                                                        &#x27;3416 19th Ave S &#x27;\n",
       "                                                        &#x27;Seattle WA&#x27;],\n",
       "                                       &#x27;line&#x27;: &#x27;3416 19th Ave S&#x27;,\n",
       "                                       &#x27;mpr_id&#x27;: &#x27;1897471296&#x27;,\n",
       "                                       &#x27;postal_code&#x27;: &#x27;98144&#x27;,\n",
       "                                       &#x27;prop_status&#x27;: [&#x27;recently_sold&#x27;,\n",
       "                                                       &#x27;off_market&#x27;],\n",
       "                                       &#x27;property_id&#x27;: &#x27;1897471296&#x27;,\n",
       "                                       &#x27;state_code&#x27;: &#x27;WA&#x27;,\n",
       "                                       &#x27;validation_code&#x27;: [&#x27;121&#x27;]}))])</pre><b>In a Jupyter environment, please rerun this cell to show the HTML representation or trust the notebook. <br />On GitHub, the HTML representation is unable to render, please try loading this page with nbviewer.org.</b></div><div class=\"sk-container\" hidden><div class=\"sk-item sk-dashed-wrapped\"><div class=\"sk-label-container\"><div class=\"sk-label sk-toggleable\"><input class=\"sk-toggleable__control sk-hidden--visually\" id=\"sk-estimator-id-17\" type=\"checkbox\" ><label for=\"sk-estimator-id-17\" class=\"sk-toggleable__label sk-toggleable__label-arrow\">Pipeline</label><div class=\"sk-toggleable__content\"><pre>Pipeline(steps=[(&#x27;to_data_frame&#x27;, ToDataFrame()),\n",
       "                (&#x27;preprocess&#x27;,\n",
       "                 ColumnTransformer(transformers=[(&#x27;scale&#x27;,\n",
       "                                                  Pipeline(steps=[(&#x27;impute&#x27;,\n",
       "                                                                   SimpleImputer()),\n",
       "                                                                  (&#x27;min_max_scale&#x27;,\n",
       "                                                                   MinMaxScaler())]),\n",
       "                                                  [&#x27;distance_to_home&#x27;]),\n",
       "                                                 (&#x27;normalize&#x27;, StandardScaler(),\n",
       "                                                  [&#x27;lot_sqft&#x27;, &#x27;sqft&#x27;]),\n",
       "                                                 (&#x27;bucketize&#x27;,\n",
       "                                                  KBinsDiscretizer(strategy=&#x27;uniform&#x27;),\n",
       "                                                  [&#x27;year_built&#x27;]),\n",
       "                                                 (&#x27;lat_long&#x27;,\n",
       "                                                  Pipeline(steps=[(&#x27;...\n",
       "                                       &#x27;area_type&#x27;: &#x27;address&#x27;,\n",
       "                                       &#x27;centroid&#x27;: {&#x27;lat&#x27;: 47.572613,\n",
       "                                                    &#x27;lon&#x27;: -122.306358},\n",
       "                                       &#x27;city&#x27;: &#x27;Seattle&#x27;, &#x27;country&#x27;: &#x27;USA&#x27;,\n",
       "                                       &#x27;full_address&#x27;: [&#x27;3416 19th Ave S &#x27;\n",
       "                                                        &#x27;Seattle WA 98144&#x27;,\n",
       "                                                        &#x27;3416 19th Ave S &#x27;\n",
       "                                                        &#x27;Seattle WA&#x27;],\n",
       "                                       &#x27;line&#x27;: &#x27;3416 19th Ave S&#x27;,\n",
       "                                       &#x27;mpr_id&#x27;: &#x27;1897471296&#x27;,\n",
       "                                       &#x27;postal_code&#x27;: &#x27;98144&#x27;,\n",
       "                                       &#x27;prop_status&#x27;: [&#x27;recently_sold&#x27;,\n",
       "                                                       &#x27;off_market&#x27;],\n",
       "                                       &#x27;property_id&#x27;: &#x27;1897471296&#x27;,\n",
       "                                       &#x27;state_code&#x27;: &#x27;WA&#x27;,\n",
       "                                       &#x27;validation_code&#x27;: [&#x27;121&#x27;]}))])</pre></div></div></div><div class=\"sk-serial\"><div class=\"sk-item\"><div class=\"sk-estimator sk-toggleable\"><input class=\"sk-toggleable__control sk-hidden--visually\" id=\"sk-estimator-id-18\" type=\"checkbox\" ><label for=\"sk-estimator-id-18\" class=\"sk-toggleable__label sk-toggleable__label-arrow\">ToDataFrame</label><div class=\"sk-toggleable__content\"><pre>ToDataFrame()</pre></div></div></div><div class=\"sk-item sk-dashed-wrapped\"><div class=\"sk-label-container\"><div class=\"sk-label sk-toggleable\"><input class=\"sk-toggleable__control sk-hidden--visually\" id=\"sk-estimator-id-19\" type=\"checkbox\" ><label for=\"sk-estimator-id-19\" class=\"sk-toggleable__label sk-toggleable__label-arrow\">preprocess: ColumnTransformer</label><div class=\"sk-toggleable__content\"><pre>ColumnTransformer(transformers=[(&#x27;scale&#x27;,\n",
       "                                 Pipeline(steps=[(&#x27;impute&#x27;, SimpleImputer()),\n",
       "                                                 (&#x27;min_max_scale&#x27;,\n",
       "                                                  MinMaxScaler())]),\n",
       "                                 [&#x27;distance_to_home&#x27;]),\n",
       "                                (&#x27;normalize&#x27;, StandardScaler(),\n",
       "                                 [&#x27;lot_sqft&#x27;, &#x27;sqft&#x27;]),\n",
       "                                (&#x27;bucketize&#x27;,\n",
       "                                 KBinsDiscretizer(strategy=&#x27;uniform&#x27;),\n",
       "                                 [&#x27;year_built&#x27;]),\n",
       "                                (&#x27;lat_long&#x27;,\n",
       "                                 Pipeline(steps=[(&#x27;impute&#x27;,\n",
       "                                                  SimpleImputer(strategy=&#x27;median&#x27;)),\n",
       "                                                 (&#x27;bucketize&#x27;,\n",
       "                                                  KBinsDiscretizer(n_bins=20,\n",
       "                                                                   strategy=&#x27;uniform&#x27;))]),\n",
       "                                 [&#x27;lat&#x27;, &#x27;long&#x27;]),\n",
       "                                (&#x27;dummy&#x27;,\n",
       "                                 OneHotEncoder(handle_unknown=&#x27;ignore&#x27;,\n",
       "                                               sparse_output=False),\n",
       "                                 [&#x27;baths_full&#x27;, &#x27;baths_3qtr&#x27;, &#x27;baths_half&#x27;,\n",
       "                                  &#x27;baths_1qtr&#x27;, &#x27;garage&#x27;, &#x27;stories&#x27;, &#x27;beds&#x27;])])</pre></div></div></div><div class=\"sk-parallel\"><div class=\"sk-parallel-item\"><div class=\"sk-item\"><div class=\"sk-label-container\"><div class=\"sk-label sk-toggleable\"><input class=\"sk-toggleable__control sk-hidden--visually\" id=\"sk-estimator-id-20\" type=\"checkbox\" ><label for=\"sk-estimator-id-20\" class=\"sk-toggleable__label sk-toggleable__label-arrow\">scale</label><div class=\"sk-toggleable__content\"><pre>[&#x27;distance_to_home&#x27;]</pre></div></div></div><div class=\"sk-serial\"><div class=\"sk-item\"><div class=\"sk-serial\"><div class=\"sk-item\"><div class=\"sk-estimator sk-toggleable\"><input class=\"sk-toggleable__control sk-hidden--visually\" id=\"sk-estimator-id-21\" type=\"checkbox\" ><label for=\"sk-estimator-id-21\" class=\"sk-toggleable__label sk-toggleable__label-arrow\">SimpleImputer</label><div class=\"sk-toggleable__content\"><pre>SimpleImputer()</pre></div></div></div><div class=\"sk-item\"><div class=\"sk-estimator sk-toggleable\"><input class=\"sk-toggleable__control sk-hidden--visually\" id=\"sk-estimator-id-22\" type=\"checkbox\" ><label for=\"sk-estimator-id-22\" class=\"sk-toggleable__label sk-toggleable__label-arrow\">MinMaxScaler</label><div class=\"sk-toggleable__content\"><pre>MinMaxScaler()</pre></div></div></div></div></div></div></div></div><div class=\"sk-parallel-item\"><div class=\"sk-item\"><div class=\"sk-label-container\"><div class=\"sk-label sk-toggleable\"><input class=\"sk-toggleable__control sk-hidden--visually\" id=\"sk-estimator-id-23\" type=\"checkbox\" ><label for=\"sk-estimator-id-23\" class=\"sk-toggleable__label sk-toggleable__label-arrow\">normalize</label><div class=\"sk-toggleable__content\"><pre>[&#x27;lot_sqft&#x27;, &#x27;sqft&#x27;]</pre></div></div></div><div class=\"sk-serial\"><div class=\"sk-item\"><div class=\"sk-estimator sk-toggleable\"><input class=\"sk-toggleable__control sk-hidden--visually\" id=\"sk-estimator-id-24\" type=\"checkbox\" ><label for=\"sk-estimator-id-24\" class=\"sk-toggleable__label sk-toggleable__label-arrow\">StandardScaler</label><div class=\"sk-toggleable__content\"><pre>StandardScaler()</pre></div></div></div></div></div></div><div class=\"sk-parallel-item\"><div class=\"sk-item\"><div class=\"sk-label-container\"><div class=\"sk-label sk-toggleable\"><input class=\"sk-toggleable__control sk-hidden--visually\" id=\"sk-estimator-id-25\" type=\"checkbox\" ><label for=\"sk-estimator-id-25\" class=\"sk-toggleable__label sk-toggleable__label-arrow\">bucketize</label><div class=\"sk-toggleable__content\"><pre>[&#x27;year_built&#x27;]</pre></div></div></div><div class=\"sk-serial\"><div class=\"sk-item\"><div class=\"sk-estimator sk-toggleable\"><input class=\"sk-toggleable__control sk-hidden--visually\" id=\"sk-estimator-id-26\" type=\"checkbox\" ><label for=\"sk-estimator-id-26\" class=\"sk-toggleable__label sk-toggleable__label-arrow\">KBinsDiscretizer</label><div class=\"sk-toggleable__content\"><pre>KBinsDiscretizer(strategy=&#x27;uniform&#x27;)</pre></div></div></div></div></div></div><div class=\"sk-parallel-item\"><div class=\"sk-item\"><div class=\"sk-label-container\"><div class=\"sk-label sk-toggleable\"><input class=\"sk-toggleable__control sk-hidden--visually\" id=\"sk-estimator-id-27\" type=\"checkbox\" ><label for=\"sk-estimator-id-27\" class=\"sk-toggleable__label sk-toggleable__label-arrow\">lat_long</label><div class=\"sk-toggleable__content\"><pre>[&#x27;lat&#x27;, &#x27;long&#x27;]</pre></div></div></div><div class=\"sk-serial\"><div class=\"sk-item\"><div class=\"sk-serial\"><div class=\"sk-item\"><div class=\"sk-estimator sk-toggleable\"><input class=\"sk-toggleable__control sk-hidden--visually\" id=\"sk-estimator-id-28\" type=\"checkbox\" ><label for=\"sk-estimator-id-28\" class=\"sk-toggleable__label sk-toggleable__label-arrow\">SimpleImputer</label><div class=\"sk-toggleable__content\"><pre>SimpleImputer(strategy=&#x27;median&#x27;)</pre></div></div></div><div class=\"sk-item\"><div class=\"sk-estimator sk-toggleable\"><input class=\"sk-toggleable__control sk-hidden--visually\" id=\"sk-estimator-id-29\" type=\"checkbox\" ><label for=\"sk-estimator-id-29\" class=\"sk-toggleable__label sk-toggleable__label-arrow\">KBinsDiscretizer</label><div class=\"sk-toggleable__content\"><pre>KBinsDiscretizer(n_bins=20, strategy=&#x27;uniform&#x27;)</pre></div></div></div></div></div></div></div></div><div class=\"sk-parallel-item\"><div class=\"sk-item\"><div class=\"sk-label-container\"><div class=\"sk-label sk-toggleable\"><input class=\"sk-toggleable__control sk-hidden--visually\" id=\"sk-estimator-id-30\" type=\"checkbox\" ><label for=\"sk-estimator-id-30\" class=\"sk-toggleable__label sk-toggleable__label-arrow\">dummy</label><div class=\"sk-toggleable__content\"><pre>[&#x27;baths_full&#x27;, &#x27;baths_3qtr&#x27;, &#x27;baths_half&#x27;, &#x27;baths_1qtr&#x27;, &#x27;garage&#x27;, &#x27;stories&#x27;, &#x27;beds&#x27;]</pre></div></div></div><div class=\"sk-serial\"><div class=\"sk-item\"><div class=\"sk-estimator sk-toggleable\"><input class=\"sk-toggleable__control sk-hidden--visually\" id=\"sk-estimator-id-31\" type=\"checkbox\" ><label for=\"sk-estimator-id-31\" class=\"sk-toggleable__label sk-toggleable__label-arrow\">OneHotEncoder</label><div class=\"sk-toggleable__content\"><pre>OneHotEncoder(handle_unknown=&#x27;ignore&#x27;, sparse_output=False)</pre></div></div></div></div></div></div></div></div><div class=\"sk-item\"><div class=\"sk-estimator sk-toggleable\"><input class=\"sk-toggleable__control sk-hidden--visually\" id=\"sk-estimator-id-32\" type=\"checkbox\" ><label for=\"sk-estimator-id-32\" class=\"sk-toggleable__label sk-toggleable__label-arrow\">KerasModel</label><div class=\"sk-toggleable__content\"><pre>KerasModel(load_model_if_available=False, save_model=True,\n",
       "           user_home={&#x27;_id&#x27;: &#x27;addr:1897471296&#x27;, &#x27;_score&#x27;: 10212.058,\n",
       "                      &#x27;area_type&#x27;: &#x27;address&#x27;,\n",
       "                      &#x27;centroid&#x27;: {&#x27;lat&#x27;: 47.572613, &#x27;lon&#x27;: -122.306358},\n",
       "                      &#x27;city&#x27;: &#x27;Seattle&#x27;, &#x27;country&#x27;: &#x27;USA&#x27;,\n",
       "                      &#x27;full_address&#x27;: [&#x27;3416 19th Ave S Seattle WA 98144&#x27;,\n",
       "                                       &#x27;3416 19th Ave S Seattle WA&#x27;],\n",
       "                      &#x27;line&#x27;: &#x27;3416 19th Ave S&#x27;, &#x27;mpr_id&#x27;: &#x27;1897471296&#x27;,\n",
       "                      &#x27;postal_code&#x27;: &#x27;98144&#x27;,\n",
       "                      &#x27;prop_status&#x27;: [&#x27;recently_sold&#x27;, &#x27;off_market&#x27;],\n",
       "                      &#x27;property_id&#x27;: &#x27;1897471296&#x27;, &#x27;state_code&#x27;: &#x27;WA&#x27;,\n",
       "                      &#x27;validation_code&#x27;: [&#x27;121&#x27;]})</pre></div></div></div></div></div></div></div>"
      ],
      "text/plain": [
       "Pipeline(steps=[('to_data_frame', ToDataFrame()),\n",
       "                ('preprocess',\n",
       "                 ColumnTransformer(transformers=[('scale',\n",
       "                                                  Pipeline(steps=[('impute',\n",
       "                                                                   SimpleImputer()),\n",
       "                                                                  ('min_max_scale',\n",
       "                                                                   MinMaxScaler())]),\n",
       "                                                  ['distance_to_home']),\n",
       "                                                 ('normalize', StandardScaler(),\n",
       "                                                  ['lot_sqft', 'sqft']),\n",
       "                                                 ('bucketize',\n",
       "                                                  KBinsDiscretizer(strategy='uniform'),\n",
       "                                                  ['year_built']),\n",
       "                                                 ('lat_long',\n",
       "                                                  Pipeline(steps=[('...\n",
       "                                       'area_type': 'address',\n",
       "                                       'centroid': {'lat': 47.572613,\n",
       "                                                    'lon': -122.306358},\n",
       "                                       'city': 'Seattle', 'country': 'USA',\n",
       "                                       'full_address': ['3416 19th Ave S '\n",
       "                                                        'Seattle WA 98144',\n",
       "                                                        '3416 19th Ave S '\n",
       "                                                        'Seattle WA'],\n",
       "                                       'line': '3416 19th Ave S',\n",
       "                                       'mpr_id': '1897471296',\n",
       "                                       'postal_code': '98144',\n",
       "                                       'prop_status': ['recently_sold',\n",
       "                                                       'off_market'],\n",
       "                                       'property_id': '1897471296',\n",
       "                                       'state_code': 'WA',\n",
       "                                       'validation_code': ['121']}))])"
      ]
     },
     "execution_count": 51,
     "metadata": {},
     "output_type": "execute_result"
    }
   ],
   "source": [
    "from keras.models import Sequential\n",
    "from keras.layers import Dense, Dropout\n",
    "from keras.callbacks import EarlyStopping\n",
    "from scikeras.wrappers import KerasRegressor\n",
    "\n",
    "os.environ['TF_CPP_MIN_LOG_LEVEL'] = '1'\n",
    "\n",
    "class KerasModel(BaseEstimator, RegressorMixin):\n",
    "    def __init__(self, \n",
    "                 user_home, \n",
    "                 load_model_if_available : bool = True, \n",
    "                 update_model : bool = False, \n",
    "                 save_model : bool = False):\n",
    "        # Interesting note, this instance is created before paramters are passed into the step of the pipeline.\n",
    "        self.user_home = user_home\n",
    "        self.load_model_if_available = load_model_if_available\n",
    "        self.update_model = update_model\n",
    "        self.save_model = save_model\n",
    "\n",
    "        self.earlystopping = EarlyStopping(patience=5, verbose=1, min_delta=0.05)\n",
    "\n",
    "        if update_model and not self.load_model_if_available:\n",
    "            raise Exception('Can not update a model not loaded.')\n",
    "\n",
    "        self.model_name = f'{user_home.get(\"city\")}_{user_home.get(\"state_code\")}'\n",
    "\n",
    "    def _keras_model(self, n_cols):\n",
    "        km = Sequential()\n",
    "        km.add(Dense(256, input_shape=(n_cols,), activation='relu', kernel_initializer='normal', name='dense_1'))\n",
    "        km.add(Dense(128, activation='relu', kernel_initializer='normal', name='dense_2'))\n",
    "        km.add(Dropout(0.20, name='dropout'))\n",
    "        km.add(Dense(64, activation='relu', kernel_initializer='normal', name='dense_3'))\n",
    "        km.add(Dense(1, activation='linear', kernel_initializer='normal', name='output'))\n",
    "        km.compile(optimizer='adam', loss='mean_squared_error', metrics=['mean_squared_error', 'mean_absolute_error'])\n",
    "        return KerasRegressor(model=km)\n",
    "\n",
    "    def _generate_model(self, X, y):\n",
    "            if not self.update_model: \n",
    "                self.model = self._keras_model(n_cols=X.shape[1])\n",
    "            self.model.fit(X, y, epochs=50, batch_size = 50, callbacks = self.earlystopping)\n",
    "\n",
    "    def fit(self, X, y=None):\n",
    "        model_file_path = f'Saved Results/KerasModel/{self.model_name}.pkl'\n",
    "\n",
    "        if self.load_model_if_available:\n",
    "            if os.path.isfile(model_file_path):\n",
    "                with open(model_file_path, 'rb') as f:\n",
    "                    self.model = pickle.load(f)\n",
    "                if self.update_model:\n",
    "                    self._generate_model(X, y)\n",
    "            else:\n",
    "                print(f'No model found, generating {self.model_name}.')\n",
    "                self._generate_model(X, y)\n",
    "        else:\n",
    "            self._generate_model(X, y)\n",
    "\n",
    "        if self.update_model or self.save_model:\n",
    "            with open(model_file_path, 'wb') as f:\n",
    "                pickle.dump(self.model, f)\n",
    "        \n",
    "        return self\n",
    "\n",
    "    def predict(self, X, tt = target_transformer):\n",
    "        return tt.inverse_transform(self.model.predict(X))\n",
    "\n",
    "keras_pipeline = Pipeline(\n",
    "    [\n",
    "        ('to_data_frame', ToDataFrame()),\n",
    "        ('preprocess', preprocess_data),\n",
    "        ('keras_model', KerasModel(user_home))\n",
    "    ]\n",
    ")\n",
    "\n",
    "keras_pipeline.set_params(**{\n",
    "    'keras_model__load_model_if_available' : False,\n",
    "    'keras_model__update_model' : False,\n",
    "    'keras_model__save_model' : True\n",
    "})\n",
    "\n",
    "keras_pipeline.fit(train_features, train_targets)"
   ]
  },
  {
   "cell_type": "code",
   "execution_count": 57,
   "metadata": {},
   "outputs": [
    {
     "name": "stdout",
     "output_type": "stream",
     "text": [
      "11/11 [==============================] - 0s 1ms/step\n"
     ]
    },
    {
     "data": {
      "text/plain": [
       "204872.75857142857"
      ]
     },
     "execution_count": 57,
     "metadata": {},
     "output_type": "execute_result"
    }
   ],
   "source": [
    "'''\n",
    "It is unnessacry to initially transform the test_targets and I inverse the predition \n",
    "within the predict method in KerasModel()\n",
    "'''\n",
    "preds = keras_pipeline.predict(test_features)\n",
    "mean_absolute_error(preds, target_transformer.inverse_transform(test_targets))"
   ]
  },
  {
   "cell_type": "code",
   "execution_count": 58,
   "metadata": {},
   "outputs": [
    {
     "name": "stdout",
     "output_type": "stream",
     "text": [
      "1/1 [==============================] - 0s 20ms/step\n"
     ]
    },
    {
     "data": {
      "text/plain": [
       "array([[973219.8]], dtype=float32)"
      ]
     },
     "execution_count": 58,
     "metadata": {},
     "output_type": "execute_result"
    }
   ],
   "source": [
    "user_pred = keras_pipeline.predict(fg.user_features)\n",
    "#target_transformer.inverse_transform(fg.user_target) # I need to figure out how to get this in there.\n",
    "# From here, I can make a corrective ratio.\n",
    "# Then get toggles in here to update user_features\n",
    "user_pred"
   ]
  },
  {
   "cell_type": "code",
   "execution_count": 59,
   "metadata": {},
   "outputs": [
    {
     "name": "stdout",
     "output_type": "stream",
     "text": [
      "1/1 [==============================] - 0s 20ms/step\n"
     ]
    },
    {
     "data": {
      "text/plain": [
       "array([[1014589.7]], dtype=float32)"
      ]
     },
     "execution_count": 59,
     "metadata": {},
     "output_type": "execute_result"
    }
   ],
   "source": [
    "xx = fg.user_features.copy()\n",
    "xx['baths_half'] += 1\n",
    "new_worth = keras_pipeline.predict(xx)\n",
    "new_worth"
   ]
  },
  {
   "cell_type": "code",
   "execution_count": 60,
   "metadata": {},
   "outputs": [
    {
     "data": {
      "text/plain": [
       "array([[1.0425082]], dtype=float32)"
      ]
     },
     "execution_count": 60,
     "metadata": {},
     "output_type": "execute_result"
    }
   ],
   "source": [
    "worth_change_ratio = new_worth / user_pred\n",
    "worth_change_ratio"
   ]
  },
  {
   "cell_type": "code",
   "execution_count": 61,
   "metadata": {},
   "outputs": [
    {
     "data": {
      "text/plain": [
       "array([[1013839.26779032]])"
      ]
     },
     "execution_count": 61,
     "metadata": {},
     "output_type": "execute_result"
    }
   ],
   "source": [
    "new_worth_to_user = worth_change_ratio * fg.user_target\n",
    "new_worth_to_user"
   ]
  },
  {
   "cell_type": "code",
   "execution_count": 62,
   "metadata": {},
   "outputs": [
    {
     "data": {
      "text/plain": [
       "array([[41339.26779032]])"
      ]
     },
     "execution_count": 62,
     "metadata": {},
     "output_type": "execute_result"
    }
   ],
   "source": [
    "worth_delta = new_worth_to_user - fg.user_target\n",
    "worth_delta"
   ]
  },
  {
   "cell_type": "code",
   "execution_count": null,
   "metadata": {},
   "outputs": [],
   "source": []
  }
 ],
 "metadata": {
  "kernelspec": {
   "display_name": "Python 3",
   "language": "python",
   "name": "python3"
  },
  "language_info": {
   "codemirror_mode": {
    "name": "ipython",
    "version": 3
   },
   "file_extension": ".py",
   "mimetype": "text/x-python",
   "name": "python",
   "nbconvert_exporter": "python",
   "pygments_lexer": "ipython3",
   "version": "3.10.8"
  },
  "orig_nbformat": 4,
  "vscode": {
   "interpreter": {
    "hash": "aee8b7b246df8f9039afb4144a1f6fd8d2ca17a180786b69acc140d282b71a49"
   }
  }
 },
 "nbformat": 4,
 "nbformat_minor": 2
}
