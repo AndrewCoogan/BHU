{
 "cells": [
  {
   "cell_type": "code",
   "execution_count": 1,
   "metadata": {},
   "outputs": [],
   "source": [
    "import real_estate_api as rea\n",
    "\n",
    "import os\n",
    "import pickle\n",
    "import random\n",
    "import numpy as np\n",
    "import pandas as pd\n",
    "\n",
    "from collections import Counter\n",
    "from itertools import chain\n",
    "\n",
    "from sklearn.base import TransformerMixin, BaseEstimator, RegressorMixin\n",
    "from sklearn.pipeline import Pipeline\n",
    "from sklearn.compose import ColumnTransformer\n",
    "from sklearn.preprocessing import MinMaxScaler, KBinsDiscretizer, OneHotEncoder, StandardScaler, RobustScaler\n",
    "from sklearn.impute import SimpleImputer\n",
    "from sklearn.feature_extraction import DictVectorizer\n",
    "from sklearn.metrics import mean_absolute_error\n",
    "\n",
    "import keys as k\n",
    "keys = k.getKeys()"
   ]
  },
  {
   "cell_type": "code",
   "execution_count": 2,
   "metadata": {},
   "outputs": [
    {
     "name": "stdout",
     "output_type": "stream",
     "text": [
      "Shortfall in listed houses detected, appending 114 of current listing to results.\n"
     ]
    }
   ],
   "source": [
    "user_home = rea.get_UserHome(keys['SampleHouse'].strip(\"\\'\"))\n",
    "user_home_details = rea.get_PropertyDetail(user_home['property_id'])\n",
    "hoi = rea.get_HousesOfInterest(user_home, n=2000, listed_to_sold_ratio=0.3, verbose=True)\n",
    "gd = rea.geo_data(hoi['geo'])"
   ]
  },
  {
   "cell_type": "code",
   "execution_count": 3,
   "metadata": {},
   "outputs": [],
   "source": [
    "# Can this be the first step in the pipeline or no?\n",
    "fg = rea.FeatureGenerator(\n",
    "    houses = hoi['houses'], \n",
    "    gd=gd,\n",
    "    user_home=user_home_details\n",
    ")"
   ]
  },
  {
   "cell_type": "code",
   "execution_count": 4,
   "metadata": {},
   "outputs": [],
   "source": [
    "# This will randomly take 20% of the data as a validation set.\n",
    "test_indicies = random.sample(range(0, len(fg.targets)), int(0.2 * len(fg.targets)))\n",
    "train_indicies = set(range(0, len(fg.targets))).difference(set(test_indicies))\n",
    "\n",
    "target_transformer = StandardScaler()\n",
    "train_targets = target_transformer.fit_transform(np.array(list(map(fg.targets.__getitem__, train_indicies))).reshape(-1,1))\n",
    "test_targets = target_transformer.transform(np.array(list(map(fg.targets.__getitem__, test_indicies))).reshape(-1,1))\n",
    "\n",
    "train_features = list(map(fg.features.__getitem__, train_indicies))\n",
    "test_features = list(map(fg.features.__getitem__, test_indicies))"
   ]
  },
  {
   "cell_type": "code",
   "execution_count": 5,
   "metadata": {},
   "outputs": [],
   "source": [
    "# This is the whole data set\n",
    "target_transformer = StandardScaler()\n",
    "train_targets = target_transformer.fit_transform(np.array(fg.targets).reshape(-1,1))\n",
    "train_features = fg.features"
   ]
  },
  {
   "cell_type": "code",
   "execution_count": 6,
   "metadata": {},
   "outputs": [],
   "source": [
    "'''\n",
    "Days Listed - Linear\n",
    "Days Updated - Linear\n",
    "*baths - Normalize\n",
    "year_built - I want to bucketize these, then keep the dummies.\n",
    "lot_sqft - Normalize\n",
    "    Feature generation, multiply lot_sqft normalized and the inverse_distance\n",
    "        More questions, can you do this?\n",
    "sqft - Normalize\n",
    "garage / stories / beds - Normalize\n",
    "Tags - Do what we did in the nlp homework\n",
    "'''\n",
    "\n",
    "class ToDataFrame(BaseEstimator, TransformerMixin):\n",
    "    def fit(self, X, y=None):\n",
    "        return self\n",
    "    \n",
    "    def transform(self, X):\n",
    "        return pd.DataFrame(X).drop_duplicates(subset=['Property_ID'])\n",
    "\n",
    "class DictEncoder(BaseEstimator, TransformerMixin):\n",
    "    def __init__(self):\n",
    "        self.tags_to_keep = None\n",
    "\n",
    "    def fit(self, X, y=None):\n",
    "        tag_frequency = Counter(chain(*X))\n",
    "        self.tags_to_keep = [k for k, v in tag_frequency.items() if v > 1]\n",
    "        return self\n",
    "    \n",
    "    def transform(self, X):\n",
    "        return pd.Series(map(lambda l : {k : 1 for k in l if l in self.tags_to_keep}, X))\n",
    "\n",
    "#minmax_cols = ['distance_to_home'] # 'Days_listed', 'Days_listed', \n",
    "normalize_cols = ['lot_sqft', 'sqft']\n",
    "bucketize_cols = ['year_built', 'distance_to_home']\n",
    "lat_long_cols = ['lat', 'long']\n",
    "dummy_cols = ['baths_full', 'baths_3qtr', 'baths_half', 'baths_1qtr', 'garage', 'stories', 'beds']\n",
    "\n",
    "preprocess_min_max_cols = Pipeline(\n",
    "    [\n",
    "        ('impute', SimpleImputer(missing_values=np.nan, strategy=\"mean\")),\n",
    "        ('min_max_scale', MinMaxScaler())\n",
    "    ]\n",
    ")\n",
    "\n",
    "preprocess_tags_col = Pipeline(\n",
    "    [\n",
    "        ('dict_encode', DictEncoder()),\n",
    "        ('dict_vectorize', DictVectorizer())\n",
    "    ]\n",
    ")\n",
    "\n",
    "preprocess_bucketize_col = Pipeline(\n",
    "    [\n",
    "        ('impute', SimpleImputer(missing_values=np.nan, strategy=\"median\")),\n",
    "        ('bucketize', KBinsDiscretizer(n_bins=20, strategy='uniform'))\n",
    "    ]\n",
    ")\n",
    "\n",
    "preprocess_data = ColumnTransformer(\n",
    "    [\n",
    "        #('scale', preprocess_min_max_cols, minmax_cols),\n",
    "        ('normalize', StandardScaler(), normalize_cols),\n",
    "        ('bucketize', preprocess_bucketize_col, bucketize_cols),\n",
    "        ('lat_long', preprocess_bucketize_col, lat_long_cols),\n",
    "        ('dummy', OneHotEncoder(sparse_output=False, handle_unknown='ignore'), dummy_cols),\n",
    "        #('list', preprocess_tags_col, 'tags')\n",
    "    ]\n",
    ")"
   ]
  },
  {
   "cell_type": "code",
   "execution_count": 7,
   "metadata": {},
   "outputs": [
    {
     "name": "stderr",
     "output_type": "stream",
     "text": [
      "2023-02-27 16:33:04.129494: I tensorflow/core/platform/cpu_feature_guard.cc:193] This TensorFlow binary is optimized with oneAPI Deep Neural Network Library (oneDNN) to use the following CPU instructions in performance-critical operations:  AVX2 FMA\n",
      "To enable them in other operations, rebuild TensorFlow with the appropriate compiler flags.\n",
      "2023-02-27 16:33:11.184224: W tensorflow/core/util/tensor_slice_reader.cc:96] Could not open ram://b8d86bb6c748410b88301df5115c5654: INVALID_ARGUMENT: ram://b8d86bb6c748410b88301df5115c5654 is a directory.\n"
     ]
    },
    {
     "data": {
      "text/html": [
       "<style>#sk-container-id-1 {color: black;background-color: white;}#sk-container-id-1 pre{padding: 0;}#sk-container-id-1 div.sk-toggleable {background-color: white;}#sk-container-id-1 label.sk-toggleable__label {cursor: pointer;display: block;width: 100%;margin-bottom: 0;padding: 0.3em;box-sizing: border-box;text-align: center;}#sk-container-id-1 label.sk-toggleable__label-arrow:before {content: \"▸\";float: left;margin-right: 0.25em;color: #696969;}#sk-container-id-1 label.sk-toggleable__label-arrow:hover:before {color: black;}#sk-container-id-1 div.sk-estimator:hover label.sk-toggleable__label-arrow:before {color: black;}#sk-container-id-1 div.sk-toggleable__content {max-height: 0;max-width: 0;overflow: hidden;text-align: left;background-color: #f0f8ff;}#sk-container-id-1 div.sk-toggleable__content pre {margin: 0.2em;color: black;border-radius: 0.25em;background-color: #f0f8ff;}#sk-container-id-1 input.sk-toggleable__control:checked~div.sk-toggleable__content {max-height: 200px;max-width: 100%;overflow: auto;}#sk-container-id-1 input.sk-toggleable__control:checked~label.sk-toggleable__label-arrow:before {content: \"▾\";}#sk-container-id-1 div.sk-estimator input.sk-toggleable__control:checked~label.sk-toggleable__label {background-color: #d4ebff;}#sk-container-id-1 div.sk-label input.sk-toggleable__control:checked~label.sk-toggleable__label {background-color: #d4ebff;}#sk-container-id-1 input.sk-hidden--visually {border: 0;clip: rect(1px 1px 1px 1px);clip: rect(1px, 1px, 1px, 1px);height: 1px;margin: -1px;overflow: hidden;padding: 0;position: absolute;width: 1px;}#sk-container-id-1 div.sk-estimator {font-family: monospace;background-color: #f0f8ff;border: 1px dotted black;border-radius: 0.25em;box-sizing: border-box;margin-bottom: 0.5em;}#sk-container-id-1 div.sk-estimator:hover {background-color: #d4ebff;}#sk-container-id-1 div.sk-parallel-item::after {content: \"\";width: 100%;border-bottom: 1px solid gray;flex-grow: 1;}#sk-container-id-1 div.sk-label:hover label.sk-toggleable__label {background-color: #d4ebff;}#sk-container-id-1 div.sk-serial::before {content: \"\";position: absolute;border-left: 1px solid gray;box-sizing: border-box;top: 0;bottom: 0;left: 50%;z-index: 0;}#sk-container-id-1 div.sk-serial {display: flex;flex-direction: column;align-items: center;background-color: white;padding-right: 0.2em;padding-left: 0.2em;position: relative;}#sk-container-id-1 div.sk-item {position: relative;z-index: 1;}#sk-container-id-1 div.sk-parallel {display: flex;align-items: stretch;justify-content: center;background-color: white;position: relative;}#sk-container-id-1 div.sk-item::before, #sk-container-id-1 div.sk-parallel-item::before {content: \"\";position: absolute;border-left: 1px solid gray;box-sizing: border-box;top: 0;bottom: 0;left: 50%;z-index: -1;}#sk-container-id-1 div.sk-parallel-item {display: flex;flex-direction: column;z-index: 1;position: relative;background-color: white;}#sk-container-id-1 div.sk-parallel-item:first-child::after {align-self: flex-end;width: 50%;}#sk-container-id-1 div.sk-parallel-item:last-child::after {align-self: flex-start;width: 50%;}#sk-container-id-1 div.sk-parallel-item:only-child::after {width: 0;}#sk-container-id-1 div.sk-dashed-wrapped {border: 1px dashed gray;margin: 0 0.4em 0.5em 0.4em;box-sizing: border-box;padding-bottom: 0.4em;background-color: white;}#sk-container-id-1 div.sk-label label {font-family: monospace;font-weight: bold;display: inline-block;line-height: 1.2em;}#sk-container-id-1 div.sk-label-container {text-align: center;}#sk-container-id-1 div.sk-container {/* jupyter's `normalize.less` sets `[hidden] { display: none; }` but bootstrap.min.css set `[hidden] { display: none !important; }` so we also need the `!important` here to be able to override the default hidden behavior on the sphinx rendered scikit-learn.org. See: https://github.com/scikit-learn/scikit-learn/issues/21755 */display: inline-block !important;position: relative;}#sk-container-id-1 div.sk-text-repr-fallback {display: none;}</style><div id=\"sk-container-id-1\" class=\"sk-top-container\"><div class=\"sk-text-repr-fallback\"><pre>Pipeline(steps=[(&#x27;to_data_frame&#x27;, ToDataFrame()),\n",
       "                (&#x27;preprocess&#x27;,\n",
       "                 ColumnTransformer(transformers=[(&#x27;normalize&#x27;, StandardScaler(),\n",
       "                                                  [&#x27;lot_sqft&#x27;, &#x27;sqft&#x27;]),\n",
       "                                                 (&#x27;bucketize&#x27;,\n",
       "                                                  Pipeline(steps=[(&#x27;impute&#x27;,\n",
       "                                                                   SimpleImputer(strategy=&#x27;median&#x27;)),\n",
       "                                                                  (&#x27;bucketize&#x27;,\n",
       "                                                                   KBinsDiscretizer(n_bins=20,\n",
       "                                                                                    strategy=&#x27;uniform&#x27;))]),\n",
       "                                                  [&#x27;year_built&#x27;,\n",
       "                                                   &#x27;distance_to_home&#x27;]),\n",
       "                                                 (&#x27;lat_long&#x27;,\n",
       "                                                  Pipeline(steps=[(&#x27;impu...\n",
       "                                       &#x27;area_type&#x27;: &#x27;address&#x27;,\n",
       "                                       &#x27;centroid&#x27;: {&#x27;lat&#x27;: 47.572613,\n",
       "                                                    &#x27;lon&#x27;: -122.306358},\n",
       "                                       &#x27;city&#x27;: &#x27;Seattle&#x27;, &#x27;country&#x27;: &#x27;USA&#x27;,\n",
       "                                       &#x27;full_address&#x27;: [&#x27;3416 19th Ave S &#x27;\n",
       "                                                        &#x27;Seattle WA 98144&#x27;,\n",
       "                                                        &#x27;3416 19th Ave S &#x27;\n",
       "                                                        &#x27;Seattle WA&#x27;],\n",
       "                                       &#x27;line&#x27;: &#x27;3416 19th Ave S&#x27;,\n",
       "                                       &#x27;mpr_id&#x27;: &#x27;1897471296&#x27;,\n",
       "                                       &#x27;postal_code&#x27;: &#x27;98144&#x27;,\n",
       "                                       &#x27;prop_status&#x27;: [&#x27;recently_sold&#x27;,\n",
       "                                                       &#x27;off_market&#x27;],\n",
       "                                       &#x27;property_id&#x27;: &#x27;1897471296&#x27;,\n",
       "                                       &#x27;state_code&#x27;: &#x27;WA&#x27;,\n",
       "                                       &#x27;validation_code&#x27;: [&#x27;121&#x27;]}))])</pre><b>In a Jupyter environment, please rerun this cell to show the HTML representation or trust the notebook. <br />On GitHub, the HTML representation is unable to render, please try loading this page with nbviewer.org.</b></div><div class=\"sk-container\" hidden><div class=\"sk-item sk-dashed-wrapped\"><div class=\"sk-label-container\"><div class=\"sk-label sk-toggleable\"><input class=\"sk-toggleable__control sk-hidden--visually\" id=\"sk-estimator-id-1\" type=\"checkbox\" ><label for=\"sk-estimator-id-1\" class=\"sk-toggleable__label sk-toggleable__label-arrow\">Pipeline</label><div class=\"sk-toggleable__content\"><pre>Pipeline(steps=[(&#x27;to_data_frame&#x27;, ToDataFrame()),\n",
       "                (&#x27;preprocess&#x27;,\n",
       "                 ColumnTransformer(transformers=[(&#x27;normalize&#x27;, StandardScaler(),\n",
       "                                                  [&#x27;lot_sqft&#x27;, &#x27;sqft&#x27;]),\n",
       "                                                 (&#x27;bucketize&#x27;,\n",
       "                                                  Pipeline(steps=[(&#x27;impute&#x27;,\n",
       "                                                                   SimpleImputer(strategy=&#x27;median&#x27;)),\n",
       "                                                                  (&#x27;bucketize&#x27;,\n",
       "                                                                   KBinsDiscretizer(n_bins=20,\n",
       "                                                                                    strategy=&#x27;uniform&#x27;))]),\n",
       "                                                  [&#x27;year_built&#x27;,\n",
       "                                                   &#x27;distance_to_home&#x27;]),\n",
       "                                                 (&#x27;lat_long&#x27;,\n",
       "                                                  Pipeline(steps=[(&#x27;impu...\n",
       "                                       &#x27;area_type&#x27;: &#x27;address&#x27;,\n",
       "                                       &#x27;centroid&#x27;: {&#x27;lat&#x27;: 47.572613,\n",
       "                                                    &#x27;lon&#x27;: -122.306358},\n",
       "                                       &#x27;city&#x27;: &#x27;Seattle&#x27;, &#x27;country&#x27;: &#x27;USA&#x27;,\n",
       "                                       &#x27;full_address&#x27;: [&#x27;3416 19th Ave S &#x27;\n",
       "                                                        &#x27;Seattle WA 98144&#x27;,\n",
       "                                                        &#x27;3416 19th Ave S &#x27;\n",
       "                                                        &#x27;Seattle WA&#x27;],\n",
       "                                       &#x27;line&#x27;: &#x27;3416 19th Ave S&#x27;,\n",
       "                                       &#x27;mpr_id&#x27;: &#x27;1897471296&#x27;,\n",
       "                                       &#x27;postal_code&#x27;: &#x27;98144&#x27;,\n",
       "                                       &#x27;prop_status&#x27;: [&#x27;recently_sold&#x27;,\n",
       "                                                       &#x27;off_market&#x27;],\n",
       "                                       &#x27;property_id&#x27;: &#x27;1897471296&#x27;,\n",
       "                                       &#x27;state_code&#x27;: &#x27;WA&#x27;,\n",
       "                                       &#x27;validation_code&#x27;: [&#x27;121&#x27;]}))])</pre></div></div></div><div class=\"sk-serial\"><div class=\"sk-item\"><div class=\"sk-estimator sk-toggleable\"><input class=\"sk-toggleable__control sk-hidden--visually\" id=\"sk-estimator-id-2\" type=\"checkbox\" ><label for=\"sk-estimator-id-2\" class=\"sk-toggleable__label sk-toggleable__label-arrow\">ToDataFrame</label><div class=\"sk-toggleable__content\"><pre>ToDataFrame()</pre></div></div></div><div class=\"sk-item sk-dashed-wrapped\"><div class=\"sk-label-container\"><div class=\"sk-label sk-toggleable\"><input class=\"sk-toggleable__control sk-hidden--visually\" id=\"sk-estimator-id-3\" type=\"checkbox\" ><label for=\"sk-estimator-id-3\" class=\"sk-toggleable__label sk-toggleable__label-arrow\">preprocess: ColumnTransformer</label><div class=\"sk-toggleable__content\"><pre>ColumnTransformer(transformers=[(&#x27;normalize&#x27;, StandardScaler(),\n",
       "                                 [&#x27;lot_sqft&#x27;, &#x27;sqft&#x27;]),\n",
       "                                (&#x27;bucketize&#x27;,\n",
       "                                 Pipeline(steps=[(&#x27;impute&#x27;,\n",
       "                                                  SimpleImputer(strategy=&#x27;median&#x27;)),\n",
       "                                                 (&#x27;bucketize&#x27;,\n",
       "                                                  KBinsDiscretizer(n_bins=20,\n",
       "                                                                   strategy=&#x27;uniform&#x27;))]),\n",
       "                                 [&#x27;year_built&#x27;, &#x27;distance_to_home&#x27;]),\n",
       "                                (&#x27;lat_long&#x27;,\n",
       "                                 Pipeline(steps=[(&#x27;impute&#x27;,\n",
       "                                                  SimpleImputer(strategy=&#x27;median&#x27;)),\n",
       "                                                 (&#x27;bucketize&#x27;,\n",
       "                                                  KBinsDiscretizer(n_bins=20,\n",
       "                                                                   strategy=&#x27;uniform&#x27;))]),\n",
       "                                 [&#x27;lat&#x27;, &#x27;long&#x27;]),\n",
       "                                (&#x27;dummy&#x27;,\n",
       "                                 OneHotEncoder(handle_unknown=&#x27;ignore&#x27;,\n",
       "                                               sparse_output=False),\n",
       "                                 [&#x27;baths_full&#x27;, &#x27;baths_3qtr&#x27;, &#x27;baths_half&#x27;,\n",
       "                                  &#x27;baths_1qtr&#x27;, &#x27;garage&#x27;, &#x27;stories&#x27;, &#x27;beds&#x27;])])</pre></div></div></div><div class=\"sk-parallel\"><div class=\"sk-parallel-item\"><div class=\"sk-item\"><div class=\"sk-label-container\"><div class=\"sk-label sk-toggleable\"><input class=\"sk-toggleable__control sk-hidden--visually\" id=\"sk-estimator-id-4\" type=\"checkbox\" ><label for=\"sk-estimator-id-4\" class=\"sk-toggleable__label sk-toggleable__label-arrow\">normalize</label><div class=\"sk-toggleable__content\"><pre>[&#x27;lot_sqft&#x27;, &#x27;sqft&#x27;]</pre></div></div></div><div class=\"sk-serial\"><div class=\"sk-item\"><div class=\"sk-estimator sk-toggleable\"><input class=\"sk-toggleable__control sk-hidden--visually\" id=\"sk-estimator-id-5\" type=\"checkbox\" ><label for=\"sk-estimator-id-5\" class=\"sk-toggleable__label sk-toggleable__label-arrow\">StandardScaler</label><div class=\"sk-toggleable__content\"><pre>StandardScaler()</pre></div></div></div></div></div></div><div class=\"sk-parallel-item\"><div class=\"sk-item\"><div class=\"sk-label-container\"><div class=\"sk-label sk-toggleable\"><input class=\"sk-toggleable__control sk-hidden--visually\" id=\"sk-estimator-id-6\" type=\"checkbox\" ><label for=\"sk-estimator-id-6\" class=\"sk-toggleable__label sk-toggleable__label-arrow\">bucketize</label><div class=\"sk-toggleable__content\"><pre>[&#x27;year_built&#x27;, &#x27;distance_to_home&#x27;]</pre></div></div></div><div class=\"sk-serial\"><div class=\"sk-item\"><div class=\"sk-serial\"><div class=\"sk-item\"><div class=\"sk-estimator sk-toggleable\"><input class=\"sk-toggleable__control sk-hidden--visually\" id=\"sk-estimator-id-7\" type=\"checkbox\" ><label for=\"sk-estimator-id-7\" class=\"sk-toggleable__label sk-toggleable__label-arrow\">SimpleImputer</label><div class=\"sk-toggleable__content\"><pre>SimpleImputer(strategy=&#x27;median&#x27;)</pre></div></div></div><div class=\"sk-item\"><div class=\"sk-estimator sk-toggleable\"><input class=\"sk-toggleable__control sk-hidden--visually\" id=\"sk-estimator-id-8\" type=\"checkbox\" ><label for=\"sk-estimator-id-8\" class=\"sk-toggleable__label sk-toggleable__label-arrow\">KBinsDiscretizer</label><div class=\"sk-toggleable__content\"><pre>KBinsDiscretizer(n_bins=20, strategy=&#x27;uniform&#x27;)</pre></div></div></div></div></div></div></div></div><div class=\"sk-parallel-item\"><div class=\"sk-item\"><div class=\"sk-label-container\"><div class=\"sk-label sk-toggleable\"><input class=\"sk-toggleable__control sk-hidden--visually\" id=\"sk-estimator-id-9\" type=\"checkbox\" ><label for=\"sk-estimator-id-9\" class=\"sk-toggleable__label sk-toggleable__label-arrow\">lat_long</label><div class=\"sk-toggleable__content\"><pre>[&#x27;lat&#x27;, &#x27;long&#x27;]</pre></div></div></div><div class=\"sk-serial\"><div class=\"sk-item\"><div class=\"sk-serial\"><div class=\"sk-item\"><div class=\"sk-estimator sk-toggleable\"><input class=\"sk-toggleable__control sk-hidden--visually\" id=\"sk-estimator-id-10\" type=\"checkbox\" ><label for=\"sk-estimator-id-10\" class=\"sk-toggleable__label sk-toggleable__label-arrow\">SimpleImputer</label><div class=\"sk-toggleable__content\"><pre>SimpleImputer(strategy=&#x27;median&#x27;)</pre></div></div></div><div class=\"sk-item\"><div class=\"sk-estimator sk-toggleable\"><input class=\"sk-toggleable__control sk-hidden--visually\" id=\"sk-estimator-id-11\" type=\"checkbox\" ><label for=\"sk-estimator-id-11\" class=\"sk-toggleable__label sk-toggleable__label-arrow\">KBinsDiscretizer</label><div class=\"sk-toggleable__content\"><pre>KBinsDiscretizer(n_bins=20, strategy=&#x27;uniform&#x27;)</pre></div></div></div></div></div></div></div></div><div class=\"sk-parallel-item\"><div class=\"sk-item\"><div class=\"sk-label-container\"><div class=\"sk-label sk-toggleable\"><input class=\"sk-toggleable__control sk-hidden--visually\" id=\"sk-estimator-id-12\" type=\"checkbox\" ><label for=\"sk-estimator-id-12\" class=\"sk-toggleable__label sk-toggleable__label-arrow\">dummy</label><div class=\"sk-toggleable__content\"><pre>[&#x27;baths_full&#x27;, &#x27;baths_3qtr&#x27;, &#x27;baths_half&#x27;, &#x27;baths_1qtr&#x27;, &#x27;garage&#x27;, &#x27;stories&#x27;, &#x27;beds&#x27;]</pre></div></div></div><div class=\"sk-serial\"><div class=\"sk-item\"><div class=\"sk-estimator sk-toggleable\"><input class=\"sk-toggleable__control sk-hidden--visually\" id=\"sk-estimator-id-13\" type=\"checkbox\" ><label for=\"sk-estimator-id-13\" class=\"sk-toggleable__label sk-toggleable__label-arrow\">OneHotEncoder</label><div class=\"sk-toggleable__content\"><pre>OneHotEncoder(handle_unknown=&#x27;ignore&#x27;, sparse_output=False)</pre></div></div></div></div></div></div></div></div><div class=\"sk-item\"><div class=\"sk-estimator sk-toggleable\"><input class=\"sk-toggleable__control sk-hidden--visually\" id=\"sk-estimator-id-14\" type=\"checkbox\" ><label for=\"sk-estimator-id-14\" class=\"sk-toggleable__label sk-toggleable__label-arrow\">KerasModel</label><div class=\"sk-toggleable__content\"><pre>KerasModel(user_home={&#x27;_id&#x27;: &#x27;addr:1897471296&#x27;, &#x27;_score&#x27;: 10212.058,\n",
       "                      &#x27;area_type&#x27;: &#x27;address&#x27;,\n",
       "                      &#x27;centroid&#x27;: {&#x27;lat&#x27;: 47.572613, &#x27;lon&#x27;: -122.306358},\n",
       "                      &#x27;city&#x27;: &#x27;Seattle&#x27;, &#x27;country&#x27;: &#x27;USA&#x27;,\n",
       "                      &#x27;full_address&#x27;: [&#x27;3416 19th Ave S Seattle WA 98144&#x27;,\n",
       "                                       &#x27;3416 19th Ave S Seattle WA&#x27;],\n",
       "                      &#x27;line&#x27;: &#x27;3416 19th Ave S&#x27;, &#x27;mpr_id&#x27;: &#x27;1897471296&#x27;,\n",
       "                      &#x27;postal_code&#x27;: &#x27;98144&#x27;,\n",
       "                      &#x27;prop_status&#x27;: [&#x27;recently_sold&#x27;, &#x27;off_market&#x27;],\n",
       "                      &#x27;property_id&#x27;: &#x27;1897471296&#x27;, &#x27;state_code&#x27;: &#x27;WA&#x27;,\n",
       "                      &#x27;validation_code&#x27;: [&#x27;121&#x27;]})</pre></div></div></div></div></div></div></div>"
      ],
      "text/plain": [
       "Pipeline(steps=[('to_data_frame', ToDataFrame()),\n",
       "                ('preprocess',\n",
       "                 ColumnTransformer(transformers=[('normalize', StandardScaler(),\n",
       "                                                  ['lot_sqft', 'sqft']),\n",
       "                                                 ('bucketize',\n",
       "                                                  Pipeline(steps=[('impute',\n",
       "                                                                   SimpleImputer(strategy='median')),\n",
       "                                                                  ('bucketize',\n",
       "                                                                   KBinsDiscretizer(n_bins=20,\n",
       "                                                                                    strategy='uniform'))]),\n",
       "                                                  ['year_built',\n",
       "                                                   'distance_to_home']),\n",
       "                                                 ('lat_long',\n",
       "                                                  Pipeline(steps=[('impu...\n",
       "                                       'area_type': 'address',\n",
       "                                       'centroid': {'lat': 47.572613,\n",
       "                                                    'lon': -122.306358},\n",
       "                                       'city': 'Seattle', 'country': 'USA',\n",
       "                                       'full_address': ['3416 19th Ave S '\n",
       "                                                        'Seattle WA 98144',\n",
       "                                                        '3416 19th Ave S '\n",
       "                                                        'Seattle WA'],\n",
       "                                       'line': '3416 19th Ave S',\n",
       "                                       'mpr_id': '1897471296',\n",
       "                                       'postal_code': '98144',\n",
       "                                       'prop_status': ['recently_sold',\n",
       "                                                       'off_market'],\n",
       "                                       'property_id': '1897471296',\n",
       "                                       'state_code': 'WA',\n",
       "                                       'validation_code': ['121']}))])"
      ]
     },
     "execution_count": 7,
     "metadata": {},
     "output_type": "execute_result"
    }
   ],
   "source": [
    "from keras.models import Sequential\n",
    "from keras.layers import Dense, Dropout\n",
    "from keras.callbacks import EarlyStopping\n",
    "from scikeras.wrappers import KerasRegressor\n",
    "\n",
    "os.environ['TF_CPP_MIN_LOG_LEVEL'] = '1'\n",
    "\n",
    "class KerasModel(BaseEstimator, RegressorMixin):\n",
    "    def __init__(self, \n",
    "                 user_home, \n",
    "                 load_model_if_available : bool = True, \n",
    "                 update_model : bool = False, \n",
    "                 save_model : bool = False):\n",
    "        # Interesting note, this instance is created before paramters are passed into the step of the pipeline.\n",
    "        self.user_home = user_home\n",
    "        self.load_model_if_available = load_model_if_available\n",
    "        self.update_model = update_model\n",
    "        self.save_model = save_model\n",
    "\n",
    "        self.earlystopping = EarlyStopping(patience=5, verbose=1, min_delta=0.05)\n",
    "\n",
    "        if update_model and not self.load_model_if_available:\n",
    "            raise Exception('Can not update a model not loaded.')\n",
    "\n",
    "        self.model_name = f'{user_home.get(\"city\")}_{user_home.get(\"state_code\")}'\n",
    "\n",
    "    def _keras_model(self, n_cols):\n",
    "        km = Sequential()\n",
    "        km.add(Dense(256, input_shape=(n_cols,), activation='relu', kernel_initializer='normal', name='dense_1'))\n",
    "        km.add(Dense(128, activation='relu', kernel_initializer='normal', name='dense_2'))\n",
    "        km.add(Dropout(0.20, name='dropout'))\n",
    "        km.add(Dense(64, activation='relu', kernel_initializer='normal', name='dense_3'))\n",
    "        km.add(Dense(1, activation='linear', kernel_initializer='normal', name='output'))\n",
    "        km.compile(optimizer='adam', loss='mean_squared_error', metrics=['mean_squared_error', 'mean_absolute_error'])\n",
    "        return KerasRegressor(model=km)\n",
    "\n",
    "    def _generate_model(self, X, y):\n",
    "            if not self.update_model: \n",
    "                self.model = self._keras_model(n_cols=X.shape[1])\n",
    "            self.model.fit(X, y, epochs=100, batch_size = 50, callbacks = self.earlystopping)\n",
    "\n",
    "    def fit(self, X, y=None):\n",
    "        model_file_path = f'Saved Results/KerasModel/{self.model_name}.pkl'\n",
    "\n",
    "        if self.load_model_if_available:\n",
    "            if os.path.isfile(model_file_path):\n",
    "                with open(model_file_path, 'rb') as f:\n",
    "                    self.model = pickle.load(f)\n",
    "                if self.update_model:\n",
    "                    self._generate_model(X, y)\n",
    "            else:\n",
    "                print(f'No model found, generating {self.model_name}.')\n",
    "                self._generate_model(X, y)\n",
    "        else:\n",
    "            self._generate_model(X, y)\n",
    "\n",
    "        if self.update_model or self.save_model:\n",
    "            with open(model_file_path, 'wb') as f:\n",
    "                pickle.dump(self.model, f)\n",
    "        \n",
    "        return self\n",
    "\n",
    "    def predict(self, X, tt = target_transformer):\n",
    "        return tt.inverse_transform(self.model.predict(X))\n",
    "\n",
    "keras_pipeline = Pipeline(\n",
    "    [\n",
    "        ('to_data_frame', ToDataFrame()),\n",
    "        ('preprocess', preprocess_data),\n",
    "        ('keras_model', KerasModel(user_home))\n",
    "    ]\n",
    ")\n",
    "\n",
    "keras_pipeline.set_params(**{\n",
    "    'keras_model__load_model_if_available' : True,\n",
    "    'keras_model__update_model' : False,\n",
    "    'keras_model__save_model' : False\n",
    "})\n",
    "\n",
    "keras_pipeline.fit(train_features, train_targets)"
   ]
  },
  {
   "cell_type": "code",
   "execution_count": 8,
   "metadata": {},
   "outputs": [
    {
     "name": "stdout",
     "output_type": "stream",
     "text": [
      "11/11 [==============================] - 0s 1ms/step\n"
     ]
    },
    {
     "data": {
      "text/plain": [
       "34898.64951419195"
      ]
     },
     "execution_count": 8,
     "metadata": {},
     "output_type": "execute_result"
    }
   ],
   "source": [
    "'''\n",
    "It is unnessacry to initially transform the test_targets and I inverse the predition \n",
    "within the predict method in KerasModel()\n",
    "'''\n",
    "preds = keras_pipeline.predict(test_features)\n",
    "mean_absolute_error(preds, target_transformer.inverse_transform(test_targets))"
   ]
  },
  {
   "cell_type": "code",
   "execution_count": 8,
   "metadata": {},
   "outputs": [
    {
     "name": "stdout",
     "output_type": "stream",
     "text": [
      "1/1 [==============================] - 0s 166ms/step\n"
     ]
    },
    {
     "data": {
      "text/plain": [
       "(955466.5, 972500)"
      ]
     },
     "execution_count": 8,
     "metadata": {},
     "output_type": "execute_result"
    }
   ],
   "source": [
    "user_pred = keras_pipeline.predict(fg.user_features)\n",
    "user_pred[0][0], fg.user_target"
   ]
  },
  {
   "cell_type": "code",
   "execution_count": 10,
   "metadata": {},
   "outputs": [
    {
     "data": {
      "text/plain": [
       "'3416 19th Ave S'"
      ]
     },
     "execution_count": 10,
     "metadata": {},
     "output_type": "execute_result"
    }
   ],
   "source": [
    "fg.user_home_formatted.address"
   ]
  },
  {
   "cell_type": "code",
   "execution_count": 18,
   "metadata": {},
   "outputs": [
    {
     "name": "stdout",
     "output_type": "stream",
     "text": [
      "1/1 [==============================] - 0s 23ms/step\n"
     ]
    },
    {
     "data": {
      "text/plain": [
       "array([[981661.1]], dtype=float32)"
      ]
     },
     "execution_count": 18,
     "metadata": {},
     "output_type": "execute_result"
    }
   ],
   "source": [
    "xx = fg.user_features.copy()\n",
    "xx['baths_half'] += 1\n",
    "new_worth = keras_pipeline.predict(xx)\n",
    "new_worth"
   ]
  },
  {
   "cell_type": "code",
   "execution_count": 69,
   "metadata": {},
   "outputs": [
    {
     "data": {
      "text/plain": [
       "{'Property_ID': 2949757771,\n",
       " 'Status': 'sold',\n",
       " 'Days_listed': 0,\n",
       " 'Days_updated': 0,\n",
       " 'baths_full': 2,\n",
       " 'baths_3qtr': 0,\n",
       " 'baths_half': 0,\n",
       " 'baths_1qtr': 0,\n",
       " 'year_built': 1915,\n",
       " 'lot_sqft': 4414,\n",
       " 'sqft': 2500,\n",
       " 'garage': 1,\n",
       " 'stories': 2,\n",
       " 'beds': 3,\n",
       " 'tags': ['city_view',\n",
       "  'community_security_features',\n",
       "  'dining_room',\n",
       "  'dishwasher',\n",
       "  'fireplace',\n",
       "  'hardwood_floors',\n",
       "  'hill_or_mountain_view',\n",
       "  'lake_view',\n",
       "  'ocean_view',\n",
       "  'spa_or_hot_tub',\n",
       "  'view',\n",
       "  'washer_dryer',\n",
       "  'water_view',\n",
       "  'basement',\n",
       "  'garage_1_or_more',\n",
       "  'fruit_trees',\n",
       "  'tennis_court',\n",
       "  'tennis',\n",
       "  'groundscare',\n",
       "  'garage_1'],\n",
       " 'new_construction': False,\n",
       " 'distance_to_home': 0,\n",
       " 'lat': 47.572613,\n",
       " 'long': -122.306358}"
      ]
     },
     "execution_count": 69,
     "metadata": {},
     "output_type": "execute_result"
    }
   ],
   "source": [
    "fg.user_features"
   ]
  },
  {
   "cell_type": "code",
   "execution_count": 60,
   "metadata": {},
   "outputs": [
    {
     "data": {
      "text/plain": [
       "array([[1.0425082]], dtype=float32)"
      ]
     },
     "execution_count": 60,
     "metadata": {},
     "output_type": "execute_result"
    }
   ],
   "source": [
    "worth_change_ratio = new_worth / user_pred\n",
    "worth_change_ratio"
   ]
  },
  {
   "cell_type": "code",
   "execution_count": 61,
   "metadata": {},
   "outputs": [
    {
     "data": {
      "text/plain": [
       "array([[1013839.26779032]])"
      ]
     },
     "execution_count": 61,
     "metadata": {},
     "output_type": "execute_result"
    }
   ],
   "source": [
    "new_worth_to_user = worth_change_ratio * fg.user_target\n",
    "new_worth_to_user"
   ]
  },
  {
   "cell_type": "code",
   "execution_count": 62,
   "metadata": {},
   "outputs": [
    {
     "data": {
      "text/plain": [
       "array([[41339.26779032]])"
      ]
     },
     "execution_count": 62,
     "metadata": {},
     "output_type": "execute_result"
    }
   ],
   "source": [
    "worth_delta = new_worth_to_user - fg.user_target\n",
    "worth_delta"
   ]
  },
  {
   "cell_type": "code",
   "execution_count": 13,
   "metadata": {},
   "outputs": [
    {
     "data": {
      "text/plain": [
       "True"
      ]
     },
     "execution_count": 13,
     "metadata": {},
     "output_type": "execute_result"
    }
   ],
   "source": [
    "'year_built' in fg.user_features.keys()"
   ]
  },
  {
   "cell_type": "code",
   "execution_count": null,
   "metadata": {},
   "outputs": [],
   "source": []
  }
 ],
 "metadata": {
  "kernelspec": {
   "display_name": "Python 3",
   "language": "python",
   "name": "python3"
  },
  "language_info": {
   "codemirror_mode": {
    "name": "ipython",
    "version": 3
   },
   "file_extension": ".py",
   "mimetype": "text/x-python",
   "name": "python",
   "nbconvert_exporter": "python",
   "pygments_lexer": "ipython3",
   "version": "3.10.8"
  },
  "orig_nbformat": 4,
  "vscode": {
   "interpreter": {
    "hash": "aee8b7b246df8f9039afb4144a1f6fd8d2ca17a180786b69acc140d282b71a49"
   }
  }
 },
 "nbformat": 4,
 "nbformat_minor": 2
}
