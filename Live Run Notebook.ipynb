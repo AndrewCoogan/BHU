{
 "cells": [
  {
   "cell_type": "code",
   "execution_count": 1,
   "metadata": {},
   "outputs": [
    {
     "name": "stderr",
     "output_type": "stream",
     "text": [
      "2023-02-28 18:21:37.219761: I tensorflow/core/platform/cpu_feature_guard.cc:193] This TensorFlow binary is optimized with oneAPI Deep Neural Network Library (oneDNN) to use the following CPU instructions in performance-critical operations:  AVX2 FMA\n",
      "To enable them in other operations, rebuild TensorFlow with the appropriate compiler flags.\n"
     ]
    }
   ],
   "source": [
    "import BHU\n",
    "\n",
    "import os\n",
    "import numpy as np\n",
    "from sklearn.preprocessing import StandardScaler, OneHotEncoder\n",
    "from sklearn.pipeline import Pipeline\n",
    "from sklearn.compose import ColumnTransformer\n",
    "import keys as k\n",
    "\n",
    "keys = k.getKeys()\n",
    "\n",
    "os.environ['TF_CPP_MIN_LOG_LEVEL'] = '1'"
   ]
  },
  {
   "cell_type": "code",
   "execution_count": 4,
   "metadata": {},
   "outputs": [
    {
     "name": "stdout",
     "output_type": "stream",
     "text": [
      "Shortfall in listed houses detected, appending 114 of current listing to results.\n"
     ]
    }
   ],
   "source": [
    "user_home = BHU.get_UserHome(keys['SampleHouse'].strip(\"\\'\"))\n",
    "user_home_details = BHU.get_PropertyDetail(str(user_home['property_id']))\n",
    "hoi = BHU.get_HousesOfInterest(user_home, n=2000, listed_to_sold_ratio=0.3, verbose=True)\n",
    "gd = BHU.GeoData(hoi['geo'])"
   ]
  },
  {
   "cell_type": "code",
   "execution_count": 5,
   "metadata": {},
   "outputs": [],
   "source": [
    "# Can this be the first step in the pipeline or no?\n",
    "fg = BHU.FeatureGenerator(\n",
    "    houses = hoi['houses'],\n",
    "    gd=gd,\n",
    "    user_home=user_home_details\n",
    ")"
   ]
  },
  {
   "cell_type": "code",
   "execution_count": 6,
   "metadata": {},
   "outputs": [],
   "source": [
    "# This is the whole data set\n",
    "target_transformer = StandardScaler()\n",
    "train_targets = target_transformer.fit_transform(np.array(fg.targets).reshape(-1,1))\n",
    "train_features = fg.features"
   ]
  },
  {
   "cell_type": "code",
   "execution_count": 7,
   "metadata": {},
   "outputs": [],
   "source": [
    "#minmax_cols = ['distance_to_home'] # 'Days_listed', 'Days_listed', \n",
    "\n",
    "normalize_cols = ['lot_sqft', 'sqft']\n",
    "bucketize_cols = ['year_built', 'distance_to_home', 'lat', 'long']\n",
    "dummy_cols = ['baths_full', 'baths_3qtr', 'baths_half', 'baths_1qtr', 'garage', 'stories', 'beds']\n",
    "\n",
    "preprocess_data = ColumnTransformer(\n",
    "    [\n",
    "        #('scale', preprocess_min_max_cols, minmax_cols),\n",
    "        ('normalize', StandardScaler(), normalize_cols),\n",
    "        ('bucketize', BHU.KerasTransformers.preprocess_bucketize_col, bucketize_cols),\n",
    "        ('dummy', OneHotEncoder(sparse_output=False, handle_unknown='ignore'), dummy_cols),\n",
    "        #('list', preprocess_tags_col, 'tags')\n",
    "    ]\n",
    ")\n",
    "\n",
    "keras_pipeline = Pipeline(\n",
    "    [\n",
    "        ('to_data_frame', BHU.KerasTransformers.ToDataFrame()),\n",
    "        ('preprocess', preprocess_data),\n",
    "        ('keras_model', BHU.KerasModel(user_home, target_transformer))\n",
    "    ]\n",
    ")\n",
    "\n",
    "keras_pipeline.set_params(**{\n",
    "    'keras_model__load_model_if_available' : True,\n",
    "    'keras_model__update_model' : False,\n",
    "    'keras_model__save_model' : False\n",
    "})\n",
    "\n",
    "keras_pipeline.fit(train_features, train_targets)"
   ]
  },
  {
   "cell_type": "code",
   "execution_count": 10,
   "metadata": {},
   "outputs": [
    {
     "name": "stdout",
     "output_type": "stream",
     "text": [
      "1/1 [==============================] - 0s 113ms/step\n"
     ]
    },
    {
     "data": {
      "text/plain": [
       "(955466.5, 972500)"
      ]
     },
     "execution_count": 10,
     "metadata": {},
     "output_type": "execute_result"
    }
   ],
   "source": [
    "user_pred = keras_pipeline.predict(fg.user_features)\n",
    "user_pred[0][0], fg.user_target"
   ]
  },
  {
   "cell_type": "code",
   "execution_count": 11,
   "metadata": {},
   "outputs": [
    {
     "data": {
      "text/plain": [
       "'3416 19th Ave S'"
      ]
     },
     "execution_count": 11,
     "metadata": {},
     "output_type": "execute_result"
    }
   ],
   "source": [
    "fg.user_home_formatted.address"
   ]
  },
  {
   "cell_type": "code",
   "execution_count": 12,
   "metadata": {},
   "outputs": [
    {
     "name": "stdout",
     "output_type": "stream",
     "text": [
      "1/1 [==============================] - 0s 20ms/step\n"
     ]
    },
    {
     "data": {
      "text/plain": [
       "array([[981661.1]], dtype=float32)"
      ]
     },
     "execution_count": 12,
     "metadata": {},
     "output_type": "execute_result"
    }
   ],
   "source": [
    "xx = fg.user_features.copy()\n",
    "xx['baths_half'] += 1\n",
    "new_worth = keras_pipeline.predict(xx)\n",
    "new_worth"
   ]
  },
  {
   "cell_type": "code",
   "execution_count": 13,
   "metadata": {},
   "outputs": [
    {
     "data": {
      "text/plain": [
       "{'Property_ID': 2949757771,\n",
       " 'Address': None,\n",
       " 'Status': 'sold',\n",
       " 'Days_listed': 0,\n",
       " 'Days_updated': 0,\n",
       " 'baths_full': 2,\n",
       " 'baths_3qtr': 0,\n",
       " 'baths_half': 0,\n",
       " 'baths_1qtr': 0,\n",
       " 'year_built': 1915,\n",
       " 'lot_sqft': 4414,\n",
       " 'sqft': 2500,\n",
       " 'garage': 1,\n",
       " 'stories': 2,\n",
       " 'beds': 3,\n",
       " 'tags': ['city_view',\n",
       "  'community_security_features',\n",
       "  'dining_room',\n",
       "  'dishwasher',\n",
       "  'fireplace',\n",
       "  'hardwood_floors',\n",
       "  'hill_or_mountain_view',\n",
       "  'lake_view',\n",
       "  'ocean_view',\n",
       "  'spa_or_hot_tub',\n",
       "  'view',\n",
       "  'washer_dryer',\n",
       "  'water_view',\n",
       "  'basement',\n",
       "  'garage_1_or_more',\n",
       "  'fruit_trees',\n",
       "  'tennis_court',\n",
       "  'tennis',\n",
       "  'groundscare',\n",
       "  'garage_1'],\n",
       " 'new_construction': False,\n",
       " 'distance_to_home': 0,\n",
       " 'lat': 47.572613,\n",
       " 'long': -122.306358}"
      ]
     },
     "execution_count": 13,
     "metadata": {},
     "output_type": "execute_result"
    }
   ],
   "source": [
    "fg.user_features"
   ]
  },
  {
   "cell_type": "code",
   "execution_count": 14,
   "metadata": {},
   "outputs": [
    {
     "data": {
      "text/plain": [
       "array([[1.0274155]], dtype=float32)"
      ]
     },
     "execution_count": 14,
     "metadata": {},
     "output_type": "execute_result"
    }
   ],
   "source": [
    "worth_change_ratio = new_worth / user_pred\n",
    "worth_change_ratio"
   ]
  },
  {
   "cell_type": "code",
   "execution_count": 15,
   "metadata": {},
   "outputs": [
    {
     "data": {
      "text/plain": [
       "array([[999161.58735752]])"
      ]
     },
     "execution_count": 15,
     "metadata": {},
     "output_type": "execute_result"
    }
   ],
   "source": [
    "new_worth_to_user = worth_change_ratio * fg.user_target\n",
    "new_worth_to_user"
   ]
  },
  {
   "cell_type": "code",
   "execution_count": 16,
   "metadata": {},
   "outputs": [
    {
     "data": {
      "text/plain": [
       "array([[26661.58735752]])"
      ]
     },
     "execution_count": 16,
     "metadata": {},
     "output_type": "execute_result"
    }
   ],
   "source": [
    "worth_delta = new_worth_to_user - fg.user_target\n",
    "worth_delta"
   ]
  },
  {
   "cell_type": "code",
   "execution_count": 17,
   "metadata": {},
   "outputs": [
    {
     "data": {
      "text/plain": [
       "True"
      ]
     },
     "execution_count": 17,
     "metadata": {},
     "output_type": "execute_result"
    }
   ],
   "source": [
    "'year_built' in fg.user_features.keys()"
   ]
  },
  {
   "cell_type": "code",
   "execution_count": null,
   "metadata": {},
   "outputs": [],
   "source": []
  }
 ],
 "metadata": {
  "kernelspec": {
   "display_name": "Python 3",
   "language": "python",
   "name": "python3"
  },
  "language_info": {
   "codemirror_mode": {
    "name": "ipython",
    "version": 3
   },
   "file_extension": ".py",
   "mimetype": "text/x-python",
   "name": "python",
   "nbconvert_exporter": "python",
   "pygments_lexer": "ipython3",
   "version": "3.10.8"
  },
  "orig_nbformat": 4,
  "vscode": {
   "interpreter": {
    "hash": "aee8b7b246df8f9039afb4144a1f6fd8d2ca17a180786b69acc140d282b71a49"
   }
  }
 },
 "nbformat": 4,
 "nbformat_minor": 2
}
