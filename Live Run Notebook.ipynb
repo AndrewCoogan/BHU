{
 "cells": [
  {
   "cell_type": "code",
   "execution_count": 4,
   "metadata": {},
   "outputs": [
    {
     "name": "stdout",
     "output_type": "stream",
     "text": [
      "Loading SEATTLE_WA model.\n"
     ]
    }
   ],
   "source": [
    "import BHU\n",
    "from BHU.KerasTransformers import preprocess_bucketize_col, preprocess_min_max_cols, preprocess_standard_scaler_cols\n",
    "from BHU.KerasTransformers import ToDataFrame\n",
    "import os\n",
    "import numpy as np\n",
    "import keys as k\n",
    "\n",
    "from sklearn.pipeline import Pipeline\n",
    "from sklearn.compose import ColumnTransformer\n",
    "from sklearn.preprocessing import StandardScaler, OneHotEncoder\n",
    "\n",
    "keys = k.getKeys()\n",
    "\n",
    "os.environ['TF_CPP_MIN_LOG_LEVEL'] = '1'\n",
    "\n",
    "user_home : dict = BHU.get_UserHome(keys['SampleHouse'].strip(\"\\'\"))\n",
    "user_home_details = BHU.get_PropertyDetail(user_home.get('property_id'))\n",
    "hoi = BHU.get_HousesOfInterest(user_home, n=2000, listed_to_sold_ratio=0.3, verbose=True)\n",
    "gd = BHU.GeoData(hoi['geo'])\n",
    "\n",
    "fg = BHU.FeatureGenerator(\n",
    "    houses = hoi['houses'],\n",
    "    gd=gd,\n",
    "    user_home=user_home_details\n",
    ")"
   ]
  },
  {
   "cell_type": "code",
   "execution_count": 5,
   "metadata": {},
   "outputs": [
    {
     "name": "stdout",
     "output_type": "stream",
     "text": [
      "Epoch 1/100\n",
      "38/38 [==============================] - 1s 3ms/step - loss: 0.6274 - mean_squared_error: 0.6274 - mean_absolute_error: 0.5473\n",
      "Epoch 2/100\n",
      "38/38 [==============================] - 0s 3ms/step - loss: 0.2760 - mean_squared_error: 0.2760 - mean_absolute_error: 0.3511\n",
      "Epoch 3/100\n",
      "38/38 [==============================] - 0s 3ms/step - loss: 0.2236 - mean_squared_error: 0.2236 - mean_absolute_error: 0.3219\n",
      "Epoch 4/100\n",
      "38/38 [==============================] - 0s 2ms/step - loss: 0.1967 - mean_squared_error: 0.1967 - mean_absolute_error: 0.3062\n",
      "Epoch 5/100\n",
      "38/38 [==============================] - 0s 2ms/step - loss: 0.1659 - mean_squared_error: 0.1659 - mean_absolute_error: 0.2826\n",
      "Epoch 6/100\n",
      "38/38 [==============================] - 0s 2ms/step - loss: 0.1523 - mean_squared_error: 0.1523 - mean_absolute_error: 0.2703\n",
      "Epoch 7/100\n",
      "38/38 [==============================] - 0s 2ms/step - loss: 0.1474 - mean_squared_error: 0.1474 - mean_absolute_error: 0.2682\n",
      "Epoch 8/100\n",
      "38/38 [==============================] - 0s 2ms/step - loss: 0.1296 - mean_squared_error: 0.1296 - mean_absolute_error: 0.2493\n",
      "Epoch 9/100\n",
      "38/38 [==============================] - 0s 2ms/step - loss: 0.1089 - mean_squared_error: 0.1089 - mean_absolute_error: 0.2331\n",
      "Epoch 10/100\n",
      "38/38 [==============================] - 0s 2ms/step - loss: 0.0931 - mean_squared_error: 0.0931 - mean_absolute_error: 0.2192\n",
      "Epoch 11/100\n",
      "38/38 [==============================] - 0s 2ms/step - loss: 0.0880 - mean_squared_error: 0.0880 - mean_absolute_error: 0.2121\n",
      "Epoch 12/100\n",
      "38/38 [==============================] - 0s 2ms/step - loss: 0.0824 - mean_squared_error: 0.0824 - mean_absolute_error: 0.2106\n",
      "Epoch 13/100\n",
      "38/38 [==============================] - 0s 3ms/step - loss: 0.0784 - mean_squared_error: 0.0784 - mean_absolute_error: 0.2052\n",
      "Epoch 14/100\n",
      "38/38 [==============================] - 0s 2ms/step - loss: 0.0861 - mean_squared_error: 0.0861 - mean_absolute_error: 0.2124\n",
      "Epoch 15/100\n",
      "38/38 [==============================] - 0s 2ms/step - loss: 0.0621 - mean_squared_error: 0.0621 - mean_absolute_error: 0.1836\n",
      "Epoch 16/100\n",
      "38/38 [==============================] - 0s 2ms/step - loss: 0.0586 - mean_squared_error: 0.0586 - mean_absolute_error: 0.1782\n",
      "Epoch 17/100\n",
      "38/38 [==============================] - 0s 2ms/step - loss: 0.0480 - mean_squared_error: 0.0480 - mean_absolute_error: 0.1613\n",
      "Epoch 18/100\n",
      "38/38 [==============================] - 0s 5ms/step - loss: 0.0473 - mean_squared_error: 0.0473 - mean_absolute_error: 0.1609\n",
      "Epoch 19/100\n",
      "38/38 [==============================] - 0s 2ms/step - loss: 0.0518 - mean_squared_error: 0.0518 - mean_absolute_error: 0.1660\n",
      "Epoch 20/100\n",
      "38/38 [==============================] - 0s 2ms/step - loss: 0.0430 - mean_squared_error: 0.0430 - mean_absolute_error: 0.1547\n",
      "Epoch 21/100\n",
      "38/38 [==============================] - 0s 2ms/step - loss: 0.0460 - mean_squared_error: 0.0460 - mean_absolute_error: 0.1579\n",
      "Epoch 22/100\n",
      "38/38 [==============================] - 0s 2ms/step - loss: 0.0389 - mean_squared_error: 0.0389 - mean_absolute_error: 0.1444\n",
      "Epoch 23/100\n",
      "38/38 [==============================] - 0s 2ms/step - loss: 0.0406 - mean_squared_error: 0.0406 - mean_absolute_error: 0.1452\n",
      "Epoch 24/100\n",
      "38/38 [==============================] - 0s 2ms/step - loss: 0.0319 - mean_squared_error: 0.0319 - mean_absolute_error: 0.1333\n",
      "Epoch 25/100\n",
      "38/38 [==============================] - 0s 2ms/step - loss: 0.0311 - mean_squared_error: 0.0311 - mean_absolute_error: 0.1317\n",
      "Epoch 26/100\n",
      "38/38 [==============================] - 0s 2ms/step - loss: 0.0316 - mean_squared_error: 0.0316 - mean_absolute_error: 0.1320\n",
      "Epoch 27/100\n",
      "38/38 [==============================] - 0s 2ms/step - loss: 0.0306 - mean_squared_error: 0.0306 - mean_absolute_error: 0.1308\n",
      "Epoch 28/100\n",
      "38/38 [==============================] - 0s 2ms/step - loss: 0.0278 - mean_squared_error: 0.0278 - mean_absolute_error: 0.1228\n",
      "Epoch 29/100\n",
      "38/38 [==============================] - 0s 2ms/step - loss: 0.0262 - mean_squared_error: 0.0262 - mean_absolute_error: 0.1197\n",
      "Epoch 30/100\n",
      "38/38 [==============================] - 0s 2ms/step - loss: 0.0274 - mean_squared_error: 0.0274 - mean_absolute_error: 0.1239\n",
      "Epoch 31/100\n",
      "38/38 [==============================] - 0s 2ms/step - loss: 0.0247 - mean_squared_error: 0.0247 - mean_absolute_error: 0.1160\n",
      "Epoch 32/100\n",
      "38/38 [==============================] - 0s 2ms/step - loss: 0.0263 - mean_squared_error: 0.0263 - mean_absolute_error: 0.1167\n",
      "Epoch 33/100\n",
      "38/38 [==============================] - 0s 2ms/step - loss: 0.0291 - mean_squared_error: 0.0291 - mean_absolute_error: 0.1277\n",
      "Epoch 34/100\n",
      "38/38 [==============================] - 0s 2ms/step - loss: 0.0241 - mean_squared_error: 0.0241 - mean_absolute_error: 0.1148\n",
      "Epoch 35/100\n",
      "38/38 [==============================] - 0s 2ms/step - loss: 0.0290 - mean_squared_error: 0.0290 - mean_absolute_error: 0.1228\n",
      "Epoch 36/100\n",
      "38/38 [==============================] - 0s 2ms/step - loss: 0.0272 - mean_squared_error: 0.0272 - mean_absolute_error: 0.1221\n",
      "Epoch 37/100\n",
      "38/38 [==============================] - 0s 4ms/step - loss: 0.0212 - mean_squared_error: 0.0212 - mean_absolute_error: 0.1052\n",
      "Epoch 38/100\n",
      "38/38 [==============================] - 0s 3ms/step - loss: 0.0206 - mean_squared_error: 0.0206 - mean_absolute_error: 0.1053\n",
      "Epoch 39/100\n",
      "38/38 [==============================] - 0s 2ms/step - loss: 0.0220 - mean_squared_error: 0.0220 - mean_absolute_error: 0.1079\n",
      "Epoch 40/100\n",
      "38/38 [==============================] - 0s 2ms/step - loss: 0.0211 - mean_squared_error: 0.0211 - mean_absolute_error: 0.1051\n",
      "Epoch 41/100\n",
      "38/38 [==============================] - 0s 2ms/step - loss: 0.0190 - mean_squared_error: 0.0190 - mean_absolute_error: 0.1018\n",
      "Epoch 42/100\n",
      "38/38 [==============================] - 0s 2ms/step - loss: 0.0188 - mean_squared_error: 0.0188 - mean_absolute_error: 0.0998\n",
      "Epoch 43/100\n",
      "38/38 [==============================] - 0s 2ms/step - loss: 0.0209 - mean_squared_error: 0.0209 - mean_absolute_error: 0.1014\n",
      "Epoch 44/100\n",
      "38/38 [==============================] - 0s 2ms/step - loss: 0.0239 - mean_squared_error: 0.0239 - mean_absolute_error: 0.1135\n",
      "Epoch 45/100\n",
      "38/38 [==============================] - 0s 2ms/step - loss: 0.0194 - mean_squared_error: 0.0194 - mean_absolute_error: 0.1031\n",
      "Epoch 46/100\n",
      "38/38 [==============================] - 0s 2ms/step - loss: 0.0210 - mean_squared_error: 0.0210 - mean_absolute_error: 0.1063\n",
      "Epoch 47/100\n",
      "38/38 [==============================] - 0s 2ms/step - loss: 0.0220 - mean_squared_error: 0.0220 - mean_absolute_error: 0.1046\n",
      "Epoch 48/100\n",
      "38/38 [==============================] - 0s 2ms/step - loss: 0.0175 - mean_squared_error: 0.0175 - mean_absolute_error: 0.0966\n",
      "Epoch 49/100\n",
      "38/38 [==============================] - 0s 2ms/step - loss: 0.0178 - mean_squared_error: 0.0178 - mean_absolute_error: 0.0967\n",
      "Epoch 50/100\n",
      "38/38 [==============================] - 0s 2ms/step - loss: 0.0168 - mean_squared_error: 0.0168 - mean_absolute_error: 0.0935\n",
      "Epoch 51/100\n",
      "38/38 [==============================] - 0s 2ms/step - loss: 0.0159 - mean_squared_error: 0.0159 - mean_absolute_error: 0.0912\n",
      "Epoch 52/100\n",
      "38/38 [==============================] - 0s 2ms/step - loss: 0.0159 - mean_squared_error: 0.0159 - mean_absolute_error: 0.0889\n",
      "Epoch 53/100\n",
      "38/38 [==============================] - 0s 2ms/step - loss: 0.0169 - mean_squared_error: 0.0169 - mean_absolute_error: 0.0930\n",
      "Epoch 54/100\n",
      "38/38 [==============================] - 0s 4ms/step - loss: 0.0151 - mean_squared_error: 0.0151 - mean_absolute_error: 0.0885\n",
      "Epoch 55/100\n",
      "38/38 [==============================] - 0s 2ms/step - loss: 0.0169 - mean_squared_error: 0.0169 - mean_absolute_error: 0.0896\n",
      "Epoch 56/100\n",
      "38/38 [==============================] - 0s 2ms/step - loss: 0.0178 - mean_squared_error: 0.0178 - mean_absolute_error: 0.0925\n",
      "Epoch 57/100\n",
      "38/38 [==============================] - 0s 2ms/step - loss: 0.0126 - mean_squared_error: 0.0126 - mean_absolute_error: 0.0813\n",
      "Epoch 58/100\n",
      "38/38 [==============================] - 0s 2ms/step - loss: 0.0152 - mean_squared_error: 0.0152 - mean_absolute_error: 0.0865\n",
      "Epoch 59/100\n",
      "38/38 [==============================] - 0s 2ms/step - loss: 0.0142 - mean_squared_error: 0.0142 - mean_absolute_error: 0.0850\n",
      "Epoch 60/100\n",
      "38/38 [==============================] - 0s 2ms/step - loss: 0.0140 - mean_squared_error: 0.0140 - mean_absolute_error: 0.0839\n",
      "Epoch 61/100\n",
      "38/38 [==============================] - 0s 2ms/step - loss: 0.0145 - mean_squared_error: 0.0145 - mean_absolute_error: 0.0868\n",
      "Epoch 62/100\n",
      "38/38 [==============================] - 0s 2ms/step - loss: 0.0132 - mean_squared_error: 0.0132 - mean_absolute_error: 0.0811\n",
      "Epoch 63/100\n",
      "38/38 [==============================] - 0s 2ms/step - loss: 0.0144 - mean_squared_error: 0.0144 - mean_absolute_error: 0.0842\n",
      "Epoch 64/100\n",
      "38/38 [==============================] - 0s 2ms/step - loss: 0.0162 - mean_squared_error: 0.0162 - mean_absolute_error: 0.0892\n",
      "Epoch 65/100\n",
      "38/38 [==============================] - 0s 2ms/step - loss: 0.0162 - mean_squared_error: 0.0162 - mean_absolute_error: 0.0883\n",
      "Epoch 66/100\n",
      "38/38 [==============================] - 0s 2ms/step - loss: 0.0142 - mean_squared_error: 0.0142 - mean_absolute_error: 0.0844\n",
      "Epoch 67/100\n",
      "38/38 [==============================] - 0s 2ms/step - loss: 0.0148 - mean_squared_error: 0.0148 - mean_absolute_error: 0.0827\n",
      "Epoch 68/100\n",
      "38/38 [==============================] - 0s 2ms/step - loss: 0.0139 - mean_squared_error: 0.0139 - mean_absolute_error: 0.0816\n",
      "Epoch 69/100\n",
      "38/38 [==============================] - 0s 2ms/step - loss: 0.0145 - mean_squared_error: 0.0145 - mean_absolute_error: 0.0851\n",
      "Epoch 70/100\n",
      "38/38 [==============================] - 0s 2ms/step - loss: 0.0129 - mean_squared_error: 0.0129 - mean_absolute_error: 0.0809\n",
      "Epoch 71/100\n",
      "38/38 [==============================] - 0s 4ms/step - loss: 0.0132 - mean_squared_error: 0.0132 - mean_absolute_error: 0.0804\n",
      "Epoch 72/100\n",
      "38/38 [==============================] - 0s 2ms/step - loss: 0.0143 - mean_squared_error: 0.0143 - mean_absolute_error: 0.0816\n",
      "Epoch 73/100\n",
      "38/38 [==============================] - 0s 2ms/step - loss: 0.0123 - mean_squared_error: 0.0123 - mean_absolute_error: 0.0785\n",
      "Epoch 74/100\n",
      "38/38 [==============================] - 0s 2ms/step - loss: 0.0133 - mean_squared_error: 0.0133 - mean_absolute_error: 0.0792\n",
      "Epoch 75/100\n",
      "38/38 [==============================] - 0s 2ms/step - loss: 0.0156 - mean_squared_error: 0.0156 - mean_absolute_error: 0.0862\n",
      "Epoch 76/100\n",
      "38/38 [==============================] - 0s 2ms/step - loss: 0.0112 - mean_squared_error: 0.0112 - mean_absolute_error: 0.0761\n",
      "Epoch 77/100\n",
      "38/38 [==============================] - 0s 2ms/step - loss: 0.0114 - mean_squared_error: 0.0114 - mean_absolute_error: 0.0766\n",
      "Epoch 78/100\n",
      "38/38 [==============================] - 0s 2ms/step - loss: 0.0102 - mean_squared_error: 0.0102 - mean_absolute_error: 0.0710\n",
      "Epoch 79/100\n",
      "38/38 [==============================] - 0s 2ms/step - loss: 0.0122 - mean_squared_error: 0.0122 - mean_absolute_error: 0.0768\n",
      "Epoch 80/100\n",
      "38/38 [==============================] - 0s 2ms/step - loss: 0.0116 - mean_squared_error: 0.0116 - mean_absolute_error: 0.0726\n",
      "Epoch 81/100\n",
      "38/38 [==============================] - 0s 2ms/step - loss: 0.0140 - mean_squared_error: 0.0140 - mean_absolute_error: 0.0833\n",
      "Epoch 82/100\n",
      "38/38 [==============================] - 0s 2ms/step - loss: 0.0129 - mean_squared_error: 0.0129 - mean_absolute_error: 0.0800\n",
      "Epoch 83/100\n",
      "38/38 [==============================] - 0s 2ms/step - loss: 0.0120 - mean_squared_error: 0.0120 - mean_absolute_error: 0.0758\n",
      "Epoch 84/100\n",
      "38/38 [==============================] - 0s 2ms/step - loss: 0.0126 - mean_squared_error: 0.0126 - mean_absolute_error: 0.0757\n",
      "Epoch 85/100\n",
      "38/38 [==============================] - 0s 2ms/step - loss: 0.0123 - mean_squared_error: 0.0123 - mean_absolute_error: 0.0755\n",
      "Epoch 86/100\n",
      "38/38 [==============================] - 0s 2ms/step - loss: 0.0121 - mean_squared_error: 0.0121 - mean_absolute_error: 0.0772\n",
      "Epoch 87/100\n",
      "38/38 [==============================] - 0s 4ms/step - loss: 0.0118 - mean_squared_error: 0.0118 - mean_absolute_error: 0.0764\n",
      "Epoch 88/100\n",
      "38/38 [==============================] - 0s 2ms/step - loss: 0.0103 - mean_squared_error: 0.0103 - mean_absolute_error: 0.0714\n",
      "Epoch 89/100\n",
      "38/38 [==============================] - 0s 2ms/step - loss: 0.0135 - mean_squared_error: 0.0135 - mean_absolute_error: 0.0777\n",
      "Epoch 90/100\n",
      "38/38 [==============================] - 0s 2ms/step - loss: 0.0164 - mean_squared_error: 0.0164 - mean_absolute_error: 0.0867\n",
      "Epoch 91/100\n",
      "38/38 [==============================] - 0s 2ms/step - loss: 0.0127 - mean_squared_error: 0.0127 - mean_absolute_error: 0.0787\n",
      "Epoch 92/100\n",
      "38/38 [==============================] - 0s 2ms/step - loss: 0.0105 - mean_squared_error: 0.0105 - mean_absolute_error: 0.0716\n",
      "Epoch 93/100\n",
      "38/38 [==============================] - 0s 2ms/step - loss: 0.0115 - mean_squared_error: 0.0115 - mean_absolute_error: 0.0723\n",
      "Epoch 94/100\n",
      "38/38 [==============================] - 0s 2ms/step - loss: 0.0143 - mean_squared_error: 0.0143 - mean_absolute_error: 0.0793\n",
      "Epoch 95/100\n",
      "38/38 [==============================] - 0s 2ms/step - loss: 0.0146 - mean_squared_error: 0.0146 - mean_absolute_error: 0.0800\n",
      "Epoch 96/100\n",
      "38/38 [==============================] - 0s 2ms/step - loss: 0.0144 - mean_squared_error: 0.0144 - mean_absolute_error: 0.0821\n",
      "Epoch 97/100\n",
      "38/38 [==============================] - 0s 2ms/step - loss: 0.0122 - mean_squared_error: 0.0122 - mean_absolute_error: 0.0767\n",
      "Epoch 98/100\n",
      "38/38 [==============================] - 0s 2ms/step - loss: 0.0118 - mean_squared_error: 0.0118 - mean_absolute_error: 0.0716\n",
      "Epoch 99/100\n",
      "38/38 [==============================] - 0s 2ms/step - loss: 0.0099 - mean_squared_error: 0.0099 - mean_absolute_error: 0.0682\n",
      "Epoch 100/100\n",
      "38/38 [==============================] - 0s 2ms/step - loss: 0.0119 - mean_squared_error: 0.0119 - mean_absolute_error: 0.0737\n"
     ]
    },
    {
     "name": "stderr",
     "output_type": "stream",
     "text": [
      "WARNING:absl:Found untraced functions such as _update_step_xla while saving (showing 1 of 1). These functions will not be directly callable after loading.\n"
     ]
    },
    {
     "name": "stdout",
     "output_type": "stream",
     "text": [
      "INFO:tensorflow:Assets written to: ram://fc46b231354640f290bee911e9e3cc33/assets\n"
     ]
    },
    {
     "name": "stderr",
     "output_type": "stream",
     "text": [
      "INFO:tensorflow:Assets written to: ram://fc46b231354640f290bee911e9e3cc33/assets\n"
     ]
    },
    {
     "data": {
      "text/html": [
       "<style>#sk-container-id-2 {color: black;background-color: white;}#sk-container-id-2 pre{padding: 0;}#sk-container-id-2 div.sk-toggleable {background-color: white;}#sk-container-id-2 label.sk-toggleable__label {cursor: pointer;display: block;width: 100%;margin-bottom: 0;padding: 0.3em;box-sizing: border-box;text-align: center;}#sk-container-id-2 label.sk-toggleable__label-arrow:before {content: \"▸\";float: left;margin-right: 0.25em;color: #696969;}#sk-container-id-2 label.sk-toggleable__label-arrow:hover:before {color: black;}#sk-container-id-2 div.sk-estimator:hover label.sk-toggleable__label-arrow:before {color: black;}#sk-container-id-2 div.sk-toggleable__content {max-height: 0;max-width: 0;overflow: hidden;text-align: left;background-color: #f0f8ff;}#sk-container-id-2 div.sk-toggleable__content pre {margin: 0.2em;color: black;border-radius: 0.25em;background-color: #f0f8ff;}#sk-container-id-2 input.sk-toggleable__control:checked~div.sk-toggleable__content {max-height: 200px;max-width: 100%;overflow: auto;}#sk-container-id-2 input.sk-toggleable__control:checked~label.sk-toggleable__label-arrow:before {content: \"▾\";}#sk-container-id-2 div.sk-estimator input.sk-toggleable__control:checked~label.sk-toggleable__label {background-color: #d4ebff;}#sk-container-id-2 div.sk-label input.sk-toggleable__control:checked~label.sk-toggleable__label {background-color: #d4ebff;}#sk-container-id-2 input.sk-hidden--visually {border: 0;clip: rect(1px 1px 1px 1px);clip: rect(1px, 1px, 1px, 1px);height: 1px;margin: -1px;overflow: hidden;padding: 0;position: absolute;width: 1px;}#sk-container-id-2 div.sk-estimator {font-family: monospace;background-color: #f0f8ff;border: 1px dotted black;border-radius: 0.25em;box-sizing: border-box;margin-bottom: 0.5em;}#sk-container-id-2 div.sk-estimator:hover {background-color: #d4ebff;}#sk-container-id-2 div.sk-parallel-item::after {content: \"\";width: 100%;border-bottom: 1px solid gray;flex-grow: 1;}#sk-container-id-2 div.sk-label:hover label.sk-toggleable__label {background-color: #d4ebff;}#sk-container-id-2 div.sk-serial::before {content: \"\";position: absolute;border-left: 1px solid gray;box-sizing: border-box;top: 0;bottom: 0;left: 50%;z-index: 0;}#sk-container-id-2 div.sk-serial {display: flex;flex-direction: column;align-items: center;background-color: white;padding-right: 0.2em;padding-left: 0.2em;position: relative;}#sk-container-id-2 div.sk-item {position: relative;z-index: 1;}#sk-container-id-2 div.sk-parallel {display: flex;align-items: stretch;justify-content: center;background-color: white;position: relative;}#sk-container-id-2 div.sk-item::before, #sk-container-id-2 div.sk-parallel-item::before {content: \"\";position: absolute;border-left: 1px solid gray;box-sizing: border-box;top: 0;bottom: 0;left: 50%;z-index: -1;}#sk-container-id-2 div.sk-parallel-item {display: flex;flex-direction: column;z-index: 1;position: relative;background-color: white;}#sk-container-id-2 div.sk-parallel-item:first-child::after {align-self: flex-end;width: 50%;}#sk-container-id-2 div.sk-parallel-item:last-child::after {align-self: flex-start;width: 50%;}#sk-container-id-2 div.sk-parallel-item:only-child::after {width: 0;}#sk-container-id-2 div.sk-dashed-wrapped {border: 1px dashed gray;margin: 0 0.4em 0.5em 0.4em;box-sizing: border-box;padding-bottom: 0.4em;background-color: white;}#sk-container-id-2 div.sk-label label {font-family: monospace;font-weight: bold;display: inline-block;line-height: 1.2em;}#sk-container-id-2 div.sk-label-container {text-align: center;}#sk-container-id-2 div.sk-container {/* jupyter's `normalize.less` sets `[hidden] { display: none; }` but bootstrap.min.css set `[hidden] { display: none !important; }` so we also need the `!important` here to be able to override the default hidden behavior on the sphinx rendered scikit-learn.org. See: https://github.com/scikit-learn/scikit-learn/issues/21755 */display: inline-block !important;position: relative;}#sk-container-id-2 div.sk-text-repr-fallback {display: none;}</style><div id=\"sk-container-id-2\" class=\"sk-top-container\"><div class=\"sk-text-repr-fallback\"><pre>Pipeline(steps=[(&#x27;to_data_frame&#x27;, ToDataFrame()),\n",
       "                (&#x27;preprocess&#x27;,\n",
       "                 ColumnTransformer(transformers=[(&#x27;normalize&#x27;, StandardScaler(),\n",
       "                                                  [&#x27;lot_sqft&#x27;, &#x27;sqft&#x27;]),\n",
       "                                                 (&#x27;bucketize&#x27;,\n",
       "                                                  Pipeline(steps=[(&#x27;impute&#x27;,\n",
       "                                                                   SimpleImputer()),\n",
       "                                                                  (&#x27;bucketize&#x27;,\n",
       "                                                                   KBinsDiscretizer(n_bins=20,\n",
       "                                                                                    strategy=&#x27;uniform&#x27;))]),\n",
       "                                                  [&#x27;year_built&#x27;,\n",
       "                                                   &#x27;distance_to_home&#x27;,\n",
       "                                                   &#x27;lat_winz&#x27;, &#x27;long_winz&#x27;]),\n",
       "                                                 (&#x27;dummy&#x27;,\n",
       "                                                  OneHotEncoder(handl...\n",
       "                                       &#x27;area_type&#x27;: &#x27;address&#x27;,\n",
       "                                       &#x27;centroid&#x27;: {&#x27;lat&#x27;: 47.572613,\n",
       "                                                    &#x27;lon&#x27;: -122.306358},\n",
       "                                       &#x27;city&#x27;: &#x27;Seattle&#x27;, &#x27;country&#x27;: &#x27;USA&#x27;,\n",
       "                                       &#x27;full_address&#x27;: [&#x27;3416 19th Ave S &#x27;\n",
       "                                                        &#x27;Seattle WA 98144&#x27;,\n",
       "                                                        &#x27;3416 19th Ave S &#x27;\n",
       "                                                        &#x27;Seattle WA&#x27;],\n",
       "                                       &#x27;line&#x27;: &#x27;3416 19th Ave S&#x27;,\n",
       "                                       &#x27;mpr_id&#x27;: &#x27;1897471296&#x27;,\n",
       "                                       &#x27;postal_code&#x27;: &#x27;98144&#x27;,\n",
       "                                       &#x27;prop_status&#x27;: [&#x27;recently_sold&#x27;,\n",
       "                                                       &#x27;off_market&#x27;],\n",
       "                                       &#x27;property_id&#x27;: &#x27;1897471296&#x27;,\n",
       "                                       &#x27;state_code&#x27;: &#x27;WA&#x27;,\n",
       "                                       &#x27;validation_code&#x27;: [&#x27;121&#x27;]}))])</pre><b>In a Jupyter environment, please rerun this cell to show the HTML representation or trust the notebook. <br />On GitHub, the HTML representation is unable to render, please try loading this page with nbviewer.org.</b></div><div class=\"sk-container\" hidden><div class=\"sk-item sk-dashed-wrapped\"><div class=\"sk-label-container\"><div class=\"sk-label sk-toggleable\"><input class=\"sk-toggleable__control sk-hidden--visually\" id=\"sk-estimator-id-20\" type=\"checkbox\" ><label for=\"sk-estimator-id-20\" class=\"sk-toggleable__label sk-toggleable__label-arrow\">Pipeline</label><div class=\"sk-toggleable__content\"><pre>Pipeline(steps=[(&#x27;to_data_frame&#x27;, ToDataFrame()),\n",
       "                (&#x27;preprocess&#x27;,\n",
       "                 ColumnTransformer(transformers=[(&#x27;normalize&#x27;, StandardScaler(),\n",
       "                                                  [&#x27;lot_sqft&#x27;, &#x27;sqft&#x27;]),\n",
       "                                                 (&#x27;bucketize&#x27;,\n",
       "                                                  Pipeline(steps=[(&#x27;impute&#x27;,\n",
       "                                                                   SimpleImputer()),\n",
       "                                                                  (&#x27;bucketize&#x27;,\n",
       "                                                                   KBinsDiscretizer(n_bins=20,\n",
       "                                                                                    strategy=&#x27;uniform&#x27;))]),\n",
       "                                                  [&#x27;year_built&#x27;,\n",
       "                                                   &#x27;distance_to_home&#x27;,\n",
       "                                                   &#x27;lat_winz&#x27;, &#x27;long_winz&#x27;]),\n",
       "                                                 (&#x27;dummy&#x27;,\n",
       "                                                  OneHotEncoder(handl...\n",
       "                                       &#x27;area_type&#x27;: &#x27;address&#x27;,\n",
       "                                       &#x27;centroid&#x27;: {&#x27;lat&#x27;: 47.572613,\n",
       "                                                    &#x27;lon&#x27;: -122.306358},\n",
       "                                       &#x27;city&#x27;: &#x27;Seattle&#x27;, &#x27;country&#x27;: &#x27;USA&#x27;,\n",
       "                                       &#x27;full_address&#x27;: [&#x27;3416 19th Ave S &#x27;\n",
       "                                                        &#x27;Seattle WA 98144&#x27;,\n",
       "                                                        &#x27;3416 19th Ave S &#x27;\n",
       "                                                        &#x27;Seattle WA&#x27;],\n",
       "                                       &#x27;line&#x27;: &#x27;3416 19th Ave S&#x27;,\n",
       "                                       &#x27;mpr_id&#x27;: &#x27;1897471296&#x27;,\n",
       "                                       &#x27;postal_code&#x27;: &#x27;98144&#x27;,\n",
       "                                       &#x27;prop_status&#x27;: [&#x27;recently_sold&#x27;,\n",
       "                                                       &#x27;off_market&#x27;],\n",
       "                                       &#x27;property_id&#x27;: &#x27;1897471296&#x27;,\n",
       "                                       &#x27;state_code&#x27;: &#x27;WA&#x27;,\n",
       "                                       &#x27;validation_code&#x27;: [&#x27;121&#x27;]}))])</pre></div></div></div><div class=\"sk-serial\"><div class=\"sk-item\"><div class=\"sk-estimator sk-toggleable\"><input class=\"sk-toggleable__control sk-hidden--visually\" id=\"sk-estimator-id-21\" type=\"checkbox\" ><label for=\"sk-estimator-id-21\" class=\"sk-toggleable__label sk-toggleable__label-arrow\">ToDataFrame</label><div class=\"sk-toggleable__content\"><pre>ToDataFrame()</pre></div></div></div><div class=\"sk-item sk-dashed-wrapped\"><div class=\"sk-label-container\"><div class=\"sk-label sk-toggleable\"><input class=\"sk-toggleable__control sk-hidden--visually\" id=\"sk-estimator-id-22\" type=\"checkbox\" ><label for=\"sk-estimator-id-22\" class=\"sk-toggleable__label sk-toggleable__label-arrow\">preprocess: ColumnTransformer</label><div class=\"sk-toggleable__content\"><pre>ColumnTransformer(transformers=[(&#x27;normalize&#x27;, StandardScaler(),\n",
       "                                 [&#x27;lot_sqft&#x27;, &#x27;sqft&#x27;]),\n",
       "                                (&#x27;bucketize&#x27;,\n",
       "                                 Pipeline(steps=[(&#x27;impute&#x27;, SimpleImputer()),\n",
       "                                                 (&#x27;bucketize&#x27;,\n",
       "                                                  KBinsDiscretizer(n_bins=20,\n",
       "                                                                   strategy=&#x27;uniform&#x27;))]),\n",
       "                                 [&#x27;year_built&#x27;, &#x27;distance_to_home&#x27;, &#x27;lat_winz&#x27;,\n",
       "                                  &#x27;long_winz&#x27;]),\n",
       "                                (&#x27;dummy&#x27;,\n",
       "                                 OneHotEncoder(handle_unknown=&#x27;ignore&#x27;,\n",
       "                                               sparse_output=False),\n",
       "                                 [&#x27;baths_full&#x27;, &#x27;baths_3qtr&#x27;, &#x27;baths_half&#x27;,\n",
       "                                  &#x27;baths_1qtr&#x27;, &#x27;garage&#x27;, &#x27;stories&#x27;, &#x27;beds&#x27;]),\n",
       "                                (&#x27;walkscore_mm&#x27;,\n",
       "                                 Pipeline(steps=[(&#x27;impute&#x27;, SimpleImputer()),\n",
       "                                                 (&#x27;min_max_scale&#x27;,\n",
       "                                                  MinMaxScaler())]),\n",
       "                                 [&#x27;walk_score&#x27;]),\n",
       "                                (&#x27;walkscore_ss&#x27;,\n",
       "                                 Pipeline(steps=[(&#x27;impute&#x27;, SimpleImputer()),\n",
       "                                                 (&#x27;min_max_scale&#x27;,\n",
       "                                                  StandardScaler())]),\n",
       "                                 [&#x27;walk_score&#x27;])])</pre></div></div></div><div class=\"sk-parallel\"><div class=\"sk-parallel-item\"><div class=\"sk-item\"><div class=\"sk-label-container\"><div class=\"sk-label sk-toggleable\"><input class=\"sk-toggleable__control sk-hidden--visually\" id=\"sk-estimator-id-23\" type=\"checkbox\" ><label for=\"sk-estimator-id-23\" class=\"sk-toggleable__label sk-toggleable__label-arrow\">normalize</label><div class=\"sk-toggleable__content\"><pre>[&#x27;lot_sqft&#x27;, &#x27;sqft&#x27;]</pre></div></div></div><div class=\"sk-serial\"><div class=\"sk-item\"><div class=\"sk-estimator sk-toggleable\"><input class=\"sk-toggleable__control sk-hidden--visually\" id=\"sk-estimator-id-24\" type=\"checkbox\" ><label for=\"sk-estimator-id-24\" class=\"sk-toggleable__label sk-toggleable__label-arrow\">StandardScaler</label><div class=\"sk-toggleable__content\"><pre>StandardScaler()</pre></div></div></div></div></div></div><div class=\"sk-parallel-item\"><div class=\"sk-item\"><div class=\"sk-label-container\"><div class=\"sk-label sk-toggleable\"><input class=\"sk-toggleable__control sk-hidden--visually\" id=\"sk-estimator-id-25\" type=\"checkbox\" ><label for=\"sk-estimator-id-25\" class=\"sk-toggleable__label sk-toggleable__label-arrow\">bucketize</label><div class=\"sk-toggleable__content\"><pre>[&#x27;year_built&#x27;, &#x27;distance_to_home&#x27;, &#x27;lat_winz&#x27;, &#x27;long_winz&#x27;]</pre></div></div></div><div class=\"sk-serial\"><div class=\"sk-item\"><div class=\"sk-serial\"><div class=\"sk-item\"><div class=\"sk-estimator sk-toggleable\"><input class=\"sk-toggleable__control sk-hidden--visually\" id=\"sk-estimator-id-26\" type=\"checkbox\" ><label for=\"sk-estimator-id-26\" class=\"sk-toggleable__label sk-toggleable__label-arrow\">SimpleImputer</label><div class=\"sk-toggleable__content\"><pre>SimpleImputer()</pre></div></div></div><div class=\"sk-item\"><div class=\"sk-estimator sk-toggleable\"><input class=\"sk-toggleable__control sk-hidden--visually\" id=\"sk-estimator-id-27\" type=\"checkbox\" ><label for=\"sk-estimator-id-27\" class=\"sk-toggleable__label sk-toggleable__label-arrow\">KBinsDiscretizer</label><div class=\"sk-toggleable__content\"><pre>KBinsDiscretizer(n_bins=20, strategy=&#x27;uniform&#x27;)</pre></div></div></div></div></div></div></div></div><div class=\"sk-parallel-item\"><div class=\"sk-item\"><div class=\"sk-label-container\"><div class=\"sk-label sk-toggleable\"><input class=\"sk-toggleable__control sk-hidden--visually\" id=\"sk-estimator-id-28\" type=\"checkbox\" ><label for=\"sk-estimator-id-28\" class=\"sk-toggleable__label sk-toggleable__label-arrow\">dummy</label><div class=\"sk-toggleable__content\"><pre>[&#x27;baths_full&#x27;, &#x27;baths_3qtr&#x27;, &#x27;baths_half&#x27;, &#x27;baths_1qtr&#x27;, &#x27;garage&#x27;, &#x27;stories&#x27;, &#x27;beds&#x27;]</pre></div></div></div><div class=\"sk-serial\"><div class=\"sk-item\"><div class=\"sk-estimator sk-toggleable\"><input class=\"sk-toggleable__control sk-hidden--visually\" id=\"sk-estimator-id-29\" type=\"checkbox\" ><label for=\"sk-estimator-id-29\" class=\"sk-toggleable__label sk-toggleable__label-arrow\">OneHotEncoder</label><div class=\"sk-toggleable__content\"><pre>OneHotEncoder(handle_unknown=&#x27;ignore&#x27;, sparse_output=False)</pre></div></div></div></div></div></div><div class=\"sk-parallel-item\"><div class=\"sk-item\"><div class=\"sk-label-container\"><div class=\"sk-label sk-toggleable\"><input class=\"sk-toggleable__control sk-hidden--visually\" id=\"sk-estimator-id-30\" type=\"checkbox\" ><label for=\"sk-estimator-id-30\" class=\"sk-toggleable__label sk-toggleable__label-arrow\">walkscore_mm</label><div class=\"sk-toggleable__content\"><pre>[&#x27;walk_score&#x27;]</pre></div></div></div><div class=\"sk-serial\"><div class=\"sk-item\"><div class=\"sk-serial\"><div class=\"sk-item\"><div class=\"sk-estimator sk-toggleable\"><input class=\"sk-toggleable__control sk-hidden--visually\" id=\"sk-estimator-id-31\" type=\"checkbox\" ><label for=\"sk-estimator-id-31\" class=\"sk-toggleable__label sk-toggleable__label-arrow\">SimpleImputer</label><div class=\"sk-toggleable__content\"><pre>SimpleImputer()</pre></div></div></div><div class=\"sk-item\"><div class=\"sk-estimator sk-toggleable\"><input class=\"sk-toggleable__control sk-hidden--visually\" id=\"sk-estimator-id-32\" type=\"checkbox\" ><label for=\"sk-estimator-id-32\" class=\"sk-toggleable__label sk-toggleable__label-arrow\">MinMaxScaler</label><div class=\"sk-toggleable__content\"><pre>MinMaxScaler()</pre></div></div></div></div></div></div></div></div><div class=\"sk-parallel-item\"><div class=\"sk-item\"><div class=\"sk-label-container\"><div class=\"sk-label sk-toggleable\"><input class=\"sk-toggleable__control sk-hidden--visually\" id=\"sk-estimator-id-33\" type=\"checkbox\" ><label for=\"sk-estimator-id-33\" class=\"sk-toggleable__label sk-toggleable__label-arrow\">walkscore_ss</label><div class=\"sk-toggleable__content\"><pre>[&#x27;walk_score&#x27;]</pre></div></div></div><div class=\"sk-serial\"><div class=\"sk-item\"><div class=\"sk-serial\"><div class=\"sk-item\"><div class=\"sk-estimator sk-toggleable\"><input class=\"sk-toggleable__control sk-hidden--visually\" id=\"sk-estimator-id-34\" type=\"checkbox\" ><label for=\"sk-estimator-id-34\" class=\"sk-toggleable__label sk-toggleable__label-arrow\">SimpleImputer</label><div class=\"sk-toggleable__content\"><pre>SimpleImputer()</pre></div></div></div><div class=\"sk-item\"><div class=\"sk-estimator sk-toggleable\"><input class=\"sk-toggleable__control sk-hidden--visually\" id=\"sk-estimator-id-35\" type=\"checkbox\" ><label for=\"sk-estimator-id-35\" class=\"sk-toggleable__label sk-toggleable__label-arrow\">StandardScaler</label><div class=\"sk-toggleable__content\"><pre>StandardScaler()</pre></div></div></div></div></div></div></div></div></div></div><div class=\"sk-item sk-dashed-wrapped\"><div class=\"sk-label-container\"><div class=\"sk-label sk-toggleable\"><input class=\"sk-toggleable__control sk-hidden--visually\" id=\"sk-estimator-id-36\" type=\"checkbox\" ><label for=\"sk-estimator-id-36\" class=\"sk-toggleable__label sk-toggleable__label-arrow\">keras_model: KerasModel</label><div class=\"sk-toggleable__content\"><pre>KerasModel(load_model_if_available=False, save_model=True,\n",
       "           target_transformer=StandardScaler(),\n",
       "           user_home={&#x27;_id&#x27;: &#x27;addr:1897471296&#x27;, &#x27;_score&#x27;: 10212.058,\n",
       "                      &#x27;area_type&#x27;: &#x27;address&#x27;,\n",
       "                      &#x27;centroid&#x27;: {&#x27;lat&#x27;: 47.572613, &#x27;lon&#x27;: -122.306358},\n",
       "                      &#x27;city&#x27;: &#x27;Seattle&#x27;, &#x27;country&#x27;: &#x27;USA&#x27;,\n",
       "                      &#x27;full_address&#x27;: [&#x27;3416 19th Ave S Seattle WA 98144&#x27;,\n",
       "                                       &#x27;3416 19th Ave S Seattle WA&#x27;],\n",
       "                      &#x27;line&#x27;: &#x27;3416 19th Ave S&#x27;, &#x27;mpr_id&#x27;: &#x27;1897471296&#x27;,\n",
       "                      &#x27;postal_code&#x27;: &#x27;98144&#x27;,\n",
       "                      &#x27;prop_status&#x27;: [&#x27;recently_sold&#x27;, &#x27;off_market&#x27;],\n",
       "                      &#x27;property_id&#x27;: &#x27;1897471296&#x27;, &#x27;state_code&#x27;: &#x27;WA&#x27;,\n",
       "                      &#x27;validation_code&#x27;: [&#x27;121&#x27;]})</pre></div></div></div><div class=\"sk-parallel\"><div class=\"sk-parallel-item\"><div class=\"sk-item\"><div class=\"sk-label-container\"><div class=\"sk-label sk-toggleable\"><input class=\"sk-toggleable__control sk-hidden--visually\" id=\"sk-estimator-id-37\" type=\"checkbox\" ><label for=\"sk-estimator-id-37\" class=\"sk-toggleable__label sk-toggleable__label-arrow\">target_transformer: StandardScaler</label><div class=\"sk-toggleable__content\"><pre>StandardScaler()</pre></div></div></div><div class=\"sk-serial\"><div class=\"sk-item\"><div class=\"sk-estimator sk-toggleable\"><input class=\"sk-toggleable__control sk-hidden--visually\" id=\"sk-estimator-id-38\" type=\"checkbox\" ><label for=\"sk-estimator-id-38\" class=\"sk-toggleable__label sk-toggleable__label-arrow\">StandardScaler</label><div class=\"sk-toggleable__content\"><pre>StandardScaler()</pre></div></div></div></div></div></div></div></div></div></div></div></div>"
      ],
      "text/plain": [
       "Pipeline(steps=[('to_data_frame', ToDataFrame()),\n",
       "                ('preprocess',\n",
       "                 ColumnTransformer(transformers=[('normalize', StandardScaler(),\n",
       "                                                  ['lot_sqft', 'sqft']),\n",
       "                                                 ('bucketize',\n",
       "                                                  Pipeline(steps=[('impute',\n",
       "                                                                   SimpleImputer()),\n",
       "                                                                  ('bucketize',\n",
       "                                                                   KBinsDiscretizer(n_bins=20,\n",
       "                                                                                    strategy='uniform'))]),\n",
       "                                                  ['year_built',\n",
       "                                                   'distance_to_home',\n",
       "                                                   'lat_winz', 'long_winz']),\n",
       "                                                 ('dummy',\n",
       "                                                  OneHotEncoder(handl...\n",
       "                                       'area_type': 'address',\n",
       "                                       'centroid': {'lat': 47.572613,\n",
       "                                                    'lon': -122.306358},\n",
       "                                       'city': 'Seattle', 'country': 'USA',\n",
       "                                       'full_address': ['3416 19th Ave S '\n",
       "                                                        'Seattle WA 98144',\n",
       "                                                        '3416 19th Ave S '\n",
       "                                                        'Seattle WA'],\n",
       "                                       'line': '3416 19th Ave S',\n",
       "                                       'mpr_id': '1897471296',\n",
       "                                       'postal_code': '98144',\n",
       "                                       'prop_status': ['recently_sold',\n",
       "                                                       'off_market'],\n",
       "                                       'property_id': '1897471296',\n",
       "                                       'state_code': 'WA',\n",
       "                                       'validation_code': ['121']}))])"
      ]
     },
     "execution_count": 5,
     "metadata": {},
     "output_type": "execute_result"
    }
   ],
   "source": [
    "# This is the whole data set\n",
    "target_transformer = StandardScaler()\n",
    "train_targets = target_transformer.fit_transform(np.array(fg.targets).reshape(-1,1))\n",
    "train_features = fg.features\n",
    "\n",
    "normalize_cols = ['lot_sqft', 'sqft']\n",
    "bucketize_cols = ['year_built', 'distance_to_home', 'lat_winz', 'long_winz']\n",
    "walk_score = ['walk_score']\n",
    "dummy_cols = ['baths_full', 'baths_3qtr', 'baths_half', 'baths_1qtr', 'garage', 'stories', 'beds']\n",
    "\n",
    "preprocess_data = ColumnTransformer(\n",
    "    [\n",
    "        ('normalize', StandardScaler(), normalize_cols),\n",
    "        ('bucketize', preprocess_bucketize_col, bucketize_cols),\n",
    "        ('dummy', OneHotEncoder(sparse_output=False, handle_unknown='ignore'), dummy_cols),\n",
    "        ('walkscore_mm', preprocess_min_max_cols, walk_score),\n",
    "        ('walkscore_ss', preprocess_standard_scaler_cols, walk_score)\n",
    "    ]\n",
    ")\n",
    "\n",
    "keras_pipeline = Pipeline(\n",
    "    [\n",
    "        ('to_data_frame', ToDataFrame()),\n",
    "        ('preprocess', preprocess_data),\n",
    "        ('keras_model', BHU.KerasModel(user_home, target_transformer))\n",
    "    ]\n",
    ")\n",
    "\n",
    "keras_pipeline.set_params(**{\n",
    "    'keras_model__load_model_if_available' : False,\n",
    "    'keras_model__update_model' : False,\n",
    "    'keras_model__save_model' : True,\n",
    "    'preprocess__bucketize__bucketize__n_bins' : 20\n",
    "})\n",
    "\n",
    "keras_pipeline.fit(train_features, train_targets)"
   ]
  },
  {
   "cell_type": "code",
   "execution_count": 6,
   "metadata": {},
   "outputs": [
    {
     "name": "stdout",
     "output_type": "stream",
     "text": [
      "1/1 [==============================] - 0s 66ms/step\n"
     ]
    },
    {
     "data": {
      "text/plain": [
       "(686129.44, 972500)"
      ]
     },
     "execution_count": 6,
     "metadata": {},
     "output_type": "execute_result"
    }
   ],
   "source": [
    "user_pred = keras_pipeline.predict(fg.user_features)\n",
    "user_pred[0][0], fg.user_target"
   ]
  },
  {
   "cell_type": "code",
   "execution_count": 62,
   "metadata": {},
   "outputs": [],
   "source": [
    "#user_home_details['data']['property_detail']['price_history']\n",
    "#user_home_details['data']['property_detail']['forwarded_mpr_ids']\n",
    "#isinstance(user_home_details['data']['property_detail']['forwarded_mpr_ids'][0], str)"
   ]
  },
  {
   "cell_type": "code",
   "execution_count": 16,
   "metadata": {},
   "outputs": [],
   "source": [
    "from BHU.API_Calls import get_PropertyValue\n",
    "tt = get_PropertyValue('1897471296')"
   ]
  },
  {
   "cell_type": "code",
   "execution_count": 65,
   "metadata": {},
   "outputs": [
    {
     "data": {
      "text/plain": [
       "[{'estimates': [{'estimate': 948878, 'date': '2023-02-01'},\n",
       "   {'estimate': 951817, 'date': '2023-03-01'},\n",
       "   {'estimate': 957236, 'date': '2023-04-01'},\n",
       "   {'estimate': 964549, 'date': '2023-05-01'},\n",
       "   {'estimate': 973404, 'date': '2023-06-01'},\n",
       "   {'estimate': 980898, 'date': '2023-07-01'},\n",
       "   {'estimate': 987120, 'date': '2023-08-01'},\n",
       "   {'estimate': 992085, 'date': '2023-09-01'},\n",
       "   {'estimate': 996012, 'date': '2023-10-01'},\n",
       "   {'estimate': 999444, 'date': '2023-11-01'}],\n",
       "  'source': {'type': 'corelogic', 'name': 'CoreLogic®'}},\n",
       " {'estimates': [{'estimate': 903444, 'date': '2023-02-01'},\n",
       "   {'estimate': 903181, 'date': '2023-03-01'},\n",
       "   {'estimate': 903451, 'date': '2023-04-01'},\n",
       "   {'estimate': 903995, 'date': '2023-05-01'},\n",
       "   {'estimate': 904681, 'date': '2023-06-01'},\n",
       "   {'estimate': 905434, 'date': '2023-07-01'},\n",
       "   {'estimate': 906215, 'date': '2023-08-01'},\n",
       "   {'estimate': 907004, 'date': '2023-09-01'},\n",
       "   {'estimate': 907789, 'date': '2023-10-01'},\n",
       "   {'estimate': 908566, 'date': '2023-11-01'}],\n",
       "  'source': {'type': 'quantarium', 'name': 'Quantarium'}},\n",
       " {'estimates': [{'estimate': 974416, 'date': '2023-02-01'},\n",
       "   {'estimate': 976831, 'date': '2023-03-01'},\n",
       "   {'estimate': 979247, 'date': '2023-04-01'},\n",
       "   {'estimate': 981734, 'date': '2023-05-01'},\n",
       "   {'estimate': 984222, 'date': '2023-06-01'},\n",
       "   {'estimate': 986710, 'date': '2023-07-01'},\n",
       "   {'estimate': 989186, 'date': '2023-08-01'},\n",
       "   {'estimate': 991662, 'date': '2023-09-01'},\n",
       "   {'estimate': 994138, 'date': '2023-10-01'},\n",
       "   {'estimate': 996480, 'date': '2023-11-01'}],\n",
       "  'source': {'type': 'collateral', 'name': 'Collateral Analytics'}}]"
      ]
     },
     "execution_count": 65,
     "metadata": {},
     "output_type": "execute_result"
    }
   ],
   "source": [
    "tt['data']['forecast_values']"
   ]
  },
  {
   "cell_type": "code",
   "execution_count": 6,
   "metadata": {},
   "outputs": [
    {
     "name": "stdout",
     "output_type": "stream",
     "text": [
      "1/1 [==============================] - 0s 25ms/step\n"
     ]
    },
    {
     "data": {
      "text/plain": [
       "array([[1109256.5]], dtype=float32)"
      ]
     },
     "execution_count": 6,
     "metadata": {},
     "output_type": "execute_result"
    }
   ],
   "source": [
    "xx = fg.user_features.copy()\n",
    "xx['baths_half'] += 1\n",
    "\n",
    "new_worth = keras_pipeline.predict(xx)\n",
    "new_worth"
   ]
  },
  {
   "cell_type": "code",
   "execution_count": 14,
   "metadata": {},
   "outputs": [
    {
     "data": {
      "text/plain": [
       "array([[1.0274155]], dtype=float32)"
      ]
     },
     "execution_count": 14,
     "metadata": {},
     "output_type": "execute_result"
    }
   ],
   "source": [
    "worth_change_ratio = new_worth / user_pred\n",
    "worth_change_ratio"
   ]
  },
  {
   "cell_type": "code",
   "execution_count": 15,
   "metadata": {},
   "outputs": [
    {
     "data": {
      "text/plain": [
       "array([[999161.58735752]])"
      ]
     },
     "execution_count": 15,
     "metadata": {},
     "output_type": "execute_result"
    }
   ],
   "source": [
    "new_worth_to_user = worth_change_ratio * fg.user_target\n",
    "new_worth_to_user"
   ]
  },
  {
   "cell_type": "code",
   "execution_count": 16,
   "metadata": {},
   "outputs": [
    {
     "data": {
      "text/plain": [
       "array([[26661.58735752]])"
      ]
     },
     "execution_count": 16,
     "metadata": {},
     "output_type": "execute_result"
    }
   ],
   "source": [
    "worth_delta = new_worth_to_user - fg.user_target\n",
    "worth_delta"
   ]
  },
  {
   "cell_type": "code",
   "execution_count": 3,
   "metadata": {},
   "outputs": [
    {
     "name": "stderr",
     "output_type": "stream",
     "text": [
      "2023-03-10 17:06:46.725418: W tensorflow/core/util/tensor_slice_reader.cc:96] Could not open ram://3334748c73d14f38a219b73400871d90: INVALID_ARGUMENT: ram://3334748c73d14f38a219b73400871d90 is a directory.\n"
     ]
    }
   ],
   "source": [
    "import pickle\n",
    "fn = f'BHU/Saved Results/KerasModel/Seattle_WA.pkl'\n",
    "\n",
    "with open(fn, 'rb') as f:\n",
    "    xx = pickle.load(f)"
   ]
  },
  {
   "cell_type": "code",
   "execution_count": 7,
   "metadata": {},
   "outputs": [
    {
     "name": "stdout",
     "output_type": "stream",
     "text": [
      "hi\n"
     ]
    }
   ],
   "source": [
    "if True and not False:\n",
    "    print('hi')"
   ]
  },
  {
   "cell_type": "code",
   "execution_count": 11,
   "metadata": {},
   "outputs": [
    {
     "name": "stdout",
     "output_type": "stream",
     "text": [
      "True\n"
     ]
    }
   ],
   "source": [
    "print(True)"
   ]
  },
  {
   "cell_type": "code",
   "execution_count": 6,
   "metadata": {},
   "outputs": [],
   "source": [
    "wsl = [x.walk_score for x in fg.houses]"
   ]
  },
  {
   "cell_type": "code",
   "execution_count": null,
   "metadata": {},
   "outputs": [],
   "source": []
  }
 ],
 "metadata": {
  "kernelspec": {
   "display_name": "Python 3",
   "language": "python",
   "name": "python3"
  },
  "language_info": {
   "codemirror_mode": {
    "name": "ipython",
    "version": 3
   },
   "file_extension": ".py",
   "mimetype": "text/x-python",
   "name": "python",
   "nbconvert_exporter": "python",
   "pygments_lexer": "ipython3",
   "version": "3.10.8"
  },
  "orig_nbformat": 4,
  "vscode": {
   "interpreter": {
    "hash": "aee8b7b246df8f9039afb4144a1f6fd8d2ca17a180786b69acc140d282b71a49"
   }
  }
 },
 "nbformat": 4,
 "nbformat_minor": 2
}
